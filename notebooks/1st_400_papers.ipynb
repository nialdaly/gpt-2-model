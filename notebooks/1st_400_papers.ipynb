{
 "cells": [
  {
   "cell_type": "code",
   "execution_count": 1,
   "metadata": {
    "collapsed": true
   },
   "outputs": [],
   "source": [
    "from bs4 import BeautifulSoup\n",
    "from html.parser import HTMLParser\n",
    "import pandas as pd\n",
    "import re\n",
    "import tika\n",
    "from tika import parser\n",
    "import requests"
   ]
  },
  {
   "cell_type": "code",
   "execution_count": 3,
   "metadata": {},
   "outputs": [
    {
     "data": {
      "text/html": [
       "<div>\n",
       "<style scoped>\n",
       "    .dataframe tbody tr th:only-of-type {\n",
       "        vertical-align: middle;\n",
       "    }\n",
       "\n",
       "    .dataframe tbody tr th {\n",
       "        vertical-align: top;\n",
       "    }\n",
       "\n",
       "    .dataframe thead th {\n",
       "        text-align: right;\n",
       "    }\n",
       "</style>\n",
       "<table border=\"1\" class=\"dataframe\">\n",
       "  <thead>\n",
       "    <tr style=\"text-align: right;\">\n",
       "      <th></th>\n",
       "      <th>dataset</th>\n",
       "      <th>extradata</th>\n",
       "      <th>global_rank</th>\n",
       "      <th>metric_name</th>\n",
       "      <th>metric_value</th>\n",
       "      <th>model</th>\n",
       "      <th>remove</th>\n",
       "      <th>task</th>\n",
       "      <th>paper_title</th>\n",
       "      <th>paper_path</th>\n",
       "      <th>paper_url</th>\n",
       "      <th>paper_abs</th>\n",
       "    </tr>\n",
       "  </thead>\n",
       "  <tbody>\n",
       "    <tr>\n",
       "      <th>300</th>\n",
       "      <td>PROMISE 2012</td>\n",
       "      <td>NaN</td>\n",
       "      <td># 2</td>\n",
       "      <td>Dice Score</td>\n",
       "      <td>0.78</td>\n",
       "      <td>Fully-connected CRF</td>\n",
       "      <td>-</td>\n",
       "      <td>Volumetric Medical Image Segmentation</td>\n",
       "      <td>Conditional Random Fields as Recurrent Neural ...</td>\n",
       "      <td>/paper/conditional-random-fields-as-recurrent-...</td>\n",
       "      <td>https://arxiv.org/pdf/1807.07464v1.pdf</td>\n",
       "      <td>https://arxiv.org/abs/1807.07464v1.pdf</td>\n",
       "    </tr>\n",
       "  </tbody>\n",
       "</table>\n",
       "</div>"
      ],
      "text/plain": [
       "          dataset  extradata global_rank metric_name metric_value  \\\n",
       "300  PROMISE 2012        NaN         # 2  Dice Score         0.78   \n",
       "\n",
       "                   model remove                                   task  \\\n",
       "300  Fully-connected CRF      -  Volumetric Medical Image Segmentation   \n",
       "\n",
       "                                           paper_title  \\\n",
       "300  Conditional Random Fields as Recurrent Neural ...   \n",
       "\n",
       "                                            paper_path  \\\n",
       "300  /paper/conditional-random-fields-as-recurrent-...   \n",
       "\n",
       "                                  paper_url  \\\n",
       "300  https://arxiv.org/pdf/1807.07464v1.pdf   \n",
       "\n",
       "                                  paper_abs  \n",
       "300  https://arxiv.org/abs/1807.07464v1.pdf  "
      ]
     },
     "execution_count": 3,
     "metadata": {},
     "output_type": "execute_result"
    }
   ],
   "source": [
    "df = pd.read_csv('../data/pw_code_model_data.csv', encoding='latin-1')\n",
    "\n",
    "# drop duplicate papers\n",
    "df = df.drop_duplicates(subset='paper_url')\n",
    "\n",
    "df = df[df['paper_url'].str.contains(\"arxiv\")]\n",
    "\n",
    "df = df.reset_index(drop=True)\n",
    "\n",
    "df['paper_abs'] = df.paper_url.str.replace('/pdf', '/abs')\n",
    "\n",
    "df_400 = df[300:400]\n",
    "\n",
    "df_400.head(1)"
   ]
  },
  {
   "cell_type": "markdown",
   "metadata": {},
   "source": [
    "## Extract paper abstracts and text"
   ]
  },
  {
   "cell_type": "code",
   "execution_count": 4,
   "metadata": {
    "scrolled": true
   },
   "outputs": [
    {
     "name": "stdout",
     "output_type": "stream",
     "text": [
      "https://arxiv.org/abs/1807.07464v1.pdf 300\n"
     ]
    },
    {
     "name": "stderr",
     "output_type": "stream",
     "text": [
      "2019-06-19 18:53:43,953 [MainThread  ] [INFO ]  Retrieving https://arxiv.org/pdf/1807.07464v1.pdf to /var/folders/1x/nph4r0452v1dk6t51bknf9080000gn/T/https-arxiv-org-pdf-1807-07464v1-pdf.\n"
     ]
    },
    {
     "name": "stdout",
     "output_type": "stream",
     "text": [
      "https://arxiv.org/abs/1903.02271v1.pdf 301\n"
     ]
    },
    {
     "name": "stderr",
     "output_type": "stream",
     "text": [
      "2019-06-19 18:53:48,081 [MainThread  ] [INFO ]  Retrieving https://arxiv.org/pdf/1903.02271v1.pdf to /var/folders/1x/nph4r0452v1dk6t51bknf9080000gn/T/https-arxiv-org-pdf-1903-02271v1-pdf.\n"
     ]
    },
    {
     "name": "stdout",
     "output_type": "stream",
     "text": [
      "https://arxiv.org/abs/1803.02735v1.pdf 302\n"
     ]
    },
    {
     "name": "stderr",
     "output_type": "stream",
     "text": [
      "2019-06-19 18:54:08,499 [MainThread  ] [INFO ]  Retrieving https://arxiv.org/pdf/1803.02735v1.pdf to /var/folders/1x/nph4r0452v1dk6t51bknf9080000gn/T/https-arxiv-org-pdf-1803-02735v1-pdf.\n"
     ]
    },
    {
     "name": "stdout",
     "output_type": "stream",
     "text": [
      "https://arxiv.org/abs/1805.07071v2.pdf 303\n"
     ]
    },
    {
     "name": "stderr",
     "output_type": "stream",
     "text": [
      "2019-06-19 18:54:26,555 [MainThread  ] [INFO ]  Retrieving https://arxiv.org/pdf/1805.07071v2.pdf to /var/folders/1x/nph4r0452v1dk6t51bknf9080000gn/T/https-arxiv-org-pdf-1805-07071v2-pdf.\n"
     ]
    },
    {
     "name": "stdout",
     "output_type": "stream",
     "text": [
      "https://arxiv.org/abs/1610.08613v2.pdf 304\n"
     ]
    },
    {
     "name": "stderr",
     "output_type": "stream",
     "text": [
      "2019-06-19 18:54:40,522 [MainThread  ] [INFO ]  Retrieving https://arxiv.org/pdf/1610.08613v2.pdf to /var/folders/1x/nph4r0452v1dk6t51bknf9080000gn/T/https-arxiv-org-pdf-1610-08613v2-pdf.\n"
     ]
    },
    {
     "name": "stdout",
     "output_type": "stream",
     "text": [
      "https://arxiv.org/abs/1706.02263v2.pdf 305\n"
     ]
    },
    {
     "name": "stderr",
     "output_type": "stream",
     "text": [
      "2019-06-19 18:54:42,913 [MainThread  ] [INFO ]  Retrieving https://arxiv.org/pdf/1706.02263v2.pdf to /var/folders/1x/nph4r0452v1dk6t51bknf9080000gn/T/https-arxiv-org-pdf-1706-02263v2-pdf.\n"
     ]
    },
    {
     "name": "stdout",
     "output_type": "stream",
     "text": [
      "https://arxiv.org/abs/1612.02287v3.pdf 306\n"
     ]
    },
    {
     "name": "stderr",
     "output_type": "stream",
     "text": [
      "2019-06-19 18:54:46,457 [MainThread  ] [INFO ]  Retrieving https://arxiv.org/pdf/1612.02287v3.pdf to /var/folders/1x/nph4r0452v1dk6t51bknf9080000gn/T/https-arxiv-org-pdf-1612-02287v3-pdf.\n"
     ]
    },
    {
     "name": "stdout",
     "output_type": "stream",
     "text": [
      "https://arxiv.org/abs/1411.6067v2.pdf 307\n"
     ]
    },
    {
     "name": "stderr",
     "output_type": "stream",
     "text": [
      "2019-06-19 18:54:54,510 [MainThread  ] [INFO ]  Retrieving https://arxiv.org/pdf/1411.6067v2.pdf to /var/folders/1x/nph4r0452v1dk6t51bknf9080000gn/T/https-arxiv-org-pdf-1411-6067v2-pdf.\n"
     ]
    },
    {
     "name": "stdout",
     "output_type": "stream",
     "text": [
      "https://arxiv.org/abs/1808.08644v1.pdf 308\n"
     ]
    },
    {
     "name": "stderr",
     "output_type": "stream",
     "text": [
      "2019-06-19 18:55:10,125 [MainThread  ] [INFO ]  Retrieving https://arxiv.org/pdf/1808.08644v1.pdf to /var/folders/1x/nph4r0452v1dk6t51bknf9080000gn/T/https-arxiv-org-pdf-1808-08644v1-pdf.\n"
     ]
    },
    {
     "name": "stdout",
     "output_type": "stream",
     "text": [
      "https://arxiv.org/abs/1903.08094v2.pdf 309\n"
     ]
    },
    {
     "name": "stderr",
     "output_type": "stream",
     "text": [
      "2019-06-19 18:55:13,257 [MainThread  ] [INFO ]  Retrieving https://arxiv.org/pdf/1903.08094v2.pdf to /var/folders/1x/nph4r0452v1dk6t51bknf9080000gn/T/https-arxiv-org-pdf-1903-08094v2-pdf.\n"
     ]
    },
    {
     "name": "stdout",
     "output_type": "stream",
     "text": [
      "https://arxiv.org/abs/1811.11374v1.pdf 310\n"
     ]
    },
    {
     "name": "stderr",
     "output_type": "stream",
     "text": [
      "2019-06-19 18:55:32,821 [MainThread  ] [INFO ]  Retrieving https://arxiv.org/pdf/1811.11374v1.pdf to /var/folders/1x/nph4r0452v1dk6t51bknf9080000gn/T/https-arxiv-org-pdf-1811-11374v1-pdf.\n"
     ]
    },
    {
     "name": "stdout",
     "output_type": "stream",
     "text": [
      "https://arxiv.org/abs/1703.01780v6.pdf 311\n"
     ]
    },
    {
     "name": "stderr",
     "output_type": "stream",
     "text": [
      "2019-06-19 18:55:37,253 [MainThread  ] [INFO ]  Retrieving https://arxiv.org/pdf/1703.01780v6.pdf to /var/folders/1x/nph4r0452v1dk6t51bknf9080000gn/T/https-arxiv-org-pdf-1703-01780v6-pdf.\n"
     ]
    },
    {
     "name": "stdout",
     "output_type": "stream",
     "text": [
      "https://arxiv.org/abs/1810.11408v2.pdf 312\n"
     ]
    },
    {
     "name": "stderr",
     "output_type": "stream",
     "text": [
      "2019-06-19 18:55:41,256 [MainThread  ] [INFO ]  Retrieving https://arxiv.org/pdf/1810.11408v2.pdf to /var/folders/1x/nph4r0452v1dk6t51bknf9080000gn/T/https-arxiv-org-pdf-1810-11408v2-pdf.\n"
     ]
    },
    {
     "name": "stdout",
     "output_type": "stream",
     "text": [
      "https://arxiv.org/abs/1511.05234v2.pdf 313\n"
     ]
    },
    {
     "name": "stderr",
     "output_type": "stream",
     "text": [
      "2019-06-19 18:55:47,462 [MainThread  ] [INFO ]  Retrieving https://arxiv.org/pdf/1511.05234v2.pdf to /var/folders/1x/nph4r0452v1dk6t51bknf9080000gn/T/https-arxiv-org-pdf-1511-05234v2-pdf.\n"
     ]
    },
    {
     "name": "stdout",
     "output_type": "stream",
     "text": [
      "https://arxiv.org/abs/1810.07599v1.pdf 314\n"
     ]
    },
    {
     "name": "stderr",
     "output_type": "stream",
     "text": [
      "2019-06-19 18:56:01,303 [MainThread  ] [INFO ]  Retrieving https://arxiv.org/pdf/1810.07599v1.pdf to /var/folders/1x/nph4r0452v1dk6t51bknf9080000gn/T/https-arxiv-org-pdf-1810-07599v1-pdf.\n"
     ]
    },
    {
     "name": "stdout",
     "output_type": "stream",
     "text": [
      "https://arxiv.org/abs/1809.06079v1.pdf 315\n"
     ]
    },
    {
     "name": "stderr",
     "output_type": "stream",
     "text": [
      "2019-06-19 18:56:05,630 [MainThread  ] [INFO ]  Retrieving https://arxiv.org/pdf/1809.06079v1.pdf to /var/folders/1x/nph4r0452v1dk6t51bknf9080000gn/T/https-arxiv-org-pdf-1809-06079v1-pdf.\n"
     ]
    },
    {
     "name": "stdout",
     "output_type": "stream",
     "text": [
      "https://arxiv.org/abs/1802.10508v1.pdf 316\n"
     ]
    },
    {
     "name": "stderr",
     "output_type": "stream",
     "text": [
      "2019-06-19 18:56:08,605 [MainThread  ] [INFO ]  Retrieving https://arxiv.org/pdf/1802.10508v1.pdf to /var/folders/1x/nph4r0452v1dk6t51bknf9080000gn/T/https-arxiv-org-pdf-1802-10508v1-pdf.\n"
     ]
    },
    {
     "name": "stdout",
     "output_type": "stream",
     "text": [
      "https://arxiv.org/abs/1511.06645v2.pdf 317\n"
     ]
    },
    {
     "name": "stderr",
     "output_type": "stream",
     "text": [
      "2019-06-19 18:56:12,683 [MainThread  ] [INFO ]  Retrieving https://arxiv.org/pdf/1511.06645v2.pdf to /var/folders/1x/nph4r0452v1dk6t51bknf9080000gn/T/https-arxiv-org-pdf-1511-06645v2-pdf.\n"
     ]
    },
    {
     "name": "stdout",
     "output_type": "stream",
     "text": [
      "https://arxiv.org/abs/1703.06345v1.pdf 318\n"
     ]
    },
    {
     "name": "stderr",
     "output_type": "stream",
     "text": [
      "2019-06-19 18:56:28,369 [MainThread  ] [INFO ]  Retrieving https://arxiv.org/pdf/1703.06345v1.pdf to /var/folders/1x/nph4r0452v1dk6t51bknf9080000gn/T/https-arxiv-org-pdf-1703-06345v1-pdf.\n"
     ]
    },
    {
     "name": "stdout",
     "output_type": "stream",
     "text": [
      "https://arxiv.org/abs/1708.06519v1.pdf 319\n"
     ]
    },
    {
     "name": "stderr",
     "output_type": "stream",
     "text": [
      "2019-06-19 18:56:31,824 [MainThread  ] [INFO ]  Retrieving https://arxiv.org/pdf/1708.06519v1.pdf to /var/folders/1x/nph4r0452v1dk6t51bknf9080000gn/T/https-arxiv-org-pdf-1708-06519v1-pdf.\n"
     ]
    },
    {
     "name": "stdout",
     "output_type": "stream",
     "text": [
      "https://arxiv.org/abs/1312.3005v3.pdf 320\n"
     ]
    },
    {
     "name": "stderr",
     "output_type": "stream",
     "text": [
      "2019-06-19 18:56:35,915 [MainThread  ] [INFO ]  Retrieving https://arxiv.org/pdf/1312.3005v3.pdf to /var/folders/1x/nph4r0452v1dk6t51bknf9080000gn/T/https-arxiv-org-pdf-1312-3005v3-pdf.\n"
     ]
    },
    {
     "name": "stdout",
     "output_type": "stream",
     "text": [
      "https://arxiv.org/abs/1612.07828v2.pdf 321\n"
     ]
    },
    {
     "name": "stderr",
     "output_type": "stream",
     "text": [
      "2019-06-19 18:56:38,041 [MainThread  ] [INFO ]  Retrieving https://arxiv.org/pdf/1612.07828v2.pdf to /var/folders/1x/nph4r0452v1dk6t51bknf9080000gn/T/https-arxiv-org-pdf-1612-07828v2-pdf.\n"
     ]
    },
    {
     "name": "stdout",
     "output_type": "stream",
     "text": [
      "https://arxiv.org/abs/1805.07036v1.pdf 322\n"
     ]
    },
    {
     "name": "stderr",
     "output_type": "stream",
     "text": [
      "2019-06-19 18:56:44,353 [MainThread  ] [INFO ]  Retrieving https://arxiv.org/pdf/1805.07036v1.pdf to /var/folders/1x/nph4r0452v1dk6t51bknf9080000gn/T/https-arxiv-org-pdf-1805-07036v1-pdf.\n"
     ]
    },
    {
     "name": "stdout",
     "output_type": "stream",
     "text": [
      "https://arxiv.org/abs/1703.05165v2.pdf 323\n"
     ]
    },
    {
     "name": "stderr",
     "output_type": "stream",
     "text": [
      "2019-06-19 18:57:05,244 [MainThread  ] [INFO ]  Retrieving https://arxiv.org/pdf/1703.05165v2.pdf to /var/folders/1x/nph4r0452v1dk6t51bknf9080000gn/T/https-arxiv-org-pdf-1703-05165v2-pdf.\n"
     ]
    },
    {
     "name": "stdout",
     "output_type": "stream",
     "text": [
      "https://arxiv.org/abs/1904.06022v1.pdf 324\n"
     ]
    },
    {
     "name": "stderr",
     "output_type": "stream",
     "text": [
      "2019-06-19 18:57:08,342 [MainThread  ] [INFO ]  Retrieving https://arxiv.org/pdf/1904.06022v1.pdf to /var/folders/1x/nph4r0452v1dk6t51bknf9080000gn/T/https-arxiv-org-pdf-1904-06022v1-pdf.\n"
     ]
    },
    {
     "name": "stdout",
     "output_type": "stream",
     "text": [
      "https://arxiv.org/abs/1804.09466v1.pdf 325\n"
     ]
    },
    {
     "name": "stderr",
     "output_type": "stream",
     "text": [
      "2019-06-19 18:57:11,379 [MainThread  ] [INFO ]  Retrieving https://arxiv.org/pdf/1804.09466v1.pdf to /var/folders/1x/nph4r0452v1dk6t51bknf9080000gn/T/https-arxiv-org-pdf-1804-09466v1-pdf.\n"
     ]
    },
    {
     "name": "stdout",
     "output_type": "stream",
     "text": [
      "https://arxiv.org/abs/1804.02767v1.pdf 326\n"
     ]
    },
    {
     "name": "stderr",
     "output_type": "stream",
     "text": [
      "2019-06-19 18:57:17,980 [MainThread  ] [INFO ]  Retrieving https://arxiv.org/pdf/1804.02767v1.pdf to /var/folders/1x/nph4r0452v1dk6t51bknf9080000gn/T/https-arxiv-org-pdf-1804-02767v1-pdf.\n"
     ]
    },
    {
     "name": "stdout",
     "output_type": "stream",
     "text": [
      "https://arxiv.org/abs/1810.12894v1.pdf 327\n"
     ]
    },
    {
     "name": "stderr",
     "output_type": "stream",
     "text": [
      "2019-06-19 18:57:25,691 [MainThread  ] [INFO ]  Retrieving https://arxiv.org/pdf/1810.12894v1.pdf to /var/folders/1x/nph4r0452v1dk6t51bknf9080000gn/T/https-arxiv-org-pdf-1810-12894v1-pdf.\n"
     ]
    },
    {
     "name": "stdout",
     "output_type": "stream",
     "text": [
      "https://arxiv.org/abs/1810.10220v3.pdf 328\n"
     ]
    },
    {
     "name": "stderr",
     "output_type": "stream",
     "text": [
      "2019-06-19 18:57:33,393 [MainThread  ] [INFO ]  Retrieving https://arxiv.org/pdf/1810.10220v3.pdf to /var/folders/1x/nph4r0452v1dk6t51bknf9080000gn/T/https-arxiv-org-pdf-1810-10220v3-pdf.\n"
     ]
    },
    {
     "name": "stdout",
     "output_type": "stream",
     "text": [
      "https://arxiv.org/abs/1509.06461v3.pdf 329\n"
     ]
    },
    {
     "name": "stderr",
     "output_type": "stream",
     "text": [
      "2019-06-19 18:57:48,865 [MainThread  ] [INFO ]  Retrieving https://arxiv.org/pdf/1509.06461v3.pdf to /var/folders/1x/nph4r0452v1dk6t51bknf9080000gn/T/https-arxiv-org-pdf-1509-06461v3-pdf.\n"
     ]
    },
    {
     "name": "stdout",
     "output_type": "stream",
     "text": [
      "https://arxiv.org/abs/1712.01034v2.pdf 330\n"
     ]
    },
    {
     "name": "stderr",
     "output_type": "stream",
     "text": [
      "2019-06-19 18:57:52,533 [MainThread  ] [INFO ]  Retrieving https://arxiv.org/pdf/1712.01034v2.pdf to /var/folders/1x/nph4r0452v1dk6t51bknf9080000gn/T/https-arxiv-org-pdf-1712-01034v2-pdf.\n"
     ]
    },
    {
     "name": "stdout",
     "output_type": "stream",
     "text": [
      "https://arxiv.org/abs/1703.06870v3.pdf 331\n"
     ]
    },
    {
     "name": "stderr",
     "output_type": "stream",
     "text": [
      "2019-06-19 18:57:56,153 [MainThread  ] [INFO ]  Retrieving https://arxiv.org/pdf/1703.06870v3.pdf to /var/folders/1x/nph4r0452v1dk6t51bknf9080000gn/T/https-arxiv-org-pdf-1703-06870v3-pdf.\n"
     ]
    },
    {
     "name": "stdout",
     "output_type": "stream",
     "text": [
      "https://arxiv.org/abs/1710.06481v2.pdf 332\n"
     ]
    },
    {
     "name": "stderr",
     "output_type": "stream",
     "text": [
      "2019-06-19 18:58:13,220 [MainThread  ] [INFO ]  Retrieving https://arxiv.org/pdf/1710.06481v2.pdf to /var/folders/1x/nph4r0452v1dk6t51bknf9080000gn/T/https-arxiv-org-pdf-1710-06481v2-pdf.\n"
     ]
    },
    {
     "name": "stdout",
     "output_type": "stream",
     "text": [
      "https://arxiv.org/abs/1612.02130v2.pdf 333\n"
     ]
    },
    {
     "name": "stderr",
     "output_type": "stream",
     "text": [
      "2019-06-19 18:58:17,870 [MainThread  ] [INFO ]  Retrieving https://arxiv.org/pdf/1612.02130v2.pdf to /var/folders/1x/nph4r0452v1dk6t51bknf9080000gn/T/https-arxiv-org-pdf-1612-02130v2-pdf.\n"
     ]
    },
    {
     "name": "stdout",
     "output_type": "stream",
     "text": [
      "https://arxiv.org/abs/1904.03579v1.pdf 334\n"
     ]
    },
    {
     "name": "stderr",
     "output_type": "stream",
     "text": [
      "2019-06-19 18:58:21,072 [MainThread  ] [INFO ]  Retrieving https://arxiv.org/pdf/1904.03579v1.pdf to /var/folders/1x/nph4r0452v1dk6t51bknf9080000gn/T/https-arxiv-org-pdf-1904-03579v1-pdf.\n"
     ]
    },
    {
     "name": "stdout",
     "output_type": "stream",
     "text": [
      "https://arxiv.org/abs/1806.06098v1.pdf 335\n"
     ]
    },
    {
     "name": "stderr",
     "output_type": "stream",
     "text": [
      "2019-06-19 18:58:25,214 [MainThread  ] [INFO ]  Retrieving https://arxiv.org/pdf/1806.06098v1.pdf to /var/folders/1x/nph4r0452v1dk6t51bknf9080000gn/T/https-arxiv-org-pdf-1806-06098v1-pdf.\n"
     ]
    },
    {
     "name": "stdout",
     "output_type": "stream",
     "text": [
      "https://arxiv.org/abs/1412.6575v4.pdf 336\n"
     ]
    },
    {
     "name": "stderr",
     "output_type": "stream",
     "text": [
      "2019-06-19 18:58:46,221 [MainThread  ] [INFO ]  Retrieving https://arxiv.org/pdf/1412.6575v4.pdf to /var/folders/1x/nph4r0452v1dk6t51bknf9080000gn/T/https-arxiv-org-pdf-1412-6575v4-pdf.\n"
     ]
    },
    {
     "name": "stdout",
     "output_type": "stream",
     "text": [
      "https://arxiv.org/abs/1704.03165v3.pdf 337\n"
     ]
    },
    {
     "name": "stderr",
     "output_type": "stream",
     "text": [
      "2019-06-19 18:58:51,222 [MainThread  ] [INFO ]  Retrieving https://arxiv.org/pdf/1704.03165v3.pdf to /var/folders/1x/nph4r0452v1dk6t51bknf9080000gn/T/https-arxiv-org-pdf-1704-03165v3-pdf.\n"
     ]
    },
    {
     "name": "stdout",
     "output_type": "stream",
     "text": [
      "https://arxiv.org/abs/1612.06321v4.pdf 338\n"
     ]
    },
    {
     "name": "stderr",
     "output_type": "stream",
     "text": [
      "2019-06-19 18:58:58,266 [MainThread  ] [INFO ]  Retrieving https://arxiv.org/pdf/1612.06321v4.pdf to /var/folders/1x/nph4r0452v1dk6t51bknf9080000gn/T/https-arxiv-org-pdf-1612-06321v4-pdf.\n"
     ]
    },
    {
     "name": "stdout",
     "output_type": "stream",
     "text": [
      "https://arxiv.org/abs/1805.04174v1.pdf 339\n"
     ]
    },
    {
     "name": "stderr",
     "output_type": "stream",
     "text": [
      "2019-06-19 18:59:12,045 [MainThread  ] [INFO ]  Retrieving https://arxiv.org/pdf/1805.04174v1.pdf to /var/folders/1x/nph4r0452v1dk6t51bknf9080000gn/T/https-arxiv-org-pdf-1805-04174v1-pdf.\n"
     ]
    },
    {
     "name": "stdout",
     "output_type": "stream",
     "text": [
      "https://arxiv.org/abs/1611.01578v2.pdf 340\n"
     ]
    },
    {
     "name": "stderr",
     "output_type": "stream",
     "text": [
      "2019-06-19 18:59:22,356 [MainThread  ] [INFO ]  Retrieving https://arxiv.org/pdf/1611.01578v2.pdf to /var/folders/1x/nph4r0452v1dk6t51bknf9080000gn/T/https-arxiv-org-pdf-1611-01578v2-pdf.\n"
     ]
    },
    {
     "name": "stdout",
     "output_type": "stream",
     "text": [
      "https://arxiv.org/abs/1802.08797v2.pdf 341\n"
     ]
    },
    {
     "name": "stderr",
     "output_type": "stream",
     "text": [
      "2019-06-19 18:59:25,896 [MainThread  ] [INFO ]  Retrieving https://arxiv.org/pdf/1802.08797v2.pdf to /var/folders/1x/nph4r0452v1dk6t51bknf9080000gn/T/https-arxiv-org-pdf-1802-08797v2-pdf.\n"
     ]
    },
    {
     "name": "stdout",
     "output_type": "stream",
     "text": [
      "https://arxiv.org/abs/1612.04211v1.pdf 342\n"
     ]
    },
    {
     "name": "stderr",
     "output_type": "stream",
     "text": [
      "2019-06-19 18:59:31,934 [MainThread  ] [INFO ]  Retrieving https://arxiv.org/pdf/1612.04211v1.pdf to /var/folders/1x/nph4r0452v1dk6t51bknf9080000gn/T/https-arxiv-org-pdf-1612-04211v1-pdf.\n"
     ]
    },
    {
     "name": "stdout",
     "output_type": "stream",
     "text": [
      "https://arxiv.org/abs/1511.02583v1.pdf 343\n"
     ]
    },
    {
     "name": "stderr",
     "output_type": "stream",
     "text": [
      "2019-06-19 18:59:34,660 [MainThread  ] [INFO ]  Retrieving https://arxiv.org/pdf/1511.02583v1.pdf to /var/folders/1x/nph4r0452v1dk6t51bknf9080000gn/T/https-arxiv-org-pdf-1511-02583v1-pdf.\n"
     ]
    },
    {
     "name": "stdout",
     "output_type": "stream",
     "text": [
      "https://arxiv.org/abs/1708.02182v1.pdf 344\n"
     ]
    },
    {
     "name": "stderr",
     "output_type": "stream",
     "text": [
      "2019-06-19 18:59:38,016 [MainThread  ] [INFO ]  Retrieving https://arxiv.org/pdf/1708.02182v1.pdf to /var/folders/1x/nph4r0452v1dk6t51bknf9080000gn/T/https-arxiv-org-pdf-1708-02182v1-pdf.\n"
     ]
    },
    {
     "name": "stdout",
     "output_type": "stream",
     "text": [
      "https://arxiv.org/abs/1512.08422v3.pdf 345\n"
     ]
    },
    {
     "name": "stderr",
     "output_type": "stream",
     "text": [
      "2019-06-19 18:59:40,545 [MainThread  ] [INFO ]  Retrieving https://arxiv.org/pdf/1512.08422v3.pdf to /var/folders/1x/nph4r0452v1dk6t51bknf9080000gn/T/https-arxiv-org-pdf-1512-08422v3-pdf.\n"
     ]
    },
    {
     "name": "stdout",
     "output_type": "stream",
     "text": [
      "https://arxiv.org/abs/1803.07835v1.pdf 346\n"
     ]
    },
    {
     "name": "stderr",
     "output_type": "stream",
     "text": [
      "2019-06-19 18:59:43,298 [MainThread  ] [INFO ]  Retrieving https://arxiv.org/pdf/1803.07835v1.pdf to /var/folders/1x/nph4r0452v1dk6t51bknf9080000gn/T/https-arxiv-org-pdf-1803-07835v1-pdf.\n"
     ]
    },
    {
     "name": "stdout",
     "output_type": "stream",
     "text": [
      "https://arxiv.org/abs/1806.01501v1.pdf 347\n"
     ]
    },
    {
     "name": "stderr",
     "output_type": "stream",
     "text": [
      "2019-06-19 18:59:50,190 [MainThread  ] [INFO ]  Retrieving https://arxiv.org/pdf/1806.01501v1.pdf to /var/folders/1x/nph4r0452v1dk6t51bknf9080000gn/T/https-arxiv-org-pdf-1806-01501v1-pdf.\n"
     ]
    },
    {
     "name": "stdout",
     "output_type": "stream",
     "text": [
      "https://arxiv.org/abs/1804.03999v3.pdf 348\n"
     ]
    },
    {
     "name": "stderr",
     "output_type": "stream",
     "text": [
      "2019-06-19 18:59:53,335 [MainThread  ] [INFO ]  Retrieving https://arxiv.org/pdf/1804.03999v3.pdf to /var/folders/1x/nph4r0452v1dk6t51bknf9080000gn/T/https-arxiv-org-pdf-1804-03999v3-pdf.\n"
     ]
    },
    {
     "name": "stdout",
     "output_type": "stream",
     "text": [
      "https://arxiv.org/abs/1506.04579v2.pdf 349\n"
     ]
    },
    {
     "name": "stderr",
     "output_type": "stream",
     "text": [
      "2019-06-19 19:00:05,105 [MainThread  ] [INFO ]  Retrieving https://arxiv.org/pdf/1506.04579v2.pdf to /var/folders/1x/nph4r0452v1dk6t51bknf9080000gn/T/https-arxiv-org-pdf-1506-04579v2-pdf.\n"
     ]
    },
    {
     "name": "stdout",
     "output_type": "stream",
     "text": [
      "https://arxiv.org/abs/1803.00130v1.pdf 350\n"
     ]
    },
    {
     "name": "stderr",
     "output_type": "stream",
     "text": [
      "2019-06-19 19:00:14,549 [MainThread  ] [INFO ]  Retrieving https://arxiv.org/pdf/1803.00130v1.pdf to /var/folders/1x/nph4r0452v1dk6t51bknf9080000gn/T/https-arxiv-org-pdf-1803-00130v1-pdf.\n"
     ]
    },
    {
     "name": "stdout",
     "output_type": "stream",
     "text": [
      "https://arxiv.org/abs/1611.01722v2.pdf 351\n"
     ]
    },
    {
     "name": "stderr",
     "output_type": "stream",
     "text": [
      "2019-06-19 19:00:22,520 [MainThread  ] [INFO ]  Retrieving https://arxiv.org/pdf/1611.01722v2.pdf to /var/folders/1x/nph4r0452v1dk6t51bknf9080000gn/T/https-arxiv-org-pdf-1611-01722v2-pdf.\n"
     ]
    },
    {
     "name": "stdout",
     "output_type": "stream",
     "text": [
      "https://arxiv.org/abs/1612.02649v1.pdf 352\n"
     ]
    },
    {
     "name": "stderr",
     "output_type": "stream",
     "text": [
      "2019-06-19 19:00:28,403 [MainThread  ] [INFO ]  Retrieving https://arxiv.org/pdf/1612.02649v1.pdf to /var/folders/1x/nph4r0452v1dk6t51bknf9080000gn/T/https-arxiv-org-pdf-1612-02649v1-pdf.\n"
     ]
    },
    {
     "name": "stdout",
     "output_type": "stream",
     "text": [
      "https://arxiv.org/abs/1509.08985v2.pdf 353\n"
     ]
    },
    {
     "name": "stderr",
     "output_type": "stream",
     "text": [
      "2019-06-19 19:00:47,478 [MainThread  ] [INFO ]  Retrieving https://arxiv.org/pdf/1509.08985v2.pdf to /var/folders/1x/nph4r0452v1dk6t51bknf9080000gn/T/https-arxiv-org-pdf-1509-08985v2-pdf.\n"
     ]
    },
    {
     "name": "stdout",
     "output_type": "stream",
     "text": [
      "https://arxiv.org/abs/1803.08664v5.pdf 354\n"
     ]
    },
    {
     "name": "stderr",
     "output_type": "stream",
     "text": [
      "2019-06-19 19:00:51,445 [MainThread  ] [INFO ]  Retrieving https://arxiv.org/pdf/1803.08664v5.pdf to /var/folders/1x/nph4r0452v1dk6t51bknf9080000gn/T/https-arxiv-org-pdf-1803-08664v5-pdf.\n"
     ]
    },
    {
     "name": "stdout",
     "output_type": "stream",
     "text": [
      "https://arxiv.org/abs/1708.03273v1.pdf 355\n"
     ]
    },
    {
     "name": "stderr",
     "output_type": "stream",
     "text": [
      "2019-06-19 19:01:06,153 [MainThread  ] [INFO ]  Retrieving https://arxiv.org/pdf/1708.03273v1.pdf to /var/folders/1x/nph4r0452v1dk6t51bknf9080000gn/T/https-arxiv-org-pdf-1708-03273v1-pdf.\n"
     ]
    },
    {
     "name": "stdout",
     "output_type": "stream",
     "text": [
      "https://arxiv.org/abs/1409.5185v2.pdf 356\n"
     ]
    },
    {
     "name": "stderr",
     "output_type": "stream",
     "text": [
      "2019-06-19 19:01:10,305 [MainThread  ] [INFO ]  Retrieving https://arxiv.org/pdf/1409.5185v2.pdf to /var/folders/1x/nph4r0452v1dk6t51bknf9080000gn/T/https-arxiv-org-pdf-1409-5185v2-pdf.\n"
     ]
    },
    {
     "name": "stdout",
     "output_type": "stream",
     "text": [
      "https://arxiv.org/abs/1808.06161v1.pdf 357\n"
     ]
    },
    {
     "name": "stderr",
     "output_type": "stream",
     "text": [
      "2019-06-19 19:01:14,008 [MainThread  ] [INFO ]  Retrieving https://arxiv.org/pdf/1808.06161v1.pdf to /var/folders/1x/nph4r0452v1dk6t51bknf9080000gn/T/https-arxiv-org-pdf-1808-06161v1-pdf.\n"
     ]
    },
    {
     "name": "stdout",
     "output_type": "stream",
     "text": [
      "https://arxiv.org/abs/1611.05431v2.pdf 358\n"
     ]
    },
    {
     "name": "stderr",
     "output_type": "stream",
     "text": [
      "2019-06-19 19:01:18,149 [MainThread  ] [INFO ]  Retrieving https://arxiv.org/pdf/1611.05431v2.pdf to /var/folders/1x/nph4r0452v1dk6t51bknf9080000gn/T/https-arxiv-org-pdf-1611-05431v2-pdf.\n"
     ]
    },
    {
     "name": "stdout",
     "output_type": "stream",
     "text": [
      "https://arxiv.org/abs/1809.00582v2.pdf 359\n"
     ]
    },
    {
     "name": "stderr",
     "output_type": "stream",
     "text": [
      "2019-06-19 19:01:22,786 [MainThread  ] [INFO ]  Retrieving https://arxiv.org/pdf/1809.00582v2.pdf to /var/folders/1x/nph4r0452v1dk6t51bknf9080000gn/T/https-arxiv-org-pdf-1809-00582v2-pdf.\n"
     ]
    },
    {
     "name": "stdout",
     "output_type": "stream",
     "text": [
      "https://arxiv.org/abs/1803.11365v1.pdf 360\n"
     ]
    },
    {
     "name": "stderr",
     "output_type": "stream",
     "text": [
      "2019-06-19 19:01:26,751 [MainThread  ] [INFO ]  Retrieving https://arxiv.org/pdf/1803.11365v1.pdf to /var/folders/1x/nph4r0452v1dk6t51bknf9080000gn/T/https-arxiv-org-pdf-1803-11365v1-pdf.\n"
     ]
    },
    {
     "name": "stdout",
     "output_type": "stream",
     "text": [
      "https://arxiv.org/abs/1703.04670v1.pdf 361\n"
     ]
    },
    {
     "name": "stderr",
     "output_type": "stream",
     "text": [
      "2019-06-19 19:01:39,981 [MainThread  ] [INFO ]  Retrieving https://arxiv.org/pdf/1703.04670v1.pdf to /var/folders/1x/nph4r0452v1dk6t51bknf9080000gn/T/https-arxiv-org-pdf-1703-04670v1-pdf.\n"
     ]
    },
    {
     "name": "stdout",
     "output_type": "stream",
     "text": [
      "https://arxiv.org/abs/1810.07842v1.pdf 362\n"
     ]
    },
    {
     "name": "stderr",
     "output_type": "stream",
     "text": [
      "2019-06-19 19:02:01,621 [MainThread  ] [INFO ]  Retrieving https://arxiv.org/pdf/1810.07842v1.pdf to /var/folders/1x/nph4r0452v1dk6t51bknf9080000gn/T/https-arxiv-org-pdf-1810-07842v1-pdf.\n"
     ]
    },
    {
     "name": "stdout",
     "output_type": "stream",
     "text": [
      "https://arxiv.org/abs/1805.09821v1.pdf 363\n"
     ]
    },
    {
     "name": "stderr",
     "output_type": "stream",
     "text": [
      "2019-06-19 19:02:05,354 [MainThread  ] [INFO ]  Retrieving https://arxiv.org/pdf/1805.09821v1.pdf to /var/folders/1x/nph4r0452v1dk6t51bknf9080000gn/T/https-arxiv-org-pdf-1805-09821v1-pdf.\n"
     ]
    },
    {
     "name": "stdout",
     "output_type": "stream",
     "text": [
      "https://arxiv.org/abs/1412.7449v3.pdf 364\n"
     ]
    },
    {
     "name": "stderr",
     "output_type": "stream",
     "text": [
      "2019-06-19 19:02:07,642 [MainThread  ] [INFO ]  Retrieving https://arxiv.org/pdf/1412.7449v3.pdf to /var/folders/1x/nph4r0452v1dk6t51bknf9080000gn/T/https-arxiv-org-pdf-1412-7449v3-pdf.\n"
     ]
    },
    {
     "name": "stdout",
     "output_type": "stream",
     "text": [
      "https://arxiv.org/abs/1511.06316v1.pdf 365\n"
     ]
    },
    {
     "name": "stderr",
     "output_type": "stream",
     "text": [
      "2019-06-19 19:02:10,472 [MainThread  ] [INFO ]  Retrieving https://arxiv.org/pdf/1511.06316v1.pdf to /var/folders/1x/nph4r0452v1dk6t51bknf9080000gn/T/https-arxiv-org-pdf-1511-06316v1-pdf.\n"
     ]
    },
    {
     "name": "stdout",
     "output_type": "stream",
     "text": [
      "https://arxiv.org/abs/1810.09502v3.pdf 366\n"
     ]
    },
    {
     "name": "stderr",
     "output_type": "stream",
     "text": [
      "2019-06-19 19:02:12,988 [MainThread  ] [INFO ]  Retrieving https://arxiv.org/pdf/1810.09502v3.pdf to /var/folders/1x/nph4r0452v1dk6t51bknf9080000gn/T/https-arxiv-org-pdf-1810-09502v3-pdf.\n"
     ]
    },
    {
     "name": "stdout",
     "output_type": "stream",
     "text": [
      "https://arxiv.org/abs/1509.09292v2.pdf 367\n"
     ]
    },
    {
     "name": "stderr",
     "output_type": "stream",
     "text": [
      "2019-06-19 19:02:15,681 [MainThread  ] [INFO ]  Retrieving https://arxiv.org/pdf/1509.09292v2.pdf to /var/folders/1x/nph4r0452v1dk6t51bknf9080000gn/T/https-arxiv-org-pdf-1509-09292v2-pdf.\n"
     ]
    },
    {
     "name": "stdout",
     "output_type": "stream",
     "text": [
      "https://arxiv.org/abs/1804.07755v2.pdf 368\n"
     ]
    },
    {
     "name": "stderr",
     "output_type": "stream",
     "text": [
      "2019-06-19 19:02:19,729 [MainThread  ] [INFO ]  Retrieving https://arxiv.org/pdf/1804.07755v2.pdf to /var/folders/1x/nph4r0452v1dk6t51bknf9080000gn/T/https-arxiv-org-pdf-1804-07755v2-pdf.\n"
     ]
    },
    {
     "name": "stdout",
     "output_type": "stream",
     "text": [
      "https://arxiv.org/abs/1805.07043v1.pdf 369\n"
     ]
    },
    {
     "name": "stderr",
     "output_type": "stream",
     "text": [
      "2019-06-19 19:02:23,071 [MainThread  ] [INFO ]  Retrieving https://arxiv.org/pdf/1805.07043v1.pdf to /var/folders/1x/nph4r0452v1dk6t51bknf9080000gn/T/https-arxiv-org-pdf-1805-07043v1-pdf.\n"
     ]
    },
    {
     "name": "stdout",
     "output_type": "stream",
     "text": [
      "https://arxiv.org/abs/1808.08795v1.pdf 370\n"
     ]
    },
    {
     "name": "stderr",
     "output_type": "stream",
     "text": [
      "2019-06-19 19:02:25,705 [MainThread  ] [INFO ]  Retrieving https://arxiv.org/pdf/1808.08795v1.pdf to /var/folders/1x/nph4r0452v1dk6t51bknf9080000gn/T/https-arxiv-org-pdf-1808-08795v1-pdf.\n"
     ]
    },
    {
     "name": "stdout",
     "output_type": "stream",
     "text": [
      "https://arxiv.org/abs/1703.04247v1.pdf 371\n"
     ]
    },
    {
     "name": "stderr",
     "output_type": "stream",
     "text": [
      "2019-06-19 19:02:28,680 [MainThread  ] [INFO ]  Retrieving https://arxiv.org/pdf/1703.04247v1.pdf to /var/folders/1x/nph4r0452v1dk6t51bknf9080000gn/T/https-arxiv-org-pdf-1703-04247v1-pdf.\n"
     ]
    },
    {
     "name": "stdout",
     "output_type": "stream",
     "text": [
      "https://arxiv.org/abs/1510.08160v3.pdf 372\n"
     ]
    },
    {
     "name": "stderr",
     "output_type": "stream",
     "text": [
      "2019-06-19 19:02:33,013 [MainThread  ] [INFO ]  Retrieving https://arxiv.org/pdf/1510.08160v3.pdf to /var/folders/1x/nph4r0452v1dk6t51bknf9080000gn/T/https-arxiv-org-pdf-1510-08160v3-pdf.\n"
     ]
    },
    {
     "name": "stdout",
     "output_type": "stream",
     "text": [
      "https://arxiv.org/abs/1511.03776v3.pdf 373\n"
     ]
    },
    {
     "name": "stderr",
     "output_type": "stream",
     "text": [
      "2019-06-19 19:02:38,228 [MainThread  ] [INFO ]  Retrieving https://arxiv.org/pdf/1511.03776v3.pdf to /var/folders/1x/nph4r0452v1dk6t51bknf9080000gn/T/https-arxiv-org-pdf-1511-03776v3-pdf.\n"
     ]
    },
    {
     "name": "stdout",
     "output_type": "stream",
     "text": [
      "https://arxiv.org/abs/1504.01013v4.pdf 374\n"
     ]
    },
    {
     "name": "stderr",
     "output_type": "stream",
     "text": [
      "2019-06-19 19:02:48,781 [MainThread  ] [INFO ]  Retrieving https://arxiv.org/pdf/1504.01013v4.pdf to /var/folders/1x/nph4r0452v1dk6t51bknf9080000gn/T/https-arxiv-org-pdf-1504-01013v4-pdf.\n"
     ]
    },
    {
     "name": "stdout",
     "output_type": "stream",
     "text": [
      "https://arxiv.org/abs/1606.05413v1.pdf 375\n"
     ]
    },
    {
     "name": "stderr",
     "output_type": "stream",
     "text": [
      "2019-06-19 19:02:55,220 [MainThread  ] [INFO ]  Retrieving https://arxiv.org/pdf/1606.05413v1.pdf to /var/folders/1x/nph4r0452v1dk6t51bknf9080000gn/T/https-arxiv-org-pdf-1606-05413v1-pdf.\n"
     ]
    },
    {
     "name": "stdout",
     "output_type": "stream",
     "text": [
      "https://arxiv.org/abs/1804.09541v1.pdf 376\n"
     ]
    },
    {
     "name": "stderr",
     "output_type": "stream",
     "text": [
      "2019-06-19 19:03:10,897 [MainThread  ] [INFO ]  Retrieving https://arxiv.org/pdf/1804.09541v1.pdf to /var/folders/1x/nph4r0452v1dk6t51bknf9080000gn/T/https-arxiv-org-pdf-1804-09541v1-pdf.\n"
     ]
    },
    {
     "name": "stdout",
     "output_type": "stream",
     "text": [
      "https://arxiv.org/abs/1607.05477v1.pdf 377\n"
     ]
    },
    {
     "name": "stderr",
     "output_type": "stream",
     "text": [
      "2019-06-19 19:03:14,163 [MainThread  ] [INFO ]  Retrieving https://arxiv.org/pdf/1607.05477v1.pdf to /var/folders/1x/nph4r0452v1dk6t51bknf9080000gn/T/https-arxiv-org-pdf-1607-05477v1-pdf.\n"
     ]
    },
    {
     "name": "stdout",
     "output_type": "stream",
     "text": [
      "https://arxiv.org/abs/1709.03749v2.pdf 378\n"
     ]
    },
    {
     "name": "stderr",
     "output_type": "stream",
     "text": [
      "2019-06-19 19:03:22,532 [MainThread  ] [INFO ]  Retrieving https://arxiv.org/pdf/1709.03749v2.pdf to /var/folders/1x/nph4r0452v1dk6t51bknf9080000gn/T/https-arxiv-org-pdf-1709-03749v2-pdf.\n"
     ]
    },
    {
     "name": "stdout",
     "output_type": "stream",
     "text": [
      "https://arxiv.org/abs/1612.08242v1.pdf 379\n"
     ]
    },
    {
     "name": "stderr",
     "output_type": "stream",
     "text": [
      "2019-06-19 19:03:29,542 [MainThread  ] [INFO ]  Retrieving https://arxiv.org/pdf/1612.08242v1.pdf to /var/folders/1x/nph4r0452v1dk6t51bknf9080000gn/T/https-arxiv-org-pdf-1612-08242v1-pdf.\n"
     ]
    },
    {
     "name": "stdout",
     "output_type": "stream",
     "text": [
      "https://arxiv.org/abs/1802.06901v3.pdf 380\n"
     ]
    },
    {
     "name": "stderr",
     "output_type": "stream",
     "text": [
      "2019-06-19 19:03:41,961 [MainThread  ] [INFO ]  Retrieving https://arxiv.org/pdf/1802.06901v3.pdf to /var/folders/1x/nph4r0452v1dk6t51bknf9080000gn/T/https-arxiv-org-pdf-1802-06901v3-pdf.\n"
     ]
    },
    {
     "name": "stdout",
     "output_type": "stream",
     "text": [
      "https://arxiv.org/abs/1711.08585v4.pdf 381\n"
     ]
    },
    {
     "name": "stderr",
     "output_type": "stream",
     "text": [
      "2019-06-19 19:03:46,580 [MainThread  ] [INFO ]  Retrieving https://arxiv.org/pdf/1711.08585v4.pdf to /var/folders/1x/nph4r0452v1dk6t51bknf9080000gn/T/https-arxiv-org-pdf-1711-08585v4-pdf.\n"
     ]
    },
    {
     "name": "stdout",
     "output_type": "stream",
     "text": [
      "https://arxiv.org/abs/1706.08500v6.pdf 382\n"
     ]
    },
    {
     "name": "stderr",
     "output_type": "stream",
     "text": [
      "2019-06-19 19:03:50,771 [MainThread  ] [INFO ]  Retrieving https://arxiv.org/pdf/1706.08500v6.pdf to /var/folders/1x/nph4r0452v1dk6t51bknf9080000gn/T/https-arxiv-org-pdf-1706-08500v6-pdf.\n"
     ]
    },
    {
     "name": "stdout",
     "output_type": "stream",
     "text": [
      "https://arxiv.org/abs/1708.02209v1.pdf 383\n"
     ]
    },
    {
     "name": "stderr",
     "output_type": "stream",
     "text": [
      "2019-06-19 19:04:05,718 [MainThread  ] [INFO ]  Retrieving https://arxiv.org/pdf/1708.02209v1.pdf to /var/folders/1x/nph4r0452v1dk6t51bknf9080000gn/T/https-arxiv-org-pdf-1708-02209v1-pdf.\n"
     ]
    },
    {
     "name": "stdout",
     "output_type": "stream",
     "text": [
      "https://arxiv.org/abs/1606.03777v2.pdf 384\n"
     ]
    },
    {
     "name": "stderr",
     "output_type": "stream",
     "text": [
      "2019-06-19 19:04:22,888 [MainThread  ] [INFO ]  Retrieving https://arxiv.org/pdf/1606.03777v2.pdf to /var/folders/1x/nph4r0452v1dk6t51bknf9080000gn/T/https-arxiv-org-pdf-1606-03777v2-pdf.\n"
     ]
    },
    {
     "name": "stdout",
     "output_type": "stream",
     "text": [
      "https://arxiv.org/abs/1806.06228v1.pdf 385\n"
     ]
    },
    {
     "name": "stderr",
     "output_type": "stream",
     "text": [
      "2019-06-19 19:04:26,517 [MainThread  ] [INFO ]  Retrieving https://arxiv.org/pdf/1806.06228v1.pdf to /var/folders/1x/nph4r0452v1dk6t51bknf9080000gn/T/https-arxiv-org-pdf-1806-06228v1-pdf.\n"
     ]
    },
    {
     "name": "stdout",
     "output_type": "stream",
     "text": [
      "https://arxiv.org/abs/1803.02155v2.pdf 386\n"
     ]
    },
    {
     "name": "stderr",
     "output_type": "stream",
     "text": [
      "2019-06-19 19:04:31,294 [MainThread  ] [INFO ]  Retrieving https://arxiv.org/pdf/1803.02155v2.pdf to /var/folders/1x/nph4r0452v1dk6t51bknf9080000gn/T/https-arxiv-org-pdf-1803-02155v2-pdf.\n"
     ]
    },
    {
     "name": "stdout",
     "output_type": "stream",
     "text": [
      "https://arxiv.org/abs/1409.3660v4.pdf 387\n"
     ]
    },
    {
     "name": "stderr",
     "output_type": "stream",
     "text": [
      "2019-06-19 19:04:33,900 [MainThread  ] [INFO ]  Retrieving https://arxiv.org/pdf/1409.3660v4.pdf to /var/folders/1x/nph4r0452v1dk6t51bknf9080000gn/T/https-arxiv-org-pdf-1409-3660v4-pdf.\n"
     ]
    },
    {
     "name": "stdout",
     "output_type": "stream",
     "text": [
      "https://arxiv.org/abs/1603.09382v3.pdf 388\n"
     ]
    },
    {
     "name": "stderr",
     "output_type": "stream",
     "text": [
      "2019-06-19 19:04:37,234 [MainThread  ] [INFO ]  Retrieving https://arxiv.org/pdf/1603.09382v3.pdf to /var/folders/1x/nph4r0452v1dk6t51bknf9080000gn/T/https-arxiv-org-pdf-1603-09382v3-pdf.\n"
     ]
    },
    {
     "name": "stdout",
     "output_type": "stream",
     "text": [
      "https://arxiv.org/abs/1704.00051v2.pdf 389\n"
     ]
    },
    {
     "name": "stderr",
     "output_type": "stream",
     "text": [
      "2019-06-19 19:04:41,318 [MainThread  ] [INFO ]  Retrieving https://arxiv.org/pdf/1704.00051v2.pdf to /var/folders/1x/nph4r0452v1dk6t51bknf9080000gn/T/https-arxiv-org-pdf-1704-00051v2-pdf.\n"
     ]
    },
    {
     "name": "stdout",
     "output_type": "stream",
     "text": [
      "https://arxiv.org/abs/1811.11187v1.pdf 390\n"
     ]
    },
    {
     "name": "stderr",
     "output_type": "stream",
     "text": [
      "2019-06-19 19:04:47,557 [MainThread  ] [INFO ]  Retrieving https://arxiv.org/pdf/1811.11187v1.pdf to /var/folders/1x/nph4r0452v1dk6t51bknf9080000gn/T/https-arxiv-org-pdf-1811-11187v1-pdf.\n"
     ]
    },
    {
     "name": "stdout",
     "output_type": "stream",
     "text": [
      "https://arxiv.org/abs/1606.01847v3.pdf 391\n"
     ]
    },
    {
     "name": "stderr",
     "output_type": "stream",
     "text": [
      "2019-06-19 19:05:00,508 [MainThread  ] [INFO ]  Retrieving https://arxiv.org/pdf/1606.01847v3.pdf to /var/folders/1x/nph4r0452v1dk6t51bknf9080000gn/T/https-arxiv-org-pdf-1606-01847v3-pdf.\n"
     ]
    },
    {
     "name": "stdout",
     "output_type": "stream",
     "text": [
      "https://arxiv.org/abs/1808.07042v2.pdf 392\n"
     ]
    },
    {
     "name": "stderr",
     "output_type": "stream",
     "text": [
      "2019-06-19 19:05:10,200 [MainThread  ] [INFO ]  Retrieving https://arxiv.org/pdf/1808.07042v2.pdf to /var/folders/1x/nph4r0452v1dk6t51bknf9080000gn/T/https-arxiv-org-pdf-1808-07042v2-pdf.\n"
     ]
    },
    {
     "name": "stdout",
     "output_type": "stream",
     "text": [
      "https://arxiv.org/abs/1511.02274v2.pdf 393\n"
     ]
    },
    {
     "name": "stderr",
     "output_type": "stream",
     "text": [
      "2019-06-19 19:05:15,166 [MainThread  ] [INFO ]  Retrieving https://arxiv.org/pdf/1511.02274v2.pdf to /var/folders/1x/nph4r0452v1dk6t51bknf9080000gn/T/https-arxiv-org-pdf-1511-02274v2-pdf.\n"
     ]
    },
    {
     "name": "stdout",
     "output_type": "stream",
     "text": [
      "https://arxiv.org/abs/1611.00850v2.pdf 394\n"
     ]
    },
    {
     "name": "stderr",
     "output_type": "stream",
     "text": [
      "2019-06-19 19:05:20,935 [MainThread  ] [INFO ]  Retrieving https://arxiv.org/pdf/1611.00850v2.pdf to /var/folders/1x/nph4r0452v1dk6t51bknf9080000gn/T/https-arxiv-org-pdf-1611-00850v2-pdf.\n"
     ]
    },
    {
     "name": "stdout",
     "output_type": "stream",
     "text": [
      "https://arxiv.org/abs/1812.01387v1.pdf 395\n"
     ]
    },
    {
     "name": "stderr",
     "output_type": "stream",
     "text": [
      "2019-06-19 19:05:34,315 [MainThread  ] [INFO ]  Retrieving https://arxiv.org/pdf/1812.01387v1.pdf to /var/folders/1x/nph4r0452v1dk6t51bknf9080000gn/T/https-arxiv-org-pdf-1812-01387v1-pdf.\n"
     ]
    },
    {
     "name": "stdout",
     "output_type": "stream",
     "text": [
      "https://arxiv.org/abs/1812.01936v1.pdf 396\n"
     ]
    },
    {
     "name": "stderr",
     "output_type": "stream",
     "text": [
      "2019-06-19 19:05:45,280 [MainThread  ] [INFO ]  Retrieving https://arxiv.org/pdf/1812.01936v1.pdf to /var/folders/1x/nph4r0452v1dk6t51bknf9080000gn/T/https-arxiv-org-pdf-1812-01936v1-pdf.\n"
     ]
    },
    {
     "name": "stdout",
     "output_type": "stream",
     "text": [
      "https://arxiv.org/abs/1508.01722v2.pdf 397\n"
     ]
    },
    {
     "name": "stderr",
     "output_type": "stream",
     "text": [
      "2019-06-19 19:06:00,554 [MainThread  ] [INFO ]  Retrieving https://arxiv.org/pdf/1508.01722v2.pdf to /var/folders/1x/nph4r0452v1dk6t51bknf9080000gn/T/https-arxiv-org-pdf-1508-01722v2-pdf.\n"
     ]
    },
    {
     "name": "stdout",
     "output_type": "stream",
     "text": [
      "https://arxiv.org/abs/1802.06205v1.pdf 398\n"
     ]
    },
    {
     "name": "stderr",
     "output_type": "stream",
     "text": [
      "2019-06-19 19:06:06,487 [MainThread  ] [INFO ]  Retrieving https://arxiv.org/pdf/1802.06205v1.pdf to /var/folders/1x/nph4r0452v1dk6t51bknf9080000gn/T/https-arxiv-org-pdf-1802-06205v1-pdf.\n"
     ]
    },
    {
     "name": "stdout",
     "output_type": "stream",
     "text": [
      "https://arxiv.org/abs/1801.04590v4.pdf 399\n"
     ]
    },
    {
     "name": "stderr",
     "output_type": "stream",
     "text": [
      "2019-06-19 19:06:20,232 [MainThread  ] [INFO ]  Retrieving https://arxiv.org/pdf/1801.04590v4.pdf to /var/folders/1x/nph4r0452v1dk6t51bknf9080000gn/T/https-arxiv-org-pdf-1801-04590v4-pdf.\n",
      "/Users/nialdaly/Documents/gpt-2_model/venv/lib/python3.6/site-packages/ipykernel_launcher.py:23: SettingWithCopyWarning: \n",
      "A value is trying to be set on a copy of a slice from a DataFrame.\n",
      "Try using .loc[row_indexer,col_indexer] = value instead\n",
      "\n",
      "See the caveats in the documentation: http://pandas.pydata.org/pandas-docs/stable/indexing.html#indexing-view-versus-copy\n",
      "/Users/nialdaly/Documents/gpt-2_model/venv/lib/python3.6/site-packages/ipykernel_launcher.py:24: SettingWithCopyWarning: \n",
      "A value is trying to be set on a copy of a slice from a DataFrame.\n",
      "Try using .loc[row_indexer,col_indexer] = value instead\n",
      "\n",
      "See the caveats in the documentation: http://pandas.pydata.org/pandas-docs/stable/indexing.html#indexing-view-versus-copy\n"
     ]
    }
   ],
   "source": [
    "abstract_text = []\n",
    "\n",
    "paper_text = []\n",
    "\n",
    "for index, row in df_400.iterrows():\n",
    "    \n",
    "    print(row['paper_abs'], index)\n",
    "    \n",
    "    # adds abstract text to list\n",
    "    abs_url = row['paper_abs']\n",
    "    html_doc = requests.get(abs_url).content\n",
    "    soup = BeautifulSoup(html_doc, 'html.parser')\n",
    "    abstract = soup.find('blockquote', attrs={'class':'abstract mathjax'})\n",
    "    abstract_text.append(abstract.text)\n",
    "    \n",
    "    # adds paper text to list\n",
    "    content = parser.from_file(row['paper_url'])\n",
    "#     text = content['content']\n",
    "    text = re.sub(r'\\[[0-9]*\\]', ' ', str(content['content']))  \n",
    "    text = re.sub(r'\\s+', ' ', text)\n",
    "    paper_text.append(text)\n",
    "    \n",
    "df_400['abstract'] = abstract_text\n",
    "df_400['paper_text'] = paper_text"
   ]
  },
  {
   "cell_type": "markdown",
   "metadata": {},
   "source": [
    "##  Remove unneccessary columns"
   ]
  },
  {
   "cell_type": "code",
   "execution_count": 5,
   "metadata": {},
   "outputs": [
    {
     "data": {
      "text/html": [
       "<div>\n",
       "<style scoped>\n",
       "    .dataframe tbody tr th:only-of-type {\n",
       "        vertical-align: middle;\n",
       "    }\n",
       "\n",
       "    .dataframe tbody tr th {\n",
       "        vertical-align: top;\n",
       "    }\n",
       "\n",
       "    .dataframe thead th {\n",
       "        text-align: right;\n",
       "    }\n",
       "</style>\n",
       "<table border=\"1\" class=\"dataframe\">\n",
       "  <thead>\n",
       "    <tr style=\"text-align: right;\">\n",
       "      <th></th>\n",
       "      <th>paper_title</th>\n",
       "      <th>paper_url</th>\n",
       "      <th>task</th>\n",
       "      <th>metric_name</th>\n",
       "      <th>metric_value</th>\n",
       "      <th>model</th>\n",
       "      <th>paper_abs</th>\n",
       "      <th>abstract</th>\n",
       "      <th>paper_text</th>\n",
       "    </tr>\n",
       "  </thead>\n",
       "  <tbody>\n",
       "    <tr>\n",
       "      <th>300</th>\n",
       "      <td>Conditional Random Fields as Recurrent Neural ...</td>\n",
       "      <td>https://arxiv.org/pdf/1807.07464v1.pdf</td>\n",
       "      <td>Volumetric Medical Image Segmentation</td>\n",
       "      <td>Dice Score</td>\n",
       "      <td>0.78</td>\n",
       "      <td>Fully-connected CRF</td>\n",
       "      <td>https://arxiv.org/abs/1807.07464v1.pdf</td>\n",
       "      <td>Abstract:  The Conditional Random Field as a R...</td>\n",
       "      <td>Conditional Random Fields as Recurrent Neural...</td>\n",
       "    </tr>\n",
       "  </tbody>\n",
       "</table>\n",
       "</div>"
      ],
      "text/plain": [
       "                                           paper_title  \\\n",
       "300  Conditional Random Fields as Recurrent Neural ...   \n",
       "\n",
       "                                  paper_url  \\\n",
       "300  https://arxiv.org/pdf/1807.07464v1.pdf   \n",
       "\n",
       "                                      task metric_name metric_value  \\\n",
       "300  Volumetric Medical Image Segmentation  Dice Score         0.78   \n",
       "\n",
       "                   model                               paper_abs  \\\n",
       "300  Fully-connected CRF  https://arxiv.org/abs/1807.07464v1.pdf   \n",
       "\n",
       "                                              abstract  \\\n",
       "300  Abstract:  The Conditional Random Field as a R...   \n",
       "\n",
       "                                            paper_text  \n",
       "300   Conditional Random Fields as Recurrent Neural...  "
      ]
     },
     "execution_count": 5,
     "metadata": {},
     "output_type": "execute_result"
    }
   ],
   "source": [
    "df_400 = df_400[['paper_title', 'paper_url', 'task', 'metric_name', 'metric_value', 'model', 'paper_abs', 'abstract', 'paper_text']]\n",
    "\n",
    "df_400.head(1)"
   ]
  },
  {
   "cell_type": "code",
   "execution_count": 6,
   "metadata": {},
   "outputs": [
    {
     "data": {
      "text/plain": [
       "100"
      ]
     },
     "execution_count": 6,
     "metadata": {},
     "output_type": "execute_result"
    }
   ],
   "source": [
    "len(df_400)"
   ]
  },
  {
   "cell_type": "code",
   "execution_count": 7,
   "metadata": {
    "collapsed": true
   },
   "outputs": [],
   "source": [
    "df_400.to_csv('../data/gpt-2_data_400.csv', index=False)"
   ]
  },
  {
   "cell_type": "code",
   "execution_count": null,
   "metadata": {
    "collapsed": true
   },
   "outputs": [],
   "source": []
  }
 ],
 "metadata": {
  "kernelspec": {
   "display_name": "gpt-2-model",
   "language": "python",
   "name": "gpt-2-model"
  },
  "language_info": {
   "codemirror_mode": {
    "name": "ipython",
    "version": 3
   },
   "file_extension": ".py",
   "mimetype": "text/x-python",
   "name": "python",
   "nbconvert_exporter": "python",
   "pygments_lexer": "ipython3",
   "version": "3.6.4"
  }
 },
 "nbformat": 4,
 "nbformat_minor": 2
}

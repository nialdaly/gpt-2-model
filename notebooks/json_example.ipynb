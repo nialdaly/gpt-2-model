{
 "cells": [
  {
   "cell_type": "code",
   "execution_count": 1,
   "metadata": {
    "collapsed": true
   },
   "outputs": [],
   "source": []
  },
  {
   "cell_type": "code",
   "execution_count": 11,
   "metadata": {},
   "outputs": [],
   "source": [
    "import pandas as pd\n",
    "import json\n",
    "\n",
    "with open('./data.json', 'r') as f:\n",
    "    data = json.load(f)\n",
    "df = pd.DataFrame(data)"
   ]
  },
  {
   "cell_type": "code",
   "execution_count": 12,
   "metadata": {},
   "outputs": [
    {
     "data": {
      "text/html": [
       "<div>\n",
       "<style scoped>\n",
       "    .dataframe tbody tr th:only-of-type {\n",
       "        vertical-align: middle;\n",
       "    }\n",
       "\n",
       "    .dataframe tbody tr th {\n",
       "        vertical-align: top;\n",
       "    }\n",
       "\n",
       "    .dataframe thead th {\n",
       "        text-align: right;\n",
       "    }\n",
       "</style>\n",
       "<table border=\"1\" class=\"dataframe\">\n",
       "  <thead>\n",
       "    <tr style=\"text-align: right;\">\n",
       "      <th></th>\n",
       "      <th>commodity</th>\n",
       "    </tr>\n",
       "  </thead>\n",
       "  <tbody>\n",
       "    <tr>\n",
       "      <th>01</th>\n",
       "      <td>Live animals</td>\n",
       "    </tr>\n",
       "    <tr>\n",
       "      <th>0101</th>\n",
       "      <td>Live horses, asses, mules and hinnies</td>\n",
       "    </tr>\n",
       "    <tr>\n",
       "      <th>010110</th>\n",
       "      <td>Live horses/asses/mules/hinnies: pure-bred bre...</td>\n",
       "    </tr>\n",
       "    <tr>\n",
       "      <th>010111</th>\n",
       "      <td>Horses, live pure-bred breeding</td>\n",
       "    </tr>\n",
       "    <tr>\n",
       "      <th>010119</th>\n",
       "      <td>Horses, live except pure-bred breeding</td>\n",
       "    </tr>\n",
       "    <tr>\n",
       "      <th>010120</th>\n",
       "      <td>Asses, mules and hinnies, live</td>\n",
       "    </tr>\n",
       "    <tr>\n",
       "      <th>010121</th>\n",
       "      <td>Horses; live, pure-bred breeding animals</td>\n",
       "    </tr>\n",
       "    <tr>\n",
       "      <th>010129</th>\n",
       "      <td>Horses; live, other than pure-bred breeding an...</td>\n",
       "    </tr>\n",
       "  </tbody>\n",
       "</table>\n",
       "</div>"
      ],
      "text/plain": [
       "                                                commodity\n",
       "01                                           Live animals\n",
       "0101                Live horses, asses, mules and hinnies\n",
       "010110  Live horses/asses/mules/hinnies: pure-bred bre...\n",
       "010111                    Horses, live pure-bred breeding\n",
       "010119             Horses, live except pure-bred breeding\n",
       "010120                     Asses, mules and hinnies, live\n",
       "010121           Horses; live, pure-bred breeding animals\n",
       "010129  Horses; live, other than pure-bred breeding an..."
      ]
     },
     "execution_count": 12,
     "metadata": {},
     "output_type": "execute_result"
    }
   ],
   "source": [
    "df"
   ]
  },
  {
   "cell_type": "code",
   "execution_count": 13,
   "metadata": {},
   "outputs": [
    {
     "data": {
      "text/html": [
       "<div>\n",
       "<style scoped>\n",
       "    .dataframe tbody tr th:only-of-type {\n",
       "        vertical-align: middle;\n",
       "    }\n",
       "\n",
       "    .dataframe tbody tr th {\n",
       "        vertical-align: top;\n",
       "    }\n",
       "\n",
       "    .dataframe thead th {\n",
       "        text-align: right;\n",
       "    }\n",
       "</style>\n",
       "<table border=\"1\" class=\"dataframe\">\n",
       "  <thead>\n",
       "    <tr style=\"text-align: right;\">\n",
       "      <th></th>\n",
       "      <th>commodity</th>\n",
       "    </tr>\n",
       "  </thead>\n",
       "  <tbody>\n",
       "    <tr>\n",
       "      <th>01</th>\n",
       "      <td>Live animals 01</td>\n",
       "    </tr>\n",
       "    <tr>\n",
       "      <th>0101</th>\n",
       "      <td>Live horses, asses, mules and hinnies 0101</td>\n",
       "    </tr>\n",
       "    <tr>\n",
       "      <th>010110</th>\n",
       "      <td>Live horses/asses/mules/hinnies: pure-bred bre...</td>\n",
       "    </tr>\n",
       "    <tr>\n",
       "      <th>010111</th>\n",
       "      <td>Horses, live pure-bred breeding 010111</td>\n",
       "    </tr>\n",
       "    <tr>\n",
       "      <th>010119</th>\n",
       "      <td>Horses, live except pure-bred breeding 010119</td>\n",
       "    </tr>\n",
       "    <tr>\n",
       "      <th>010120</th>\n",
       "      <td>Asses, mules and hinnies, live 010120</td>\n",
       "    </tr>\n",
       "    <tr>\n",
       "      <th>010121</th>\n",
       "      <td>Horses; live, pure-bred breeding animals 010121</td>\n",
       "    </tr>\n",
       "    <tr>\n",
       "      <th>010129</th>\n",
       "      <td>Horses; live, other than pure-bred breeding an...</td>\n",
       "    </tr>\n",
       "  </tbody>\n",
       "</table>\n",
       "</div>"
      ],
      "text/plain": [
       "                                                commodity\n",
       "01                                        Live animals 01\n",
       "0101           Live horses, asses, mules and hinnies 0101\n",
       "010110  Live horses/asses/mules/hinnies: pure-bred bre...\n",
       "010111             Horses, live pure-bred breeding 010111\n",
       "010119      Horses, live except pure-bred breeding 010119\n",
       "010120              Asses, mules and hinnies, live 010120\n",
       "010121    Horses; live, pure-bred breeding animals 010121\n",
       "010129  Horses; live, other than pure-bred breeding an..."
      ]
     },
     "execution_count": 13,
     "metadata": {},
     "output_type": "execute_result"
    }
   ],
   "source": [
    "df['commodity'] = df['commodity'] + \" \" + df.index\n"
   ]
  },
  {
   "cell_type": "code",
   "execution_count": null,
   "metadata": {
    "collapsed": true
   },
   "outputs": [],
   "source": []
  }
 ],
 "metadata": {
  "kernelspec": {
   "display_name": "gpt-2-model",
   "language": "python",
   "name": "gpt-2-model"
  },
  "language_info": {
   "codemirror_mode": {
    "name": "ipython",
    "version": 3
   },
   "file_extension": ".py",
   "mimetype": "text/x-python",
   "name": "python",
   "nbconvert_exporter": "python",
   "pygments_lexer": "ipython3",
   "version": "3.6.4"
  }
 },
 "nbformat": 4,
 "nbformat_minor": 2
}

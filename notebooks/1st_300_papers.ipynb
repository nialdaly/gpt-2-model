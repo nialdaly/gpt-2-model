{
 "cells": [
  {
   "cell_type": "code",
   "execution_count": 1,
   "metadata": {
    "collapsed": true
   },
   "outputs": [],
   "source": [
    "from bs4 import BeautifulSoup\n",
    "from html.parser import HTMLParser\n",
    "import pandas as pd\n",
    "import re\n",
    "import tika\n",
    "from tika import parser\n",
    "import requests"
   ]
  },
  {
   "cell_type": "code",
   "execution_count": 2,
   "metadata": {},
   "outputs": [
    {
     "data": {
      "text/html": [
       "<div>\n",
       "<style scoped>\n",
       "    .dataframe tbody tr th:only-of-type {\n",
       "        vertical-align: middle;\n",
       "    }\n",
       "\n",
       "    .dataframe tbody tr th {\n",
       "        vertical-align: top;\n",
       "    }\n",
       "\n",
       "    .dataframe thead th {\n",
       "        text-align: right;\n",
       "    }\n",
       "</style>\n",
       "<table border=\"1\" class=\"dataframe\">\n",
       "  <thead>\n",
       "    <tr style=\"text-align: right;\">\n",
       "      <th></th>\n",
       "      <th>dataset</th>\n",
       "      <th>extradata</th>\n",
       "      <th>global_rank</th>\n",
       "      <th>metric_name</th>\n",
       "      <th>metric_value</th>\n",
       "      <th>model</th>\n",
       "      <th>remove</th>\n",
       "      <th>task</th>\n",
       "      <th>paper_title</th>\n",
       "      <th>paper_path</th>\n",
       "      <th>paper_url</th>\n",
       "      <th>paper_abs</th>\n",
       "    </tr>\n",
       "  </thead>\n",
       "  <tbody>\n",
       "    <tr>\n",
       "      <th>200</th>\n",
       "      <td>PASCAL VOC 2012</td>\n",
       "      <td>NaN</td>\n",
       "      <td># 11</td>\n",
       "      <td>Mean IoU</td>\n",
       "      <td>79.00%</td>\n",
       "      <td>Deeplab-v2 with Lovasz-Softmax loss</td>\n",
       "      <td>-</td>\n",
       "      <td>Semantic Segmentation</td>\n",
       "      <td>The LovÌÁsz-Softmax loss: A tractable surrogat...</td>\n",
       "      <td>/paper/the-lovasz-softmax-loss-a-tractable-sur...</td>\n",
       "      <td>https://arxiv.org/pdf/1705.08790v2.pdf</td>\n",
       "      <td>https://arxiv.org/abs/1705.08790v2.pdf</td>\n",
       "    </tr>\n",
       "  </tbody>\n",
       "</table>\n",
       "</div>"
      ],
      "text/plain": [
       "             dataset  extradata global_rank metric_name metric_value  \\\n",
       "200  PASCAL VOC 2012        NaN        # 11    Mean IoU       79.00%   \n",
       "\n",
       "                                   model remove                   task  \\\n",
       "200  Deeplab-v2 with Lovasz-Softmax loss      -  Semantic Segmentation   \n",
       "\n",
       "                                           paper_title  \\\n",
       "200  The LovÌÁsz-Softmax loss: A tractable surrogat...   \n",
       "\n",
       "                                            paper_path  \\\n",
       "200  /paper/the-lovasz-softmax-loss-a-tractable-sur...   \n",
       "\n",
       "                                  paper_url  \\\n",
       "200  https://arxiv.org/pdf/1705.08790v2.pdf   \n",
       "\n",
       "                                  paper_abs  \n",
       "200  https://arxiv.org/abs/1705.08790v2.pdf  "
      ]
     },
     "execution_count": 2,
     "metadata": {},
     "output_type": "execute_result"
    }
   ],
   "source": [
    "df = pd.read_csv('../data/pw_code_model_data.csv', encoding='latin-1')\n",
    "\n",
    "# drop duplicate papers\n",
    "df = df.drop_duplicates(subset='paper_url')\n",
    "\n",
    "df = df[df['paper_url'].str.contains(\"arxiv\")]\n",
    "\n",
    "df = df.reset_index(drop=True)\n",
    "\n",
    "df['paper_abs'] = df.paper_url.str.replace('/pdf', '/abs')\n",
    "\n",
    "df_300 = df[200:300]\n",
    "\n",
    "df_300.head(1)"
   ]
  },
  {
   "cell_type": "markdown",
   "metadata": {},
   "source": [
    "## Extract paper abstracts and text"
   ]
  },
  {
   "cell_type": "code",
   "execution_count": 3,
   "metadata": {
    "scrolled": true
   },
   "outputs": [
    {
     "name": "stdout",
     "output_type": "stream",
     "text": [
      "https://arxiv.org/abs/1705.08790v2.pdf 200\n"
     ]
    },
    {
     "name": "stderr",
     "output_type": "stream",
     "text": [
      "2019-06-19 18:31:00,121 [MainThread  ] [INFO ]  Retrieving https://arxiv.org/pdf/1705.08790v2.pdf to /var/folders/1x/nph4r0452v1dk6t51bknf9080000gn/T/https-arxiv-org-pdf-1705-08790v2-pdf.\n",
      "2019-06-19 18:31:09,501 [MainThread  ] [INFO ]  Retrieving http://search.maven.org/remotecontent?filepath=org/apache/tika/tika-server/1.19/tika-server-1.19.jar to /var/folders/1x/nph4r0452v1dk6t51bknf9080000gn/T/tika-server.jar.\n",
      "2019-06-19 18:31:21,666 [MainThread  ] [INFO ]  Retrieving http://search.maven.org/remotecontent?filepath=org/apache/tika/tika-server/1.19/tika-server-1.19.jar.md5 to /var/folders/1x/nph4r0452v1dk6t51bknf9080000gn/T/tika-server.jar.md5.\n",
      "2019-06-19 18:31:22,114 [MainThread  ] [WARNI]  Failed to see startup log message; retrying...\n"
     ]
    },
    {
     "name": "stdout",
     "output_type": "stream",
     "text": [
      "https://arxiv.org/abs/1707.07998v3.pdf 201\n"
     ]
    },
    {
     "name": "stderr",
     "output_type": "stream",
     "text": [
      "2019-06-19 18:31:40,325 [MainThread  ] [INFO ]  Retrieving https://arxiv.org/pdf/1707.07998v3.pdf to /var/folders/1x/nph4r0452v1dk6t51bknf9080000gn/T/https-arxiv-org-pdf-1707-07998v3-pdf.\n"
     ]
    },
    {
     "name": "stdout",
     "output_type": "stream",
     "text": [
      "https://arxiv.org/abs/1412.7149v4.pdf 202\n"
     ]
    },
    {
     "name": "stderr",
     "output_type": "stream",
     "text": [
      "2019-06-19 18:32:03,004 [MainThread  ] [INFO ]  Retrieving https://arxiv.org/pdf/1412.7149v4.pdf to /var/folders/1x/nph4r0452v1dk6t51bknf9080000gn/T/https-arxiv-org-pdf-1412-7149v4-pdf.\n"
     ]
    },
    {
     "name": "stdout",
     "output_type": "stream",
     "text": [
      "https://arxiv.org/abs/1605.09090v1.pdf 203\n"
     ]
    },
    {
     "name": "stderr",
     "output_type": "stream",
     "text": [
      "2019-06-19 18:32:05,857 [MainThread  ] [INFO ]  Retrieving https://arxiv.org/pdf/1605.09090v1.pdf to /var/folders/1x/nph4r0452v1dk6t51bknf9080000gn/T/https-arxiv-org-pdf-1605-09090v1-pdf.\n"
     ]
    },
    {
     "name": "stdout",
     "output_type": "stream",
     "text": [
      "https://arxiv.org/abs/1712.00726v1.pdf 204\n"
     ]
    },
    {
     "name": "stderr",
     "output_type": "stream",
     "text": [
      "2019-06-19 18:32:08,192 [MainThread  ] [INFO ]  Retrieving https://arxiv.org/pdf/1712.00726v1.pdf to /var/folders/1x/nph4r0452v1dk6t51bknf9080000gn/T/https-arxiv-org-pdf-1712-00726v1-pdf.\n"
     ]
    },
    {
     "name": "stdout",
     "output_type": "stream",
     "text": [
      "https://arxiv.org/abs/1511.07289v5.pdf 205\n"
     ]
    },
    {
     "name": "stderr",
     "output_type": "stream",
     "text": [
      "2019-06-19 18:32:14,662 [MainThread  ] [INFO ]  Retrieving https://arxiv.org/pdf/1511.07289v5.pdf to /var/folders/1x/nph4r0452v1dk6t51bknf9080000gn/T/https-arxiv-org-pdf-1511-07289v5-pdf.\n"
     ]
    },
    {
     "name": "stdout",
     "output_type": "stream",
     "text": [
      "https://arxiv.org/abs/1612.08083v3.pdf 206\n"
     ]
    },
    {
     "name": "stderr",
     "output_type": "stream",
     "text": [
      "2019-06-19 18:32:18,901 [MainThread  ] [INFO ]  Retrieving https://arxiv.org/pdf/1612.08083v3.pdf to /var/folders/1x/nph4r0452v1dk6t51bknf9080000gn/T/https-arxiv-org-pdf-1612-08083v3-pdf.\n"
     ]
    },
    {
     "name": "stdout",
     "output_type": "stream",
     "text": [
      "https://arxiv.org/abs/1808.03867v3.pdf 207\n"
     ]
    },
    {
     "name": "stderr",
     "output_type": "stream",
     "text": [
      "2019-06-19 18:32:23,001 [MainThread  ] [INFO ]  Retrieving https://arxiv.org/pdf/1808.03867v3.pdf to /var/folders/1x/nph4r0452v1dk6t51bknf9080000gn/T/https-arxiv-org-pdf-1808-03867v3-pdf.\n"
     ]
    },
    {
     "name": "stdout",
     "output_type": "stream",
     "text": [
      "https://arxiv.org/abs/1802.09127v1.pdf 208\n"
     ]
    },
    {
     "name": "stderr",
     "output_type": "stream",
     "text": [
      "2019-06-19 18:32:28,625 [MainThread  ] [INFO ]  Retrieving https://arxiv.org/pdf/1802.09127v1.pdf to /var/folders/1x/nph4r0452v1dk6t51bknf9080000gn/T/https-arxiv-org-pdf-1802-09127v1-pdf.\n"
     ]
    },
    {
     "name": "stdout",
     "output_type": "stream",
     "text": [
      "https://arxiv.org/abs/1708.02863v1.pdf 209\n"
     ]
    },
    {
     "name": "stderr",
     "output_type": "stream",
     "text": [
      "2019-06-19 18:32:43,130 [MainThread  ] [INFO ]  Retrieving https://arxiv.org/pdf/1708.02863v1.pdf to /var/folders/1x/nph4r0452v1dk6t51bknf9080000gn/T/https-arxiv-org-pdf-1708-02863v1-pdf.\n"
     ]
    },
    {
     "name": "stdout",
     "output_type": "stream",
     "text": [
      "https://arxiv.org/abs/1609.02907v4.pdf 210\n"
     ]
    },
    {
     "name": "stderr",
     "output_type": "stream",
     "text": [
      "2019-06-19 18:32:51,839 [MainThread  ] [INFO ]  Retrieving https://arxiv.org/pdf/1609.02907v4.pdf to /var/folders/1x/nph4r0452v1dk6t51bknf9080000gn/T/https-arxiv-org-pdf-1609-02907v4-pdf.\n"
     ]
    },
    {
     "name": "stdout",
     "output_type": "stream",
     "text": [
      "https://arxiv.org/abs/1804.09849v2.pdf 211\n"
     ]
    },
    {
     "name": "stderr",
     "output_type": "stream",
     "text": [
      "2019-06-19 18:32:55,878 [MainThread  ] [INFO ]  Retrieving https://arxiv.org/pdf/1804.09849v2.pdf to /var/folders/1x/nph4r0452v1dk6t51bknf9080000gn/T/https-arxiv-org-pdf-1804-09849v2-pdf.\n"
     ]
    },
    {
     "name": "stdout",
     "output_type": "stream",
     "text": [
      "https://arxiv.org/abs/1505.03540v3.pdf 212\n"
     ]
    },
    {
     "name": "stderr",
     "output_type": "stream",
     "text": [
      "2019-06-19 18:32:58,977 [MainThread  ] [INFO ]  Retrieving https://arxiv.org/pdf/1505.03540v3.pdf to /var/folders/1x/nph4r0452v1dk6t51bknf9080000gn/T/https-arxiv-org-pdf-1505-03540v3-pdf.\n"
     ]
    },
    {
     "name": "stdout",
     "output_type": "stream",
     "text": [
      "https://arxiv.org/abs/1610.09585v4.pdf 213\n"
     ]
    },
    {
     "name": "stderr",
     "output_type": "stream",
     "text": [
      "2019-06-19 18:33:08,137 [MainThread  ] [INFO ]  Retrieving https://arxiv.org/pdf/1610.09585v4.pdf to /var/folders/1x/nph4r0452v1dk6t51bknf9080000gn/T/https-arxiv-org-pdf-1610-09585v4-pdf.\n"
     ]
    },
    {
     "name": "stdout",
     "output_type": "stream",
     "text": [
      "https://arxiv.org/abs/1705.02364v5.pdf 214\n"
     ]
    },
    {
     "name": "stderr",
     "output_type": "stream",
     "text": [
      "2019-06-19 18:33:25,492 [MainThread  ] [INFO ]  Retrieving https://arxiv.org/pdf/1705.02364v5.pdf to /var/folders/1x/nph4r0452v1dk6t51bknf9080000gn/T/https-arxiv-org-pdf-1705-02364v5-pdf.\n"
     ]
    },
    {
     "name": "stdout",
     "output_type": "stream",
     "text": [
      "https://arxiv.org/abs/1605.07725v3.pdf 215\n"
     ]
    },
    {
     "name": "stderr",
     "output_type": "stream",
     "text": [
      "2019-06-19 18:33:28,702 [MainThread  ] [INFO ]  Retrieving https://arxiv.org/pdf/1605.07725v3.pdf to /var/folders/1x/nph4r0452v1dk6t51bknf9080000gn/T/https-arxiv-org-pdf-1605-07725v3-pdf.\n"
     ]
    },
    {
     "name": "stdout",
     "output_type": "stream",
     "text": [
      "https://arxiv.org/abs/1707.01780v3.pdf 216\n"
     ]
    },
    {
     "name": "stderr",
     "output_type": "stream",
     "text": [
      "2019-06-19 18:33:31,205 [MainThread  ] [INFO ]  Retrieving https://arxiv.org/pdf/1707.01780v3.pdf to /var/folders/1x/nph4r0452v1dk6t51bknf9080000gn/T/https-arxiv-org-pdf-1707-01780v3-pdf.\n"
     ]
    },
    {
     "name": "stdout",
     "output_type": "stream",
     "text": [
      "https://arxiv.org/abs/1712.05884v2.pdf 217\n"
     ]
    },
    {
     "name": "stderr",
     "output_type": "stream",
     "text": [
      "2019-06-19 18:33:33,446 [MainThread  ] [INFO ]  Retrieving https://arxiv.org/pdf/1712.05884v2.pdf to /var/folders/1x/nph4r0452v1dk6t51bknf9080000gn/T/https-arxiv-org-pdf-1712-05884v2-pdf.\n"
     ]
    },
    {
     "name": "stdout",
     "output_type": "stream",
     "text": [
      "https://arxiv.org/abs/1901.01892v1.pdf 218\n"
     ]
    },
    {
     "name": "stderr",
     "output_type": "stream",
     "text": [
      "2019-06-19 18:33:36,225 [MainThread  ] [INFO ]  Retrieving https://arxiv.org/pdf/1901.01892v1.pdf to /var/folders/1x/nph4r0452v1dk6t51bknf9080000gn/T/https-arxiv-org-pdf-1901-01892v1-pdf.\n"
     ]
    },
    {
     "name": "stdout",
     "output_type": "stream",
     "text": [
      "https://arxiv.org/abs/1412.1265v1.pdf 219\n"
     ]
    },
    {
     "name": "stderr",
     "output_type": "stream",
     "text": [
      "2019-06-19 18:33:42,360 [MainThread  ] [INFO ]  Retrieving https://arxiv.org/pdf/1412.1265v1.pdf to /var/folders/1x/nph4r0452v1dk6t51bknf9080000gn/T/https-arxiv-org-pdf-1412-1265v1-pdf.\n"
     ]
    },
    {
     "name": "stdout",
     "output_type": "stream",
     "text": [
      "https://arxiv.org/abs/1705.00727v2.pdf 220\n"
     ]
    },
    {
     "name": "stderr",
     "output_type": "stream",
     "text": [
      "2019-06-19 18:33:55,225 [MainThread  ] [INFO ]  Retrieving https://arxiv.org/pdf/1705.00727v2.pdf to /var/folders/1x/nph4r0452v1dk6t51bknf9080000gn/T/https-arxiv-org-pdf-1705-00727v2-pdf.\n"
     ]
    },
    {
     "name": "stdout",
     "output_type": "stream",
     "text": [
      "https://arxiv.org/abs/1711.08611v1.pdf 221\n"
     ]
    },
    {
     "name": "stderr",
     "output_type": "stream",
     "text": [
      "2019-06-19 18:34:02,612 [MainThread  ] [INFO ]  Retrieving https://arxiv.org/pdf/1711.08611v1.pdf to /var/folders/1x/nph4r0452v1dk6t51bknf9080000gn/T/https-arxiv-org-pdf-1711-08611v1-pdf.\n"
     ]
    },
    {
     "name": "stdout",
     "output_type": "stream",
     "text": [
      "https://arxiv.org/abs/1809.01368v1.pdf 222\n"
     ]
    },
    {
     "name": "stderr",
     "output_type": "stream",
     "text": [
      "2019-06-19 18:34:05,590 [MainThread  ] [INFO ]  Retrieving https://arxiv.org/pdf/1809.01368v1.pdf to /var/folders/1x/nph4r0452v1dk6t51bknf9080000gn/T/https-arxiv-org-pdf-1809-01368v1-pdf.\n"
     ]
    },
    {
     "name": "stdout",
     "output_type": "stream",
     "text": [
      "https://arxiv.org/abs/1804.01438v3.pdf 223\n"
     ]
    },
    {
     "name": "stderr",
     "output_type": "stream",
     "text": [
      "2019-06-19 18:34:10,162 [MainThread  ] [INFO ]  Retrieving https://arxiv.org/pdf/1804.01438v3.pdf to /var/folders/1x/nph4r0452v1dk6t51bknf9080000gn/T/https-arxiv-org-pdf-1804-01438v3-pdf.\n"
     ]
    },
    {
     "name": "stdout",
     "output_type": "stream",
     "text": [
      "https://arxiv.org/abs/1703.07332v3.pdf 224\n"
     ]
    },
    {
     "name": "stderr",
     "output_type": "stream",
     "text": [
      "2019-06-19 18:34:14,739 [MainThread  ] [INFO ]  Retrieving https://arxiv.org/pdf/1703.07332v3.pdf to /var/folders/1x/nph4r0452v1dk6t51bknf9080000gn/T/https-arxiv-org-pdf-1703-07332v3-pdf.\n"
     ]
    },
    {
     "name": "stdout",
     "output_type": "stream",
     "text": [
      "https://arxiv.org/abs/1603.09025v5.pdf 225\n"
     ]
    },
    {
     "name": "stderr",
     "output_type": "stream",
     "text": [
      "2019-06-19 18:34:30,270 [MainThread  ] [INFO ]  Retrieving https://arxiv.org/pdf/1603.09025v5.pdf to /var/folders/1x/nph4r0452v1dk6t51bknf9080000gn/T/https-arxiv-org-pdf-1603-09025v5-pdf.\n"
     ]
    },
    {
     "name": "stdout",
     "output_type": "stream",
     "text": [
      "https://arxiv.org/abs/1704.04565v2.pdf 226\n"
     ]
    },
    {
     "name": "stderr",
     "output_type": "stream",
     "text": [
      "2019-06-19 18:34:33,713 [MainThread  ] [INFO ]  Retrieving https://arxiv.org/pdf/1704.04565v2.pdf to /var/folders/1x/nph4r0452v1dk6t51bknf9080000gn/T/https-arxiv-org-pdf-1704-04565v2-pdf.\n"
     ]
    },
    {
     "name": "stdout",
     "output_type": "stream",
     "text": [
      "https://arxiv.org/abs/1805.09208v2.pdf 227\n"
     ]
    },
    {
     "name": "stderr",
     "output_type": "stream",
     "text": [
      "2019-06-19 18:34:36,440 [MainThread  ] [INFO ]  Retrieving https://arxiv.org/pdf/1805.09208v2.pdf to /var/folders/1x/nph4r0452v1dk6t51bknf9080000gn/T/https-arxiv-org-pdf-1805-09208v2-pdf.\n"
     ]
    },
    {
     "name": "stdout",
     "output_type": "stream",
     "text": [
      "https://arxiv.org/abs/1903.09814v1.pdf 228\n"
     ]
    },
    {
     "name": "stderr",
     "output_type": "stream",
     "text": [
      "2019-06-19 18:34:39,159 [MainThread  ] [INFO ]  Retrieving https://arxiv.org/pdf/1903.09814v1.pdf to /var/folders/1x/nph4r0452v1dk6t51bknf9080000gn/T/https-arxiv-org-pdf-1903-09814v1-pdf.\n"
     ]
    },
    {
     "name": "stdout",
     "output_type": "stream",
     "text": [
      "https://arxiv.org/abs/1602.02410v2.pdf 229\n"
     ]
    },
    {
     "name": "stderr",
     "output_type": "stream",
     "text": [
      "2019-06-19 18:34:50,809 [MainThread  ] [INFO ]  Retrieving https://arxiv.org/pdf/1602.02410v2.pdf to /var/folders/1x/nph4r0452v1dk6t51bknf9080000gn/T/https-arxiv-org-pdf-1602-02410v2-pdf.\n"
     ]
    },
    {
     "name": "stdout",
     "output_type": "stream",
     "text": [
      "https://arxiv.org/abs/1704.05579v4.pdf 230\n"
     ]
    },
    {
     "name": "stderr",
     "output_type": "stream",
     "text": [
      "2019-06-19 18:34:53,379 [MainThread  ] [INFO ]  Retrieving https://arxiv.org/pdf/1704.05579v4.pdf to /var/folders/1x/nph4r0452v1dk6t51bknf9080000gn/T/https-arxiv-org-pdf-1704-05579v4-pdf.\n"
     ]
    },
    {
     "name": "stdout",
     "output_type": "stream",
     "text": [
      "https://arxiv.org/abs/1511.08119v4.pdf 231\n"
     ]
    },
    {
     "name": "stderr",
     "output_type": "stream",
     "text": [
      "2019-06-19 18:34:57,046 [MainThread  ] [INFO ]  Retrieving https://arxiv.org/pdf/1511.08119v4.pdf to /var/folders/1x/nph4r0452v1dk6t51bknf9080000gn/T/https-arxiv-org-pdf-1511-08119v4-pdf.\n"
     ]
    },
    {
     "name": "stdout",
     "output_type": "stream",
     "text": [
      "https://arxiv.org/abs/1707.07012v4.pdf 232\n"
     ]
    },
    {
     "name": "stderr",
     "output_type": "stream",
     "text": [
      "2019-06-19 18:35:11,941 [MainThread  ] [INFO ]  Retrieving https://arxiv.org/pdf/1707.07012v4.pdf to /var/folders/1x/nph4r0452v1dk6t51bknf9080000gn/T/https-arxiv-org-pdf-1707-07012v4-pdf.\n"
     ]
    },
    {
     "name": "stdout",
     "output_type": "stream",
     "text": [
      "https://arxiv.org/abs/1808.05759v5.pdf 233\n"
     ]
    },
    {
     "name": "stderr",
     "output_type": "stream",
     "text": [
      "2019-06-19 18:35:30,014 [MainThread  ] [INFO ]  Retrieving https://arxiv.org/pdf/1808.05759v5.pdf to /var/folders/1x/nph4r0452v1dk6t51bknf9080000gn/T/https-arxiv-org-pdf-1808-05759v5-pdf.\n"
     ]
    },
    {
     "name": "stdout",
     "output_type": "stream",
     "text": [
      "https://arxiv.org/abs/1708.01715v3.pdf 234\n"
     ]
    },
    {
     "name": "stderr",
     "output_type": "stream",
     "text": [
      "2019-06-19 18:35:33,151 [MainThread  ] [INFO ]  Retrieving https://arxiv.org/pdf/1708.01715v3.pdf to /var/folders/1x/nph4r0452v1dk6t51bknf9080000gn/T/https-arxiv-org-pdf-1708-01715v3-pdf.\n"
     ]
    },
    {
     "name": "stdout",
     "output_type": "stream",
     "text": [
      "https://arxiv.org/abs/1402.5766v1.pdf 235\n"
     ]
    },
    {
     "name": "stderr",
     "output_type": "stream",
     "text": [
      "2019-06-19 18:35:36,964 [MainThread  ] [INFO ]  Retrieving https://arxiv.org/pdf/1402.5766v1.pdf to /var/folders/1x/nph4r0452v1dk6t51bknf9080000gn/T/https-arxiv-org-pdf-1402-5766v1-pdf.\n"
     ]
    },
    {
     "name": "stdout",
     "output_type": "stream",
     "text": [
      "https://arxiv.org/abs/1606.07792v1.pdf 236\n"
     ]
    },
    {
     "name": "stderr",
     "output_type": "stream",
     "text": [
      "2019-06-19 18:35:39,761 [MainThread  ] [INFO ]  Retrieving https://arxiv.org/pdf/1606.07792v1.pdf to /var/folders/1x/nph4r0452v1dk6t51bknf9080000gn/T/https-arxiv-org-pdf-1606-07792v1-pdf.\n"
     ]
    },
    {
     "name": "stdout",
     "output_type": "stream",
     "text": [
      "https://arxiv.org/abs/1602.00172v2.pdf 237\n"
     ]
    },
    {
     "name": "stderr",
     "output_type": "stream",
     "text": [
      "2019-06-19 18:35:42,469 [MainThread  ] [INFO ]  Retrieving https://arxiv.org/pdf/1602.00172v2.pdf to /var/folders/1x/nph4r0452v1dk6t51bknf9080000gn/T/https-arxiv-org-pdf-1602-00172v2-pdf.\n"
     ]
    },
    {
     "name": "stdout",
     "output_type": "stream",
     "text": [
      "https://arxiv.org/abs/1609.03499v2.pdf 238\n"
     ]
    },
    {
     "name": "stderr",
     "output_type": "stream",
     "text": [
      "2019-06-19 18:35:44,867 [MainThread  ] [INFO ]  Retrieving https://arxiv.org/pdf/1609.03499v2.pdf to /var/folders/1x/nph4r0452v1dk6t51bknf9080000gn/T/https-arxiv-org-pdf-1609-03499v2-pdf.\n"
     ]
    },
    {
     "name": "stdout",
     "output_type": "stream",
     "text": [
      "https://arxiv.org/abs/1704.04920v3.pdf 239\n"
     ]
    },
    {
     "name": "stderr",
     "output_type": "stream",
     "text": [
      "2019-06-19 18:35:52,286 [MainThread  ] [INFO ]  Retrieving https://arxiv.org/pdf/1704.04920v3.pdf to /var/folders/1x/nph4r0452v1dk6t51bknf9080000gn/T/https-arxiv-org-pdf-1704-04920v3-pdf.\n"
     ]
    },
    {
     "name": "stdout",
     "output_type": "stream",
     "text": [
      "https://arxiv.org/abs/1511.07122v3.pdf 240\n"
     ]
    },
    {
     "name": "stderr",
     "output_type": "stream",
     "text": [
      "2019-06-19 18:35:55,559 [MainThread  ] [INFO ]  Retrieving https://arxiv.org/pdf/1511.07122v3.pdf to /var/folders/1x/nph4r0452v1dk6t51bknf9080000gn/T/https-arxiv-org-pdf-1511-07122v3-pdf.\n"
     ]
    },
    {
     "name": "stdout",
     "output_type": "stream",
     "text": [
      "https://arxiv.org/abs/1901.04112v1.pdf 241\n"
     ]
    },
    {
     "name": "stderr",
     "output_type": "stream",
     "text": [
      "2019-06-19 18:36:03,223 [MainThread  ] [INFO ]  Retrieving https://arxiv.org/pdf/1901.04112v1.pdf to /var/folders/1x/nph4r0452v1dk6t51bknf9080000gn/T/https-arxiv-org-pdf-1901-04112v1-pdf.\n"
     ]
    },
    {
     "name": "stdout",
     "output_type": "stream",
     "text": [
      "https://arxiv.org/abs/1612.07919v2.pdf 242\n"
     ]
    },
    {
     "name": "stderr",
     "output_type": "stream",
     "text": [
      "2019-06-19 18:36:07,464 [MainThread  ] [INFO ]  Retrieving https://arxiv.org/pdf/1612.07919v2.pdf to /var/folders/1x/nph4r0452v1dk6t51bknf9080000gn/T/https-arxiv-org-pdf-1612-07919v2-pdf.\n"
     ]
    },
    {
     "name": "stdout",
     "output_type": "stream",
     "text": [
      "https://arxiv.org/abs/1808.04505v1.pdf 243\n"
     ]
    },
    {
     "name": "stderr",
     "output_type": "stream",
     "text": [
      "2019-06-19 18:36:20,555 [MainThread  ] [INFO ]  Retrieving https://arxiv.org/pdf/1808.04505v1.pdf to /var/folders/1x/nph4r0452v1dk6t51bknf9080000gn/T/https-arxiv-org-pdf-1808-04505v1-pdf.\n"
     ]
    },
    {
     "name": "stdout",
     "output_type": "stream",
     "text": [
      "https://arxiv.org/abs/1610.02915v4.pdf 244\n"
     ]
    },
    {
     "name": "stderr",
     "output_type": "stream",
     "text": [
      "2019-06-19 18:36:32,148 [MainThread  ] [INFO ]  Retrieving https://arxiv.org/pdf/1610.02915v4.pdf to /var/folders/1x/nph4r0452v1dk6t51bknf9080000gn/T/https-arxiv-org-pdf-1610-02915v4-pdf.\n"
     ]
    },
    {
     "name": "stdout",
     "output_type": "stream",
     "text": [
      "https://arxiv.org/abs/1804.07888v2.pdf 245\n"
     ]
    },
    {
     "name": "stderr",
     "output_type": "stream",
     "text": [
      "2019-06-19 18:36:44,932 [MainThread  ] [INFO ]  Retrieving https://arxiv.org/pdf/1804.07888v2.pdf to /var/folders/1x/nph4r0452v1dk6t51bknf9080000gn/T/https-arxiv-org-pdf-1804-07888v2-pdf.\n"
     ]
    },
    {
     "name": "stdout",
     "output_type": "stream",
     "text": [
      "https://arxiv.org/abs/1707.04412v1.pdf 246\n"
     ]
    },
    {
     "name": "stderr",
     "output_type": "stream",
     "text": [
      "2019-06-19 18:36:47,705 [MainThread  ] [INFO ]  Retrieving https://arxiv.org/pdf/1707.04412v1.pdf to /var/folders/1x/nph4r0452v1dk6t51bknf9080000gn/T/https-arxiv-org-pdf-1707-04412v1-pdf.\n"
     ]
    },
    {
     "name": "stdout",
     "output_type": "stream",
     "text": [
      "https://arxiv.org/abs/1611.04361v1.pdf 247\n"
     ]
    },
    {
     "name": "stderr",
     "output_type": "stream",
     "text": [
      "2019-06-19 18:36:50,321 [MainThread  ] [INFO ]  Retrieving https://arxiv.org/pdf/1611.04361v1.pdf to /var/folders/1x/nph4r0452v1dk6t51bknf9080000gn/T/https-arxiv-org-pdf-1611-04361v1-pdf.\n"
     ]
    },
    {
     "name": "stdout",
     "output_type": "stream",
     "text": [
      "https://arxiv.org/abs/1706.02256v2.pdf 248\n"
     ]
    },
    {
     "name": "stderr",
     "output_type": "stream",
     "text": [
      "2019-06-19 18:36:52,872 [MainThread  ] [INFO ]  Retrieving https://arxiv.org/pdf/1706.02256v2.pdf to /var/folders/1x/nph4r0452v1dk6t51bknf9080000gn/T/https-arxiv-org-pdf-1706-02256v2-pdf.\n"
     ]
    },
    {
     "name": "stdout",
     "output_type": "stream",
     "text": [
      "https://arxiv.org/abs/1312.6229v4.pdf 249\n"
     ]
    },
    {
     "name": "stderr",
     "output_type": "stream",
     "text": [
      "2019-06-19 18:36:56,160 [MainThread  ] [INFO ]  Retrieving https://arxiv.org/pdf/1312.6229v4.pdf to /var/folders/1x/nph4r0452v1dk6t51bknf9080000gn/T/https-arxiv-org-pdf-1312-6229v4-pdf.\n"
     ]
    },
    {
     "name": "stdout",
     "output_type": "stream",
     "text": [
      "https://arxiv.org/abs/1805.01052v1.pdf 250\n"
     ]
    },
    {
     "name": "stderr",
     "output_type": "stream",
     "text": [
      "2019-06-19 18:37:00,049 [MainThread  ] [INFO ]  Retrieving https://arxiv.org/pdf/1805.01052v1.pdf to /var/folders/1x/nph4r0452v1dk6t51bknf9080000gn/T/https-arxiv-org-pdf-1805-01052v1-pdf.\n"
     ]
    },
    {
     "name": "stdout",
     "output_type": "stream",
     "text": [
      "https://arxiv.org/abs/1612.08185v4.pdf 251\n"
     ]
    },
    {
     "name": "stderr",
     "output_type": "stream",
     "text": [
      "2019-06-19 18:37:03,128 [MainThread  ] [INFO ]  Retrieving https://arxiv.org/pdf/1612.08185v4.pdf to /var/folders/1x/nph4r0452v1dk6t51bknf9080000gn/T/https-arxiv-org-pdf-1612-08185v4-pdf.\n"
     ]
    },
    {
     "name": "stdout",
     "output_type": "stream",
     "text": [
      "https://arxiv.org/abs/1406.7806v2.pdf 252\n"
     ]
    },
    {
     "name": "stderr",
     "output_type": "stream",
     "text": [
      "2019-06-19 18:37:07,831 [MainThread  ] [INFO ]  Retrieving https://arxiv.org/pdf/1406.7806v2.pdf to /var/folders/1x/nph4r0452v1dk6t51bknf9080000gn/T/https-arxiv-org-pdf-1406-7806v2-pdf.\n"
     ]
    },
    {
     "name": "stdout",
     "output_type": "stream",
     "text": [
      "https://arxiv.org/abs/1811.00960v1.pdf 253\n"
     ]
    },
    {
     "name": "stderr",
     "output_type": "stream",
     "text": [
      "2019-06-19 18:37:14,533 [MainThread  ] [INFO ]  Retrieving https://arxiv.org/pdf/1811.00960v1.pdf to /var/folders/1x/nph4r0452v1dk6t51bknf9080000gn/T/https-arxiv-org-pdf-1811-00960v1-pdf.\n"
     ]
    },
    {
     "name": "stdout",
     "output_type": "stream",
     "text": [
      "https://arxiv.org/abs/1803.06524v2.pdf 254\n"
     ]
    },
    {
     "name": "stderr",
     "output_type": "stream",
     "text": [
      "2019-06-19 18:37:17,692 [MainThread  ] [INFO ]  Retrieving https://arxiv.org/pdf/1803.06524v2.pdf to /var/folders/1x/nph4r0452v1dk6t51bknf9080000gn/T/https-arxiv-org-pdf-1803-06524v2-pdf.\n"
     ]
    },
    {
     "name": "stdout",
     "output_type": "stream",
     "text": [
      "https://arxiv.org/abs/1604.08772v1.pdf 255\n"
     ]
    },
    {
     "name": "stderr",
     "output_type": "stream",
     "text": [
      "2019-06-19 18:37:27,392 [MainThread  ] [INFO ]  Retrieving https://arxiv.org/pdf/1604.08772v1.pdf to /var/folders/1x/nph4r0452v1dk6t51bknf9080000gn/T/https-arxiv-org-pdf-1604-08772v1-pdf.\n"
     ]
    },
    {
     "name": "stdout",
     "output_type": "stream",
     "text": [
      "https://arxiv.org/abs/1603.00223v2.pdf 256\n"
     ]
    },
    {
     "name": "stderr",
     "output_type": "stream",
     "text": [
      "2019-06-19 18:37:41,570 [MainThread  ] [INFO ]  Retrieving https://arxiv.org/pdf/1603.00223v2.pdf to /var/folders/1x/nph4r0452v1dk6t51bknf9080000gn/T/https-arxiv-org-pdf-1603-00223v2-pdf.\n"
     ]
    },
    {
     "name": "stdout",
     "output_type": "stream",
     "text": [
      "https://arxiv.org/abs/1707.06642v2.pdf 257\n"
     ]
    },
    {
     "name": "stderr",
     "output_type": "stream",
     "text": [
      "2019-06-19 18:37:44,347 [MainThread  ] [INFO ]  Retrieving https://arxiv.org/pdf/1707.06642v2.pdf to /var/folders/1x/nph4r0452v1dk6t51bknf9080000gn/T/https-arxiv-org-pdf-1707-06642v2-pdf.\n"
     ]
    },
    {
     "name": "stdout",
     "output_type": "stream",
     "text": [
      "https://arxiv.org/abs/1903.10128v1.pdf 258\n"
     ]
    },
    {
     "name": "stderr",
     "output_type": "stream",
     "text": [
      "2019-06-19 18:38:02,298 [MainThread  ] [INFO ]  Retrieving https://arxiv.org/pdf/1903.10128v1.pdf to /var/folders/1x/nph4r0452v1dk6t51bknf9080000gn/T/https-arxiv-org-pdf-1903-10128v1-pdf.\n"
     ]
    },
    {
     "name": "stdout",
     "output_type": "stream",
     "text": [
      "https://arxiv.org/abs/1709.04329v1.pdf 259\n"
     ]
    },
    {
     "name": "stderr",
     "output_type": "stream",
     "text": [
      "2019-06-19 18:38:43,423 [MainThread  ] [INFO ]  Retrieving https://arxiv.org/pdf/1709.04329v1.pdf to /var/folders/1x/nph4r0452v1dk6t51bknf9080000gn/T/https-arxiv-org-pdf-1709-04329v1-pdf.\n"
     ]
    },
    {
     "name": "stdout",
     "output_type": "stream",
     "text": [
      "https://arxiv.org/abs/1607.04492v2.pdf 260\n"
     ]
    },
    {
     "name": "stderr",
     "output_type": "stream",
     "text": [
      "2019-06-19 18:38:50,353 [MainThread  ] [INFO ]  Retrieving https://arxiv.org/pdf/1607.04492v2.pdf to /var/folders/1x/nph4r0452v1dk6t51bknf9080000gn/T/https-arxiv-org-pdf-1607-04492v2-pdf.\n"
     ]
    },
    {
     "name": "stdout",
     "output_type": "stream",
     "text": [
      "https://arxiv.org/abs/1810.01808v1.pdf 261\n"
     ]
    },
    {
     "name": "stderr",
     "output_type": "stream",
     "text": [
      "2019-06-19 18:38:53,396 [MainThread  ] [INFO ]  Retrieving https://arxiv.org/pdf/1810.01808v1.pdf to /var/folders/1x/nph4r0452v1dk6t51bknf9080000gn/T/https-arxiv-org-pdf-1810-01808v1-pdf.\n"
     ]
    },
    {
     "name": "stdout",
     "output_type": "stream",
     "text": [
      "https://arxiv.org/abs/1807.03955v2.pdf 262\n"
     ]
    },
    {
     "name": "stderr",
     "output_type": "stream",
     "text": [
      "2019-06-19 18:38:56,192 [MainThread  ] [INFO ]  Retrieving https://arxiv.org/pdf/1807.03955v2.pdf to /var/folders/1x/nph4r0452v1dk6t51bknf9080000gn/T/https-arxiv-org-pdf-1807-03955v2-pdf.\n"
     ]
    },
    {
     "name": "stdout",
     "output_type": "stream",
     "text": [
      "https://arxiv.org/abs/1805.09655v3.pdf 263\n"
     ]
    },
    {
     "name": "stderr",
     "output_type": "stream",
     "text": [
      "2019-06-19 18:38:59,005 [MainThread  ] [INFO ]  Retrieving https://arxiv.org/pdf/1805.09655v3.pdf to /var/folders/1x/nph4r0452v1dk6t51bknf9080000gn/T/https-arxiv-org-pdf-1805-09655v3-pdf.\n"
     ]
    },
    {
     "name": "stdout",
     "output_type": "stream",
     "text": [
      "https://arxiv.org/abs/1404.4326v1.pdf 264\n"
     ]
    },
    {
     "name": "stderr",
     "output_type": "stream",
     "text": [
      "2019-06-19 18:39:02,516 [MainThread  ] [INFO ]  Retrieving https://arxiv.org/pdf/1404.4326v1.pdf to /var/folders/1x/nph4r0452v1dk6t51bknf9080000gn/T/https-arxiv-org-pdf-1404-4326v1-pdf.\n"
     ]
    },
    {
     "name": "stdout",
     "output_type": "stream",
     "text": [
      "https://arxiv.org/abs/1511.05644v2.pdf 265\n"
     ]
    },
    {
     "name": "stderr",
     "output_type": "stream",
     "text": [
      "2019-06-19 18:39:05,409 [MainThread  ] [INFO ]  Retrieving https://arxiv.org/pdf/1511.05644v2.pdf to /var/folders/1x/nph4r0452v1dk6t51bknf9080000gn/T/https-arxiv-org-pdf-1511-05644v2-pdf.\n"
     ]
    },
    {
     "name": "stdout",
     "output_type": "stream",
     "text": [
      "https://arxiv.org/abs/1504.08083v2.pdf 266\n"
     ]
    },
    {
     "name": "stderr",
     "output_type": "stream",
     "text": [
      "2019-06-19 18:39:22,947 [MainThread  ] [INFO ]  Retrieving https://arxiv.org/pdf/1504.08083v2.pdf to /var/folders/1x/nph4r0452v1dk6t51bknf9080000gn/T/https-arxiv-org-pdf-1504-08083v2-pdf.\n"
     ]
    },
    {
     "name": "stdout",
     "output_type": "stream",
     "text": [
      "https://arxiv.org/abs/1811.03873v1.pdf 267\n"
     ]
    },
    {
     "name": "stderr",
     "output_type": "stream",
     "text": [
      "2019-06-19 18:39:26,945 [MainThread  ] [INFO ]  Retrieving https://arxiv.org/pdf/1811.03873v1.pdf to /var/folders/1x/nph4r0452v1dk6t51bknf9080000gn/T/https-arxiv-org-pdf-1811-03873v1-pdf.\n"
     ]
    },
    {
     "name": "stdout",
     "output_type": "stream",
     "text": [
      "https://arxiv.org/abs/1409.7495v2.pdf 268\n"
     ]
    },
    {
     "name": "stderr",
     "output_type": "stream",
     "text": [
      "2019-06-19 18:39:32,361 [MainThread  ] [INFO ]  Retrieving https://arxiv.org/pdf/1409.7495v2.pdf to /var/folders/1x/nph4r0452v1dk6t51bknf9080000gn/T/https-arxiv-org-pdf-1409-7495v2-pdf.\n"
     ]
    },
    {
     "name": "stdout",
     "output_type": "stream",
     "text": [
      "https://arxiv.org/abs/1706.08090v1.pdf 269\n"
     ]
    },
    {
     "name": "stderr",
     "output_type": "stream",
     "text": [
      "2019-06-19 18:39:40,671 [MainThread  ] [INFO ]  Retrieving https://arxiv.org/pdf/1706.08090v1.pdf to /var/folders/1x/nph4r0452v1dk6t51bknf9080000gn/T/https-arxiv-org-pdf-1706-08090v1-pdf.\n"
     ]
    },
    {
     "name": "stdout",
     "output_type": "stream",
     "text": [
      "https://arxiv.org/abs/1702.05693v1.pdf 270\n"
     ]
    },
    {
     "name": "stderr",
     "output_type": "stream",
     "text": [
      "2019-06-19 18:39:43,672 [MainThread  ] [INFO ]  Retrieving https://arxiv.org/pdf/1702.05693v1.pdf to /var/folders/1x/nph4r0452v1dk6t51bknf9080000gn/T/https-arxiv-org-pdf-1702-05693v1-pdf.\n"
     ]
    },
    {
     "name": "stdout",
     "output_type": "stream",
     "text": [
      "https://arxiv.org/abs/1805.10190v3.pdf 271\n"
     ]
    },
    {
     "name": "stderr",
     "output_type": "stream",
     "text": [
      "2019-06-19 18:40:03,733 [MainThread  ] [INFO ]  Retrieving https://arxiv.org/pdf/1805.10190v3.pdf to /var/folders/1x/nph4r0452v1dk6t51bknf9080000gn/T/https-arxiv-org-pdf-1805-10190v3-pdf.\n"
     ]
    },
    {
     "name": "stdout",
     "output_type": "stream",
     "text": [
      "https://arxiv.org/abs/1709.02755v5.pdf 272\n"
     ]
    },
    {
     "name": "stderr",
     "output_type": "stream",
     "text": [
      "2019-06-19 18:40:08,694 [MainThread  ] [INFO ]  Retrieving https://arxiv.org/pdf/1709.02755v5.pdf to /var/folders/1x/nph4r0452v1dk6t51bknf9080000gn/T/https-arxiv-org-pdf-1709-02755v5-pdf.\n"
     ]
    },
    {
     "name": "stdout",
     "output_type": "stream",
     "text": [
      "https://arxiv.org/abs/1507.02672v2.pdf 273\n"
     ]
    },
    {
     "name": "stderr",
     "output_type": "stream",
     "text": [
      "2019-06-19 18:40:12,704 [MainThread  ] [INFO ]  Retrieving https://arxiv.org/pdf/1507.02672v2.pdf to /var/folders/1x/nph4r0452v1dk6t51bknf9080000gn/T/https-arxiv-org-pdf-1507-02672v2-pdf.\n"
     ]
    },
    {
     "name": "stdout",
     "output_type": "stream",
     "text": [
      "https://arxiv.org/abs/1711.02132v1.pdf 274\n"
     ]
    },
    {
     "name": "stderr",
     "output_type": "stream",
     "text": [
      "2019-06-19 18:40:16,045 [MainThread  ] [INFO ]  Retrieving https://arxiv.org/pdf/1711.02132v1.pdf to /var/folders/1x/nph4r0452v1dk6t51bknf9080000gn/T/https-arxiv-org-pdf-1711-02132v1-pdf.\n"
     ]
    },
    {
     "name": "stdout",
     "output_type": "stream",
     "text": [
      "https://arxiv.org/abs/1711.00106v2.pdf 275\n"
     ]
    },
    {
     "name": "stderr",
     "output_type": "stream",
     "text": [
      "2019-06-19 18:40:19,518 [MainThread  ] [INFO ]  Retrieving https://arxiv.org/pdf/1711.00106v2.pdf to /var/folders/1x/nph4r0452v1dk6t51bknf9080000gn/T/https-arxiv-org-pdf-1711-00106v2-pdf.\n"
     ]
    },
    {
     "name": "stdout",
     "output_type": "stream",
     "text": [
      "https://arxiv.org/abs/1612.04426v1.pdf 276\n"
     ]
    },
    {
     "name": "stderr",
     "output_type": "stream",
     "text": [
      "2019-06-19 18:40:22,514 [MainThread  ] [INFO ]  Retrieving https://arxiv.org/pdf/1612.04426v1.pdf to /var/folders/1x/nph4r0452v1dk6t51bknf9080000gn/T/https-arxiv-org-pdf-1612-04426v1-pdf.\n"
     ]
    },
    {
     "name": "stdout",
     "output_type": "stream",
     "text": [
      "https://arxiv.org/abs/1606.02147v1.pdf 277\n"
     ]
    },
    {
     "name": "stderr",
     "output_type": "stream",
     "text": [
      "2019-06-19 18:40:25,865 [MainThread  ] [INFO ]  Retrieving https://arxiv.org/pdf/1606.02147v1.pdf to /var/folders/1x/nph4r0452v1dk6t51bknf9080000gn/T/https-arxiv-org-pdf-1606-02147v1-pdf.\n"
     ]
    },
    {
     "name": "stdout",
     "output_type": "stream",
     "text": [
      "https://arxiv.org/abs/1810.09311v1.pdf 278\n"
     ]
    },
    {
     "name": "stderr",
     "output_type": "stream",
     "text": [
      "2019-06-19 18:40:33,703 [MainThread  ] [INFO ]  Retrieving https://arxiv.org/pdf/1810.09311v1.pdf to /var/folders/1x/nph4r0452v1dk6t51bknf9080000gn/T/https-arxiv-org-pdf-1810-09311v1-pdf.\n"
     ]
    },
    {
     "name": "stdout",
     "output_type": "stream",
     "text": [
      "https://arxiv.org/abs/1803.06459v1.pdf 279\n"
     ]
    },
    {
     "name": "stderr",
     "output_type": "stream",
     "text": [
      "2019-06-19 18:40:36,835 [MainThread  ] [INFO ]  Retrieving https://arxiv.org/pdf/1803.06459v1.pdf to /var/folders/1x/nph4r0452v1dk6t51bknf9080000gn/T/https-arxiv-org-pdf-1803-06459v1-pdf.\n"
     ]
    },
    {
     "name": "stdout",
     "output_type": "stream",
     "text": [
      "https://arxiv.org/abs/1810.12563v1.pdf 280\n"
     ]
    },
    {
     "name": "stderr",
     "output_type": "stream",
     "text": [
      "2019-06-19 18:40:40,189 [MainThread  ] [INFO ]  Retrieving https://arxiv.org/pdf/1810.12563v1.pdf to /var/folders/1x/nph4r0452v1dk6t51bknf9080000gn/T/https-arxiv-org-pdf-1810-12563v1-pdf.\n"
     ]
    },
    {
     "name": "stdout",
     "output_type": "stream",
     "text": [
      "https://arxiv.org/abs/1606.02891v2.pdf 281\n"
     ]
    },
    {
     "name": "stderr",
     "output_type": "stream",
     "text": [
      "2019-06-19 18:40:43,712 [MainThread  ] [INFO ]  Retrieving https://arxiv.org/pdf/1606.02891v2.pdf to /var/folders/1x/nph4r0452v1dk6t51bknf9080000gn/T/https-arxiv-org-pdf-1606-02891v2-pdf.\n"
     ]
    },
    {
     "name": "stdout",
     "output_type": "stream",
     "text": [
      "https://arxiv.org/abs/1803.11175v2.pdf 282\n"
     ]
    },
    {
     "name": "stderr",
     "output_type": "stream",
     "text": [
      "2019-06-19 18:40:45,752 [MainThread  ] [INFO ]  Retrieving https://arxiv.org/pdf/1803.11175v2.pdf to /var/folders/1x/nph4r0452v1dk6t51bknf9080000gn/T/https-arxiv-org-pdf-1803-11175v2-pdf.\n"
     ]
    },
    {
     "name": "stdout",
     "output_type": "stream",
     "text": [
      "https://arxiv.org/abs/1802.02550v7.pdf 283\n"
     ]
    },
    {
     "name": "stderr",
     "output_type": "stream",
     "text": [
      "2019-06-19 18:40:48,969 [MainThread  ] [INFO ]  Retrieving https://arxiv.org/pdf/1802.02550v7.pdf to /var/folders/1x/nph4r0452v1dk6t51bknf9080000gn/T/https-arxiv-org-pdf-1802-02550v7-pdf.\n"
     ]
    },
    {
     "name": "stdout",
     "output_type": "stream",
     "text": [
      "https://arxiv.org/abs/1511.02853v4.pdf 284\n"
     ]
    },
    {
     "name": "stderr",
     "output_type": "stream",
     "text": [
      "2019-06-19 18:40:52,656 [MainThread  ] [INFO ]  Retrieving https://arxiv.org/pdf/1511.02853v4.pdf to /var/folders/1x/nph4r0452v1dk6t51bknf9080000gn/T/https-arxiv-org-pdf-1511-02853v4-pdf.\n"
     ]
    },
    {
     "name": "stdout",
     "output_type": "stream",
     "text": [
      "https://arxiv.org/abs/1505.00393v3.pdf 285\n"
     ]
    },
    {
     "name": "stderr",
     "output_type": "stream",
     "text": [
      "2019-06-19 18:41:00,267 [MainThread  ] [INFO ]  Retrieving https://arxiv.org/pdf/1505.00393v3.pdf to /var/folders/1x/nph4r0452v1dk6t51bknf9080000gn/T/https-arxiv-org-pdf-1505-00393v3-pdf.\n"
     ]
    },
    {
     "name": "stdout",
     "output_type": "stream",
     "text": [
      "https://arxiv.org/abs/1904.12848.pdf 286\n"
     ]
    },
    {
     "name": "stderr",
     "output_type": "stream",
     "text": [
      "2019-06-19 18:41:04,997 [MainThread  ] [INFO ]  Retrieving https://arxiv.org/pdf/1904.12848.pdf to /var/folders/1x/nph4r0452v1dk6t51bknf9080000gn/T/https-arxiv-org-pdf-1904-12848-pdf.\n"
     ]
    },
    {
     "name": "stdout",
     "output_type": "stream",
     "text": [
      "https://arxiv.org/abs/1702.02447v2.pdf 287\n"
     ]
    },
    {
     "name": "stderr",
     "output_type": "stream",
     "text": [
      "2019-06-19 18:41:07,854 [MainThread  ] [INFO ]  Retrieving https://arxiv.org/pdf/1702.02447v2.pdf to /var/folders/1x/nph4r0452v1dk6t51bknf9080000gn/T/https-arxiv-org-pdf-1702-02447v2-pdf.\n"
     ]
    },
    {
     "name": "stdout",
     "output_type": "stream",
     "text": [
      "https://arxiv.org/abs/1810.12703v1.pdf 288\n"
     ]
    },
    {
     "name": "stderr",
     "output_type": "stream",
     "text": [
      "2019-06-19 18:41:11,845 [MainThread  ] [INFO ]  Retrieving https://arxiv.org/pdf/1810.12703v1.pdf to /var/folders/1x/nph4r0452v1dk6t51bknf9080000gn/T/https-arxiv-org-pdf-1810-12703v1-pdf.\n"
     ]
    },
    {
     "name": "stdout",
     "output_type": "stream",
     "text": [
      "https://arxiv.org/abs/1811.09386v1.pdf 289\n"
     ]
    },
    {
     "name": "stderr",
     "output_type": "stream",
     "text": [
      "2019-06-19 18:41:14,803 [MainThread  ] [INFO ]  Retrieving https://arxiv.org/pdf/1811.09386v1.pdf to /var/folders/1x/nph4r0452v1dk6t51bknf9080000gn/T/https-arxiv-org-pdf-1811-09386v1-pdf.\n"
     ]
    },
    {
     "name": "stdout",
     "output_type": "stream",
     "text": [
      "https://arxiv.org/abs/1901.10430v2.pdf 290\n"
     ]
    },
    {
     "name": "stderr",
     "output_type": "stream",
     "text": [
      "2019-06-19 18:41:17,957 [MainThread  ] [INFO ]  Retrieving https://arxiv.org/pdf/1901.10430v2.pdf to /var/folders/1x/nph4r0452v1dk6t51bknf9080000gn/T/https-arxiv-org-pdf-1901-10430v2-pdf.\n"
     ]
    },
    {
     "name": "stdout",
     "output_type": "stream",
     "text": [
      "https://arxiv.org/abs/1711.06897v3.pdf 291\n"
     ]
    },
    {
     "name": "stderr",
     "output_type": "stream",
     "text": [
      "2019-06-19 18:41:21,123 [MainThread  ] [INFO ]  Retrieving https://arxiv.org/pdf/1711.06897v3.pdf to /var/folders/1x/nph4r0452v1dk6t51bknf9080000gn/T/https-arxiv-org-pdf-1711-06897v3-pdf.\n"
     ]
    },
    {
     "name": "stdout",
     "output_type": "stream",
     "text": [
      "https://arxiv.org/abs/1803.08999v1.pdf 292\n"
     ]
    },
    {
     "name": "stderr",
     "output_type": "stream",
     "text": [
      "2019-06-19 18:41:29,959 [MainThread  ] [INFO ]  Retrieving https://arxiv.org/pdf/1803.08999v1.pdf to /var/folders/1x/nph4r0452v1dk6t51bknf9080000gn/T/https-arxiv-org-pdf-1803-08999v1-pdf.\n"
     ]
    },
    {
     "name": "stdout",
     "output_type": "stream",
     "text": [
      "https://arxiv.org/abs/1703.01290v1.pdf 293\n"
     ]
    },
    {
     "name": "stderr",
     "output_type": "stream",
     "text": [
      "2019-06-19 18:41:48,297 [MainThread  ] [INFO ]  Retrieving https://arxiv.org/pdf/1703.01290v1.pdf to /var/folders/1x/nph4r0452v1dk6t51bknf9080000gn/T/https-arxiv-org-pdf-1703-01290v1-pdf.\n"
     ]
    },
    {
     "name": "stdout",
     "output_type": "stream",
     "text": [
      "https://arxiv.org/abs/1803.09331v2.pdf 294\n"
     ]
    },
    {
     "name": "stderr",
     "output_type": "stream",
     "text": [
      "2019-06-19 18:41:55,157 [MainThread  ] [INFO ]  Retrieving https://arxiv.org/pdf/1803.09331v2.pdf to /var/folders/1x/nph4r0452v1dk6t51bknf9080000gn/T/https-arxiv-org-pdf-1803-09331v2-pdf.\n"
     ]
    },
    {
     "name": "stdout",
     "output_type": "stream",
     "text": [
      "https://arxiv.org/abs/1710.09537v1.pdf 295\n"
     ]
    },
    {
     "name": "stderr",
     "output_type": "stream",
     "text": [
      "2019-06-19 18:42:08,399 [MainThread  ] [INFO ]  Retrieving https://arxiv.org/pdf/1710.09537v1.pdf to /var/folders/1x/nph4r0452v1dk6t51bknf9080000gn/T/https-arxiv-org-pdf-1710-09537v1-pdf.\n"
     ]
    },
    {
     "name": "stdout",
     "output_type": "stream",
     "text": [
      "https://arxiv.org/abs/1706.05587v3.pdf 296\n"
     ]
    },
    {
     "name": "stderr",
     "output_type": "stream",
     "text": [
      "2019-06-19 18:42:12,362 [MainThread  ] [INFO ]  Retrieving https://arxiv.org/pdf/1706.05587v3.pdf to /var/folders/1x/nph4r0452v1dk6t51bknf9080000gn/T/https-arxiv-org-pdf-1706-05587v3-pdf.\n"
     ]
    },
    {
     "name": "stdout",
     "output_type": "stream",
     "text": [
      "https://arxiv.org/abs/1802.05591v1.pdf 297\n"
     ]
    },
    {
     "name": "stderr",
     "output_type": "stream",
     "text": [
      "2019-06-19 18:42:19,622 [MainThread  ] [INFO ]  Retrieving https://arxiv.org/pdf/1802.05591v1.pdf to /var/folders/1x/nph4r0452v1dk6t51bknf9080000gn/T/https-arxiv-org-pdf-1802-05591v1-pdf.\n"
     ]
    },
    {
     "name": "stdout",
     "output_type": "stream",
     "text": [
      "https://arxiv.org/abs/1612.00606v1.pdf 298\n"
     ]
    },
    {
     "name": "stderr",
     "output_type": "stream",
     "text": [
      "2019-06-19 18:42:24,552 [MainThread  ] [INFO ]  Retrieving https://arxiv.org/pdf/1612.00606v1.pdf to /var/folders/1x/nph4r0452v1dk6t51bknf9080000gn/T/https-arxiv-org-pdf-1612-00606v1-pdf.\n"
     ]
    },
    {
     "name": "stdout",
     "output_type": "stream",
     "text": [
      "https://arxiv.org/abs/1609.04331v1.pdf 299\n"
     ]
    },
    {
     "name": "stderr",
     "output_type": "stream",
     "text": [
      "2019-06-19 18:42:41,265 [MainThread  ] [INFO ]  Retrieving https://arxiv.org/pdf/1609.04331v1.pdf to /var/folders/1x/nph4r0452v1dk6t51bknf9080000gn/T/https-arxiv-org-pdf-1609-04331v1-pdf.\n",
      "/Users/nialdaly/Documents/gpt-2_model/venv/lib/python3.6/site-packages/ipykernel_launcher.py:23: SettingWithCopyWarning: \n",
      "A value is trying to be set on a copy of a slice from a DataFrame.\n",
      "Try using .loc[row_indexer,col_indexer] = value instead\n",
      "\n",
      "See the caveats in the documentation: http://pandas.pydata.org/pandas-docs/stable/indexing.html#indexing-view-versus-copy\n",
      "/Users/nialdaly/Documents/gpt-2_model/venv/lib/python3.6/site-packages/ipykernel_launcher.py:24: SettingWithCopyWarning: \n",
      "A value is trying to be set on a copy of a slice from a DataFrame.\n",
      "Try using .loc[row_indexer,col_indexer] = value instead\n",
      "\n",
      "See the caveats in the documentation: http://pandas.pydata.org/pandas-docs/stable/indexing.html#indexing-view-versus-copy\n"
     ]
    }
   ],
   "source": [
    "abstract_text = []\n",
    "\n",
    "paper_text = []\n",
    "\n",
    "for index, row in df_300.iterrows():\n",
    "    \n",
    "    print(row['paper_abs'], index)\n",
    "    \n",
    "    # adds abstract text to list\n",
    "    abs_url = row['paper_abs']\n",
    "    html_doc = requests.get(abs_url).content\n",
    "    soup = BeautifulSoup(html_doc, 'html.parser')\n",
    "    abstract = soup.find('blockquote', attrs={'class':'abstract mathjax'})\n",
    "    abstract_text.append(abstract.text)\n",
    "    \n",
    "    # adds paper text to list\n",
    "    content = parser.from_file(row['paper_url'])\n",
    "#     text = content['content']\n",
    "    text = re.sub(r'\\[[0-9]*\\]', ' ', str(content['content']))  \n",
    "    text = re.sub(r'\\s+', ' ', text)\n",
    "    paper_text.append(text)\n",
    "    \n",
    "df_300['abstract'] = abstract_text\n",
    "df_300['paper_text'] = paper_text"
   ]
  },
  {
   "cell_type": "markdown",
   "metadata": {},
   "source": [
    "##  Remove unneccessary columns"
   ]
  },
  {
   "cell_type": "code",
   "execution_count": 4,
   "metadata": {},
   "outputs": [
    {
     "data": {
      "text/html": [
       "<div>\n",
       "<style scoped>\n",
       "    .dataframe tbody tr th:only-of-type {\n",
       "        vertical-align: middle;\n",
       "    }\n",
       "\n",
       "    .dataframe tbody tr th {\n",
       "        vertical-align: top;\n",
       "    }\n",
       "\n",
       "    .dataframe thead th {\n",
       "        text-align: right;\n",
       "    }\n",
       "</style>\n",
       "<table border=\"1\" class=\"dataframe\">\n",
       "  <thead>\n",
       "    <tr style=\"text-align: right;\">\n",
       "      <th></th>\n",
       "      <th>paper_title</th>\n",
       "      <th>paper_url</th>\n",
       "      <th>task</th>\n",
       "      <th>metric_name</th>\n",
       "      <th>metric_value</th>\n",
       "      <th>model</th>\n",
       "      <th>paper_abs</th>\n",
       "      <th>abstract</th>\n",
       "      <th>paper_text</th>\n",
       "    </tr>\n",
       "  </thead>\n",
       "  <tbody>\n",
       "    <tr>\n",
       "      <th>200</th>\n",
       "      <td>The LovÌÁsz-Softmax loss: A tractable surrogat...</td>\n",
       "      <td>https://arxiv.org/pdf/1705.08790v2.pdf</td>\n",
       "      <td>Semantic Segmentation</td>\n",
       "      <td>Mean IoU</td>\n",
       "      <td>79.00%</td>\n",
       "      <td>Deeplab-v2 with Lovasz-Softmax loss</td>\n",
       "      <td>https://arxiv.org/abs/1705.08790v2.pdf</td>\n",
       "      <td>Abstract:  The Jaccard index, also referred to...</td>\n",
       "      <td>Accepted as a conference paper at CVPR 2018 T...</td>\n",
       "    </tr>\n",
       "  </tbody>\n",
       "</table>\n",
       "</div>"
      ],
      "text/plain": [
       "                                           paper_title  \\\n",
       "200  The LovÌÁsz-Softmax loss: A tractable surrogat...   \n",
       "\n",
       "                                  paper_url                   task  \\\n",
       "200  https://arxiv.org/pdf/1705.08790v2.pdf  Semantic Segmentation   \n",
       "\n",
       "    metric_name metric_value                                model  \\\n",
       "200    Mean IoU       79.00%  Deeplab-v2 with Lovasz-Softmax loss   \n",
       "\n",
       "                                  paper_abs  \\\n",
       "200  https://arxiv.org/abs/1705.08790v2.pdf   \n",
       "\n",
       "                                              abstract  \\\n",
       "200  Abstract:  The Jaccard index, also referred to...   \n",
       "\n",
       "                                            paper_text  \n",
       "200   Accepted as a conference paper at CVPR 2018 T...  "
      ]
     },
     "execution_count": 4,
     "metadata": {},
     "output_type": "execute_result"
    }
   ],
   "source": [
    "df_300 = df_300[['paper_title', 'paper_url', 'task', 'metric_name', 'metric_value', 'model', 'paper_abs', 'abstract', 'paper_text']]\n",
    "\n",
    "df_300.head(1)"
   ]
  },
  {
   "cell_type": "code",
   "execution_count": 5,
   "metadata": {},
   "outputs": [
    {
     "data": {
      "text/plain": [
       "100"
      ]
     },
     "execution_count": 5,
     "metadata": {},
     "output_type": "execute_result"
    }
   ],
   "source": [
    "len(df_300)"
   ]
  },
  {
   "cell_type": "code",
   "execution_count": 6,
   "metadata": {
    "collapsed": true
   },
   "outputs": [],
   "source": [
    "df_300.to_csv('../data/gpt-2_data_300.csv', index=False)"
   ]
  },
  {
   "cell_type": "code",
   "execution_count": null,
   "metadata": {
    "collapsed": true
   },
   "outputs": [],
   "source": []
  }
 ],
 "metadata": {
  "kernelspec": {
   "display_name": "gpt-2-model",
   "language": "python",
   "name": "gpt-2-model"
  },
  "language_info": {
   "codemirror_mode": {
    "name": "ipython",
    "version": 3
   },
   "file_extension": ".py",
   "mimetype": "text/x-python",
   "name": "python",
   "nbconvert_exporter": "python",
   "pygments_lexer": "ipython3",
   "version": "3.6.4"
  }
 },
 "nbformat": 4,
 "nbformat_minor": 2
}

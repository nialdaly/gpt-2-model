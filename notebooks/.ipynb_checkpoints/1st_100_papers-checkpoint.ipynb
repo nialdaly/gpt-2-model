{
 "cells": [
  {
   "cell_type": "code",
   "execution_count": 1,
   "metadata": {},
   "outputs": [],
   "source": [
    "from bs4 import BeautifulSoup\n",
    "from html.parser import HTMLParser\n",
    "import pandas as pd\n",
    "import re\n",
    "import tika\n",
    "from tika import parser\n",
    "import requests"
   ]
  },
  {
   "cell_type": "code",
   "execution_count": 2,
   "metadata": {},
   "outputs": [
    {
     "data": {
      "text/html": [
       "<div>\n",
       "<style scoped>\n",
       "    .dataframe tbody tr th:only-of-type {\n",
       "        vertical-align: middle;\n",
       "    }\n",
       "\n",
       "    .dataframe tbody tr th {\n",
       "        vertical-align: top;\n",
       "    }\n",
       "\n",
       "    .dataframe thead th {\n",
       "        text-align: right;\n",
       "    }\n",
       "</style>\n",
       "<table border=\"1\" class=\"dataframe\">\n",
       "  <thead>\n",
       "    <tr style=\"text-align: right;\">\n",
       "      <th></th>\n",
       "      <th>dataset</th>\n",
       "      <th>extradata</th>\n",
       "      <th>global_rank</th>\n",
       "      <th>metric_name</th>\n",
       "      <th>metric_value</th>\n",
       "      <th>model</th>\n",
       "      <th>remove</th>\n",
       "      <th>task</th>\n",
       "      <th>paper_title</th>\n",
       "      <th>paper_path</th>\n",
       "      <th>paper_url</th>\n",
       "      <th>paper_abs</th>\n",
       "    </tr>\n",
       "  </thead>\n",
       "  <tbody>\n",
       "    <tr>\n",
       "      <th>0</th>\n",
       "      <td>IC15</td>\n",
       "      <td>NaN</td>\n",
       "      <td># 10</td>\n",
       "      <td>F-Measure</td>\n",
       "      <td>75.61%</td>\n",
       "      <td>SegLink</td>\n",
       "      <td>-</td>\n",
       "      <td>Scene Text Detection</td>\n",
       "      <td>Detecting Oriented Text in Natural Images by L...</td>\n",
       "      <td>/paper/detecting-oriented-text-in-natural-imag...</td>\n",
       "      <td>https://arxiv.org/pdf/1703.06520v3.pdf</td>\n",
       "      <td>https://arxiv.org/abs/1703.06520v3.pdf</td>\n",
       "    </tr>\n",
       "  </tbody>\n",
       "</table>\n",
       "</div>"
      ],
      "text/plain": [
       "  dataset  extradata global_rank metric_name metric_value    model remove  \\\n",
       "0    IC15        NaN        # 10   F-Measure       75.61%  SegLink      -   \n",
       "\n",
       "                   task                                        paper_title  \\\n",
       "0  Scene Text Detection  Detecting Oriented Text in Natural Images by L...   \n",
       "\n",
       "                                          paper_path  \\\n",
       "0  /paper/detecting-oriented-text-in-natural-imag...   \n",
       "\n",
       "                                paper_url  \\\n",
       "0  https://arxiv.org/pdf/1703.06520v3.pdf   \n",
       "\n",
       "                                paper_abs  \n",
       "0  https://arxiv.org/abs/1703.06520v3.pdf  "
      ]
     },
     "execution_count": 2,
     "metadata": {},
     "output_type": "execute_result"
    }
   ],
   "source": [
    "df = pd.read_csv('../data/pw_code_model_data.csv', encoding='latin-1')\n",
    "\n",
    "# drop duplicate papers\n",
    "df = df.drop_duplicates(subset='paper_url')\n",
    "\n",
    "#\n",
    "df = df[df['paper_url'].str.contains(\"arxiv\")]\n",
    "\n",
    "df = df.reset_index(drop=True)\n",
    "\n",
    "df['paper_abs'] = df.paper_url.str.replace('/pdf', '/abs')\n",
    "\n",
    "df_100 = df[:100]\n",
    "\n",
    "df_100.head(1)"
   ]
  },
  {
   "cell_type": "markdown",
   "metadata": {},
   "source": [
    "## Extract paper abstracts and text"
   ]
  },
  {
   "cell_type": "code",
   "execution_count": 3,
   "metadata": {
    "scrolled": true
   },
   "outputs": [
    {
     "name": "stdout",
     "output_type": "stream",
     "text": [
      "https://arxiv.org/pdf/1703.06520v3.pdf 0\n"
     ]
    },
    {
     "name": "stderr",
     "output_type": "stream",
     "text": [
      "2019-06-18 22:08:46,708 [MainThread  ] [INFO ]  Retrieving https://arxiv.org/pdf/1703.06520v3.pdf to /var/folders/1x/nph4r0452v1dk6t51bknf9080000gn/T/https-arxiv-org-pdf-1703-06520v3-pdf.\n"
     ]
    },
    {
     "name": "stdout",
     "output_type": "stream",
     "text": [
      "https://arxiv.org/pdf/1607.04315v3.pdf 1\n"
     ]
    },
    {
     "name": "stderr",
     "output_type": "stream",
     "text": [
      "2019-06-18 22:09:06,077 [MainThread  ] [INFO ]  Retrieving https://arxiv.org/pdf/1607.04315v3.pdf to /var/folders/1x/nph4r0452v1dk6t51bknf9080000gn/T/https-arxiv-org-pdf-1607-04315v3-pdf.\n"
     ]
    },
    {
     "name": "stdout",
     "output_type": "stream",
     "text": [
      "https://arxiv.org/pdf/1807.09956v2.pdf 2\n"
     ]
    },
    {
     "name": "stderr",
     "output_type": "stream",
     "text": [
      "2019-06-18 22:09:09,031 [MainThread  ] [INFO ]  Retrieving https://arxiv.org/pdf/1807.09956v2.pdf to /var/folders/1x/nph4r0452v1dk6t51bknf9080000gn/T/https-arxiv-org-pdf-1807-09956v2-pdf.\n"
     ]
    },
    {
     "name": "stdout",
     "output_type": "stream",
     "text": [
      "https://arxiv.org/pdf/1809.11096v2.pdf 3\n"
     ]
    },
    {
     "name": "stderr",
     "output_type": "stream",
     "text": [
      "2019-06-18 22:09:11,541 [MainThread  ] [INFO ]  Retrieving https://arxiv.org/pdf/1809.11096v2.pdf to /var/folders/1x/nph4r0452v1dk6t51bknf9080000gn/T/https-arxiv-org-pdf-1809-11096v2-pdf.\n"
     ]
    },
    {
     "name": "stdout",
     "output_type": "stream",
     "text": [
      "https://arxiv.org/pdf/1811.01136v1.pdf 4\n"
     ]
    },
    {
     "name": "stderr",
     "output_type": "stream",
     "text": [
      "2019-06-18 22:09:35,002 [MainThread  ] [INFO ]  Retrieving https://arxiv.org/pdf/1811.01136v1.pdf to /var/folders/1x/nph4r0452v1dk6t51bknf9080000gn/T/https-arxiv-org-pdf-1811-01136v1-pdf.\n"
     ]
    },
    {
     "name": "stdout",
     "output_type": "stream",
     "text": [
      "https://arxiv.org/pdf/1806.02817v1.pdf 5\n"
     ]
    },
    {
     "name": "stderr",
     "output_type": "stream",
     "text": [
      "2019-06-18 22:09:37,889 [MainThread  ] [INFO ]  Retrieving https://arxiv.org/pdf/1806.02817v1.pdf to /var/folders/1x/nph4r0452v1dk6t51bknf9080000gn/T/https-arxiv-org-pdf-1806-02817v1-pdf.\n"
     ]
    },
    {
     "name": "stdout",
     "output_type": "stream",
     "text": [
      "https://arxiv.org/pdf/1804.09530v1.pdf 6\n"
     ]
    },
    {
     "name": "stderr",
     "output_type": "stream",
     "text": [
      "2019-06-18 22:09:44,941 [MainThread  ] [INFO ]  Retrieving https://arxiv.org/pdf/1804.09530v1.pdf to /var/folders/1x/nph4r0452v1dk6t51bknf9080000gn/T/https-arxiv-org-pdf-1804-09530v1-pdf.\n"
     ]
    },
    {
     "name": "stdout",
     "output_type": "stream",
     "text": [
      "https://arxiv.org/pdf/1809.00219v2.pdf 7\n"
     ]
    },
    {
     "name": "stderr",
     "output_type": "stream",
     "text": [
      "2019-06-18 22:09:48,496 [MainThread  ] [INFO ]  Retrieving https://arxiv.org/pdf/1809.00219v2.pdf to /var/folders/1x/nph4r0452v1dk6t51bknf9080000gn/T/https-arxiv-org-pdf-1809-00219v2-pdf.\n"
     ]
    },
    {
     "name": "stdout",
     "output_type": "stream",
     "text": [
      "https://arxiv.org/pdf/1809.08370v1.pdf 8\n"
     ]
    },
    {
     "name": "stderr",
     "output_type": "stream",
     "text": [
      "2019-06-18 22:10:01,374 [MainThread  ] [INFO ]  Retrieving https://arxiv.org/pdf/1809.08370v1.pdf to /var/folders/1x/nph4r0452v1dk6t51bknf9080000gn/T/https-arxiv-org-pdf-1809-08370v1-pdf.\n"
     ]
    },
    {
     "name": "stdout",
     "output_type": "stream",
     "text": [
      "https://arxiv.org/pdf/1804.08460v1.pdf 9\n"
     ]
    },
    {
     "name": "stderr",
     "output_type": "stream",
     "text": [
      "2019-06-18 22:10:05,138 [MainThread  ] [INFO ]  Retrieving https://arxiv.org/pdf/1804.08460v1.pdf to /var/folders/1x/nph4r0452v1dk6t51bknf9080000gn/T/https-arxiv-org-pdf-1804-08460v1-pdf.\n"
     ]
    },
    {
     "name": "stdout",
     "output_type": "stream",
     "text": [
      "https://arxiv.org/pdf/1704.06803v1.pdf 10\n"
     ]
    },
    {
     "name": "stderr",
     "output_type": "stream",
     "text": [
      "2019-06-18 22:10:08,319 [MainThread  ] [INFO ]  Retrieving https://arxiv.org/pdf/1704.06803v1.pdf to /var/folders/1x/nph4r0452v1dk6t51bknf9080000gn/T/https-arxiv-org-pdf-1704-06803v1-pdf.\n"
     ]
    },
    {
     "name": "stdout",
     "output_type": "stream",
     "text": [
      "https://arxiv.org/pdf/1805.09501v3.pdf 11\n"
     ]
    },
    {
     "name": "stderr",
     "output_type": "stream",
     "text": [
      "2019-06-18 22:10:24,152 [MainThread  ] [INFO ]  Retrieving https://arxiv.org/pdf/1805.09501v3.pdf to /var/folders/1x/nph4r0452v1dk6t51bknf9080000gn/T/https-arxiv-org-pdf-1805-09501v3-pdf.\n"
     ]
    },
    {
     "name": "stdout",
     "output_type": "stream",
     "text": [
      "https://arxiv.org/pdf/1707.01083v2.pdf 12\n"
     ]
    },
    {
     "name": "stderr",
     "output_type": "stream",
     "text": [
      "2019-06-18 22:10:28,624 [MainThread  ] [INFO ]  Retrieving https://arxiv.org/pdf/1707.01083v2.pdf to /var/folders/1x/nph4r0452v1dk6t51bknf9080000gn/T/https-arxiv-org-pdf-1707-01083v2-pdf.\n"
     ]
    },
    {
     "name": "stdout",
     "output_type": "stream",
     "text": [
      "https://arxiv.org/pdf/1501.05790v1.pdf 13\n"
     ]
    },
    {
     "name": "stderr",
     "output_type": "stream",
     "text": [
      "2019-06-18 22:10:31,679 [MainThread  ] [INFO ]  Retrieving https://arxiv.org/pdf/1501.05790v1.pdf to /var/folders/1x/nph4r0452v1dk6t51bknf9080000gn/T/https-arxiv-org-pdf-1501-05790v1-pdf.\n"
     ]
    },
    {
     "name": "stdout",
     "output_type": "stream",
     "text": [
      "https://arxiv.org/pdf/1804.08199v3.pdf 14\n"
     ]
    },
    {
     "name": "stderr",
     "output_type": "stream",
     "text": [
      "2019-06-18 22:10:35,152 [MainThread  ] [INFO ]  Retrieving https://arxiv.org/pdf/1804.08199v3.pdf to /var/folders/1x/nph4r0452v1dk6t51bknf9080000gn/T/https-arxiv-org-pdf-1804-08199v3-pdf.\n"
     ]
    },
    {
     "name": "stdout",
     "output_type": "stream",
     "text": [
      "https://arxiv.org/pdf/1802.02611v3.pdf 15\n"
     ]
    },
    {
     "name": "stderr",
     "output_type": "stream",
     "text": [
      "2019-06-18 22:10:38,881 [MainThread  ] [INFO ]  Retrieving https://arxiv.org/pdf/1802.02611v3.pdf to /var/folders/1x/nph4r0452v1dk6t51bknf9080000gn/T/https-arxiv-org-pdf-1802-02611v3-pdf.\n"
     ]
    },
    {
     "name": "stdout",
     "output_type": "stream",
     "text": [
      "https://arxiv.org/pdf/1605.06885v1.pdf 16\n"
     ]
    },
    {
     "name": "stderr",
     "output_type": "stream",
     "text": [
      "2019-06-18 22:10:48,942 [MainThread  ] [INFO ]  Retrieving https://arxiv.org/pdf/1605.06885v1.pdf to /var/folders/1x/nph4r0452v1dk6t51bknf9080000gn/T/https-arxiv-org-pdf-1605-06885v1-pdf.\n"
     ]
    },
    {
     "name": "stdout",
     "output_type": "stream",
     "text": [
      "https://arxiv.org/pdf/1504.05070v2.pdf 17\n"
     ]
    },
    {
     "name": "stderr",
     "output_type": "stream",
     "text": [
      "2019-06-18 22:10:55,397 [MainThread  ] [INFO ]  Retrieving https://arxiv.org/pdf/1504.05070v2.pdf to /var/folders/1x/nph4r0452v1dk6t51bknf9080000gn/T/https-arxiv-org-pdf-1504-05070v2-pdf.\n"
     ]
    },
    {
     "name": "stdout",
     "output_type": "stream",
     "text": [
      "https://arxiv.org/pdf/1807.03039v2.pdf 18\n"
     ]
    },
    {
     "name": "stderr",
     "output_type": "stream",
     "text": [
      "2019-06-18 22:11:02,392 [MainThread  ] [INFO ]  Retrieving https://arxiv.org/pdf/1807.03039v2.pdf to /var/folders/1x/nph4r0452v1dk6t51bknf9080000gn/T/https-arxiv-org-pdf-1807-03039v2-pdf.\n"
     ]
    },
    {
     "name": "stdout",
     "output_type": "stream",
     "text": [
      "https://arxiv.org/pdf/1506.06158v1.pdf 19\n"
     ]
    },
    {
     "name": "stderr",
     "output_type": "stream",
     "text": [
      "2019-06-18 22:11:29,460 [MainThread  ] [INFO ]  Retrieving https://arxiv.org/pdf/1506.06158v1.pdf to /var/folders/1x/nph4r0452v1dk6t51bknf9080000gn/T/https-arxiv-org-pdf-1506-06158v1-pdf.\n"
     ]
    },
    {
     "name": "stdout",
     "output_type": "stream",
     "text": [
      "https://arxiv.org/pdf/1511.02683v4.pdf 20\n"
     ]
    },
    {
     "name": "stderr",
     "output_type": "stream",
     "text": [
      "2019-06-18 22:11:34,388 [MainThread  ] [INFO ]  Retrieving https://arxiv.org/pdf/1511.02683v4.pdf to /var/folders/1x/nph4r0452v1dk6t51bknf9080000gn/T/https-arxiv-org-pdf-1511-02683v4-pdf.\n"
     ]
    },
    {
     "name": "stdout",
     "output_type": "stream",
     "text": [
      "https://arxiv.org/pdf/1811.12546v1.pdf 21\n"
     ]
    },
    {
     "name": "stderr",
     "output_type": "stream",
     "text": [
      "2019-06-18 22:11:38,465 [MainThread  ] [INFO ]  Retrieving https://arxiv.org/pdf/1811.12546v1.pdf to /var/folders/1x/nph4r0452v1dk6t51bknf9080000gn/T/https-arxiv-org-pdf-1811-12546v1-pdf.\n"
     ]
    },
    {
     "name": "stdout",
     "output_type": "stream",
     "text": [
      "https://arxiv.org/pdf/1607.03474v5.pdf 22\n"
     ]
    },
    {
     "name": "stderr",
     "output_type": "stream",
     "text": [
      "2019-06-18 22:11:45,118 [MainThread  ] [INFO ]  Retrieving https://arxiv.org/pdf/1607.03474v5.pdf to /var/folders/1x/nph4r0452v1dk6t51bknf9080000gn/T/https-arxiv-org-pdf-1607-03474v5-pdf.\n"
     ]
    },
    {
     "name": "stdout",
     "output_type": "stream",
     "text": [
      "https://arxiv.org/pdf/1509.06664v4.pdf 23\n"
     ]
    },
    {
     "name": "stderr",
     "output_type": "stream",
     "text": [
      "2019-06-18 22:11:49,220 [MainThread  ] [INFO ]  Retrieving https://arxiv.org/pdf/1509.06664v4.pdf to /var/folders/1x/nph4r0452v1dk6t51bknf9080000gn/T/https-arxiv-org-pdf-1509-06664v4-pdf.\n"
     ]
    },
    {
     "name": "stdout",
     "output_type": "stream",
     "text": [
      "https://arxiv.org/pdf/1810.09177v3.pdf 24\n"
     ]
    },
    {
     "name": "stderr",
     "output_type": "stream",
     "text": [
      "2019-06-18 22:11:53,808 [MainThread  ] [INFO ]  Retrieving https://arxiv.org/pdf/1810.09177v3.pdf to /var/folders/1x/nph4r0452v1dk6t51bknf9080000gn/T/https-arxiv-org-pdf-1810-09177v3-pdf.\n"
     ]
    },
    {
     "name": "stdout",
     "output_type": "stream",
     "text": [
      "https://arxiv.org/pdf/1810.12936v1.pdf 25\n"
     ]
    },
    {
     "name": "stderr",
     "output_type": "stream",
     "text": [
      "2019-06-18 22:11:56,431 [MainThread  ] [INFO ]  Retrieving https://arxiv.org/pdf/1810.12936v1.pdf to /var/folders/1x/nph4r0452v1dk6t51bknf9080000gn/T/https-arxiv-org-pdf-1810-12936v1-pdf.\n"
     ]
    },
    {
     "name": "stdout",
     "output_type": "stream",
     "text": [
      "https://arxiv.org/pdf/1508.05326v1.pdf 26\n"
     ]
    },
    {
     "name": "stderr",
     "output_type": "stream",
     "text": [
      "2019-06-18 22:12:02,229 [MainThread  ] [INFO ]  Retrieving https://arxiv.org/pdf/1508.05326v1.pdf to /var/folders/1x/nph4r0452v1dk6t51bknf9080000gn/T/https-arxiv-org-pdf-1508-05326v1-pdf.\n"
     ]
    },
    {
     "name": "stdout",
     "output_type": "stream",
     "text": [
      "https://arxiv.org/pdf/1407.4023v2.pdf 27\n"
     ]
    },
    {
     "name": "stderr",
     "output_type": "stream",
     "text": [
      "2019-06-18 22:12:04,967 [MainThread  ] [INFO ]  Retrieving https://arxiv.org/pdf/1407.4023v2.pdf to /var/folders/1x/nph4r0452v1dk6t51bknf9080000gn/T/https-arxiv-org-pdf-1407-4023v2-pdf.\n"
     ]
    },
    {
     "name": "stdout",
     "output_type": "stream",
     "text": [
      "https://arxiv.org/pdf/1611.00851v1.pdf 28\n"
     ]
    },
    {
     "name": "stderr",
     "output_type": "stream",
     "text": [
      "2019-06-18 22:12:11,877 [MainThread  ] [INFO ]  Retrieving https://arxiv.org/pdf/1611.00851v1.pdf to /var/folders/1x/nph4r0452v1dk6t51bknf9080000gn/T/https-arxiv-org-pdf-1611-00851v1-pdf.\n"
     ]
    },
    {
     "name": "stdout",
     "output_type": "stream",
     "text": [
      "https://arxiv.org/pdf/1809.10341v2.pdf 29\n"
     ]
    },
    {
     "name": "stderr",
     "output_type": "stream",
     "text": [
      "2019-06-18 22:12:26,869 [MainThread  ] [INFO ]  Retrieving https://arxiv.org/pdf/1809.10341v2.pdf to /var/folders/1x/nph4r0452v1dk6t51bknf9080000gn/T/https-arxiv-org-pdf-1809-10341v2-pdf.\n"
     ]
    },
    {
     "name": "stdout",
     "output_type": "stream",
     "text": [
      "https://arxiv.org/pdf/1809.10735v1.pdf 30\n"
     ]
    },
    {
     "name": "stderr",
     "output_type": "stream",
     "text": [
      "2019-06-18 22:12:44,399 [MainThread  ] [INFO ]  Retrieving https://arxiv.org/pdf/1809.10735v1.pdf to /var/folders/1x/nph4r0452v1dk6t51bknf9080000gn/T/https-arxiv-org-pdf-1809-10735v1-pdf.\n"
     ]
    },
    {
     "name": "stdout",
     "output_type": "stream",
     "text": [
      "https://arxiv.org/pdf/1609.01704v7.pdf 31\n"
     ]
    },
    {
     "name": "stderr",
     "output_type": "stream",
     "text": [
      "2019-06-18 22:12:47,219 [MainThread  ] [INFO ]  Retrieving https://arxiv.org/pdf/1609.01704v7.pdf to /var/folders/1x/nph4r0452v1dk6t51bknf9080000gn/T/https-arxiv-org-pdf-1609-01704v7-pdf.\n"
     ]
    },
    {
     "name": "stdout",
     "output_type": "stream",
     "text": [
      "https://arxiv.org/pdf/1702.08502v3.pdf 32\n"
     ]
    },
    {
     "name": "stderr",
     "output_type": "stream",
     "text": [
      "2019-06-18 22:12:52,000 [MainThread  ] [INFO ]  Retrieving https://arxiv.org/pdf/1702.08502v3.pdf to /var/folders/1x/nph4r0452v1dk6t51bknf9080000gn/T/https-arxiv-org-pdf-1702-08502v3-pdf.\n"
     ]
    },
    {
     "name": "stdout",
     "output_type": "stream",
     "text": [
      "https://arxiv.org/pdf/1507.05348v1.pdf 33\n"
     ]
    },
    {
     "name": "stderr",
     "output_type": "stream",
     "text": [
      "2019-06-18 22:13:10,450 [MainThread  ] [INFO ]  Retrieving https://arxiv.org/pdf/1507.05348v1.pdf to /var/folders/1x/nph4r0452v1dk6t51bknf9080000gn/T/https-arxiv-org-pdf-1507-05348v1-pdf.\n"
     ]
    },
    {
     "name": "stdout",
     "output_type": "stream",
     "text": [
      "https://arxiv.org/pdf/1611.06639v1.pdf 34\n"
     ]
    },
    {
     "name": "stderr",
     "output_type": "stream",
     "text": [
      "2019-06-18 22:13:13,593 [MainThread  ] [INFO ]  Retrieving https://arxiv.org/pdf/1611.06639v1.pdf to /var/folders/1x/nph4r0452v1dk6t51bknf9080000gn/T/https-arxiv-org-pdf-1611-06639v1-pdf.\n"
     ]
    },
    {
     "name": "stdout",
     "output_type": "stream",
     "text": [
      "https://arxiv.org/pdf/1507.00814v3.pdf 35\n"
     ]
    },
    {
     "name": "stderr",
     "output_type": "stream",
     "text": [
      "2019-06-18 22:13:16,656 [MainThread  ] [INFO ]  Retrieving https://arxiv.org/pdf/1507.00814v3.pdf to /var/folders/1x/nph4r0452v1dk6t51bknf9080000gn/T/https-arxiv-org-pdf-1507-00814v3-pdf.\n"
     ]
    },
    {
     "name": "stdout",
     "output_type": "stream",
     "text": [
      "https://arxiv.org/pdf/1902.09212v1.pdf 36\n"
     ]
    },
    {
     "name": "stderr",
     "output_type": "stream",
     "text": [
      "2019-06-18 22:13:23,368 [MainThread  ] [INFO ]  Retrieving https://arxiv.org/pdf/1902.09212v1.pdf to /var/folders/1x/nph4r0452v1dk6t51bknf9080000gn/T/https-arxiv-org-pdf-1902-09212v1-pdf.\n"
     ]
    },
    {
     "name": "stdout",
     "output_type": "stream",
     "text": [
      "https://arxiv.org/pdf/1609.05473v6.pdf 37\n"
     ]
    },
    {
     "name": "stderr",
     "output_type": "stream",
     "text": [
      "2019-06-18 22:13:29,370 [MainThread  ] [INFO ]  Retrieving https://arxiv.org/pdf/1609.05473v6.pdf to /var/folders/1x/nph4r0452v1dk6t51bknf9080000gn/T/https-arxiv-org-pdf-1609-05473v6-pdf.\n"
     ]
    },
    {
     "name": "stdout",
     "output_type": "stream",
     "text": [
      "https://arxiv.org/pdf/1812.11703v1.pdf 38\n"
     ]
    },
    {
     "name": "stderr",
     "output_type": "stream",
     "text": [
      "2019-06-18 22:13:33,373 [MainThread  ] [INFO ]  Retrieving https://arxiv.org/pdf/1812.11703v1.pdf to /var/folders/1x/nph4r0452v1dk6t51bknf9080000gn/T/https-arxiv-org-pdf-1812-11703v1-pdf.\n"
     ]
    },
    {
     "name": "stdout",
     "output_type": "stream",
     "text": [
      "https://arxiv.org/pdf/1811.12608v1.pdf 39\n"
     ]
    },
    {
     "name": "stderr",
     "output_type": "stream",
     "text": [
      "2019-06-18 22:13:40,559 [MainThread  ] [INFO ]  Retrieving https://arxiv.org/pdf/1811.12608v1.pdf to /var/folders/1x/nph4r0452v1dk6t51bknf9080000gn/T/https-arxiv-org-pdf-1811-12608v1-pdf.\n"
     ]
    },
    {
     "name": "stdout",
     "output_type": "stream",
     "text": [
      "https://arxiv.org/pdf/1407.3867v1.pdf 40\n"
     ]
    },
    {
     "name": "stderr",
     "output_type": "stream",
     "text": [
      "2019-06-18 22:13:51,346 [MainThread  ] [INFO ]  Retrieving https://arxiv.org/pdf/1407.3867v1.pdf to /var/folders/1x/nph4r0452v1dk6t51bknf9080000gn/T/https-arxiv-org-pdf-1407-3867v1-pdf.\n"
     ]
    },
    {
     "name": "stdout",
     "output_type": "stream",
     "text": [
      "https://arxiv.org/pdf/1604.03540v1.pdf 41\n"
     ]
    },
    {
     "name": "stderr",
     "output_type": "stream",
     "text": [
      "2019-06-18 22:14:00,281 [MainThread  ] [INFO ]  Retrieving https://arxiv.org/pdf/1604.03540v1.pdf to /var/folders/1x/nph4r0452v1dk6t51bknf9080000gn/T/https-arxiv-org-pdf-1604-03540v1-pdf.\n"
     ]
    },
    {
     "name": "stdout",
     "output_type": "stream",
     "text": [
      "https://arxiv.org/pdf/1706.02761v3.pdf 42\n"
     ]
    },
    {
     "name": "stderr",
     "output_type": "stream",
     "text": [
      "2019-06-18 22:14:04,542 [MainThread  ] [INFO ]  Retrieving https://arxiv.org/pdf/1706.02761v3.pdf to /var/folders/1x/nph4r0452v1dk6t51bknf9080000gn/T/https-arxiv-org-pdf-1706-02761v3-pdf.\n"
     ]
    },
    {
     "name": "stdout",
     "output_type": "stream",
     "text": [
      "https://arxiv.org/pdf/1805.09843v1.pdf 43\n"
     ]
    },
    {
     "name": "stderr",
     "output_type": "stream",
     "text": [
      "2019-06-18 22:14:07,646 [MainThread  ] [INFO ]  Retrieving https://arxiv.org/pdf/1805.09843v1.pdf to /var/folders/1x/nph4r0452v1dk6t51bknf9080000gn/T/https-arxiv-org-pdf-1805-09843v1-pdf.\n"
     ]
    },
    {
     "name": "stdout",
     "output_type": "stream",
     "text": [
      "https://arxiv.org/pdf/1704.06125v1.pdf 44\n"
     ]
    },
    {
     "name": "stderr",
     "output_type": "stream",
     "text": [
      "2019-06-18 22:14:12,339 [MainThread  ] [INFO ]  Retrieving https://arxiv.org/pdf/1704.06125v1.pdf to /var/folders/1x/nph4r0452v1dk6t51bknf9080000gn/T/https-arxiv-org-pdf-1704-06125v1-pdf.\n"
     ]
    },
    {
     "name": "stdout",
     "output_type": "stream",
     "text": [
      "https://arxiv.org/pdf/1709.01442v1.pdf 45\n"
     ]
    },
    {
     "name": "stderr",
     "output_type": "stream",
     "text": [
      "2019-06-18 22:14:15,249 [MainThread  ] [INFO ]  Retrieving https://arxiv.org/pdf/1709.01442v1.pdf to /var/folders/1x/nph4r0452v1dk6t51bknf9080000gn/T/https-arxiv-org-pdf-1709-01442v1-pdf.\n"
     ]
    },
    {
     "name": "stdout",
     "output_type": "stream",
     "text": [
      "https://arxiv.org/pdf/1611.01576v2.pdf 46\n"
     ]
    },
    {
     "name": "stderr",
     "output_type": "stream",
     "text": [
      "2019-06-18 22:14:25,116 [MainThread  ] [INFO ]  Retrieving https://arxiv.org/pdf/1611.01576v2.pdf to /var/folders/1x/nph4r0452v1dk6t51bknf9080000gn/T/https-arxiv-org-pdf-1611-01576v2-pdf.\n"
     ]
    },
    {
     "name": "stdout",
     "output_type": "stream",
     "text": [
      "https://arxiv.org/pdf/1406.1078v3.pdf 47\n"
     ]
    },
    {
     "name": "stderr",
     "output_type": "stream",
     "text": [
      "2019-06-18 22:14:28,237 [MainThread  ] [INFO ]  Retrieving https://arxiv.org/pdf/1406.1078v3.pdf to /var/folders/1x/nph4r0452v1dk6t51bknf9080000gn/T/https-arxiv-org-pdf-1406-1078v3-pdf.\n"
     ]
    },
    {
     "name": "stdout",
     "output_type": "stream",
     "text": [
      "https://arxiv.org/pdf/1802.08352v2.pdf 48\n"
     ]
    },
    {
     "name": "stderr",
     "output_type": "stream",
     "text": [
      "2019-06-18 22:14:33,568 [MainThread  ] [INFO ]  Retrieving https://arxiv.org/pdf/1802.08352v2.pdf to /var/folders/1x/nph4r0452v1dk6t51bknf9080000gn/T/https-arxiv-org-pdf-1802-08352v2-pdf.\n"
     ]
    },
    {
     "name": "stdout",
     "output_type": "stream",
     "text": [
      "https://arxiv.org/pdf/1608.08526v2.pdf 49\n"
     ]
    },
    {
     "name": "stderr",
     "output_type": "stream",
     "text": [
      "2019-06-18 22:14:37,071 [MainThread  ] [INFO ]  Retrieving https://arxiv.org/pdf/1608.08526v2.pdf to /var/folders/1x/nph4r0452v1dk6t51bknf9080000gn/T/https-arxiv-org-pdf-1608-08526v2-pdf.\n"
     ]
    },
    {
     "name": "stdout",
     "output_type": "stream",
     "text": [
      "https://arxiv.org/pdf/1603.05474v4.pdf 50\n"
     ]
    },
    {
     "name": "stderr",
     "output_type": "stream",
     "text": [
      "2019-06-18 22:14:55,791 [MainThread  ] [INFO ]  Retrieving https://arxiv.org/pdf/1603.05474v4.pdf to /var/folders/1x/nph4r0452v1dk6t51bknf9080000gn/T/https-arxiv-org-pdf-1603-05474v4-pdf.\n"
     ]
    },
    {
     "name": "stdout",
     "output_type": "stream",
     "text": [
      "https://arxiv.org/pdf/1711.04956v5.pdf 51\n"
     ]
    },
    {
     "name": "stderr",
     "output_type": "stream",
     "text": [
      "2019-06-18 22:15:03,238 [MainThread  ] [INFO ]  Retrieving https://arxiv.org/pdf/1711.04956v5.pdf to /var/folders/1x/nph4r0452v1dk6t51bknf9080000gn/T/https-arxiv-org-pdf-1711-04956v5-pdf.\n"
     ]
    },
    {
     "name": "stdout",
     "output_type": "stream",
     "text": [
      "https://arxiv.org/pdf/1811.08513v1.pdf 52\n"
     ]
    },
    {
     "name": "stderr",
     "output_type": "stream",
     "text": [
      "2019-06-18 22:15:06,192 [MainThread  ] [INFO ]  Retrieving https://arxiv.org/pdf/1811.08513v1.pdf to /var/folders/1x/nph4r0452v1dk6t51bknf9080000gn/T/https-arxiv-org-pdf-1811-08513v1-pdf.\n"
     ]
    },
    {
     "name": "stdout",
     "output_type": "stream",
     "text": [
      "https://arxiv.org/pdf/1606.01868v2.pdf 53\n"
     ]
    },
    {
     "name": "stderr",
     "output_type": "stream",
     "text": [
      "2019-06-18 22:15:10,016 [MainThread  ] [INFO ]  Retrieving https://arxiv.org/pdf/1606.01868v2.pdf to /var/folders/1x/nph4r0452v1dk6t51bknf9080000gn/T/https-arxiv-org-pdf-1606-01868v2-pdf.\n"
     ]
    },
    {
     "name": "stdout",
     "output_type": "stream",
     "text": [
      "https://arxiv.org/pdf/1610.05256v2.pdf 54\n"
     ]
    },
    {
     "name": "stderr",
     "output_type": "stream",
     "text": [
      "2019-06-18 22:15:16,964 [MainThread  ] [INFO ]  Retrieving https://arxiv.org/pdf/1610.05256v2.pdf to /var/folders/1x/nph4r0452v1dk6t51bknf9080000gn/T/https-arxiv-org-pdf-1610-05256v2-pdf.\n"
     ]
    },
    {
     "name": "stdout",
     "output_type": "stream",
     "text": [
      "https://arxiv.org/pdf/1806.05626v2.pdf 55\n"
     ]
    },
    {
     "name": "stderr",
     "output_type": "stream",
     "text": [
      "2019-06-18 22:15:19,761 [MainThread  ] [INFO ]  Retrieving https://arxiv.org/pdf/1806.05626v2.pdf to /var/folders/1x/nph4r0452v1dk6t51bknf9080000gn/T/https-arxiv-org-pdf-1806-05626v2-pdf.\n"
     ]
    },
    {
     "name": "stdout",
     "output_type": "stream",
     "text": [
      "https://arxiv.org/pdf/1611.05774v2.pdf 56\n"
     ]
    },
    {
     "name": "stderr",
     "output_type": "stream",
     "text": [
      "2019-06-18 22:15:23,208 [MainThread  ] [INFO ]  Retrieving https://arxiv.org/pdf/1611.05774v2.pdf to /var/folders/1x/nph4r0452v1dk6t51bknf9080000gn/T/https-arxiv-org-pdf-1611-05774v2-pdf.\n"
     ]
    },
    {
     "name": "stdout",
     "output_type": "stream",
     "text": [
      "https://arxiv.org/pdf/1803.00387v1.pdf 57\n"
     ]
    },
    {
     "name": "stderr",
     "output_type": "stream",
     "text": [
      "2019-06-18 22:15:26,645 [MainThread  ] [INFO ]  Retrieving https://arxiv.org/pdf/1803.00387v1.pdf to /var/folders/1x/nph4r0452v1dk6t51bknf9080000gn/T/https-arxiv-org-pdf-1803-00387v1-pdf.\n"
     ]
    },
    {
     "name": "stdout",
     "output_type": "stream",
     "text": [
      "https://arxiv.org/pdf/1709.01507v3.pdf 58\n"
     ]
    },
    {
     "name": "stderr",
     "output_type": "stream",
     "text": [
      "2019-06-18 22:15:36,559 [MainThread  ] [INFO ]  Retrieving https://arxiv.org/pdf/1709.01507v3.pdf to /var/folders/1x/nph4r0452v1dk6t51bknf9080000gn/T/https-arxiv-org-pdf-1709-01507v3-pdf.\n"
     ]
    },
    {
     "name": "stdout",
     "output_type": "stream",
     "text": [
      "https://arxiv.org/pdf/1704.03414v1.pdf 59\n"
     ]
    },
    {
     "name": "stderr",
     "output_type": "stream",
     "text": [
      "2019-06-18 22:15:43,741 [MainThread  ] [INFO ]  Retrieving https://arxiv.org/pdf/1704.03414v1.pdf to /var/folders/1x/nph4r0452v1dk6t51bknf9080000gn/T/https-arxiv-org-pdf-1704-03414v1-pdf.\n"
     ]
    },
    {
     "name": "stdout",
     "output_type": "stream",
     "text": [
      "https://arxiv.org/pdf/1606.07536v2.pdf 60\n"
     ]
    },
    {
     "name": "stderr",
     "output_type": "stream",
     "text": [
      "2019-06-18 22:15:49,371 [MainThread  ] [INFO ]  Retrieving https://arxiv.org/pdf/1606.07536v2.pdf to /var/folders/1x/nph4r0452v1dk6t51bknf9080000gn/T/https-arxiv-org-pdf-1606-07536v2-pdf.\n"
     ]
    },
    {
     "name": "stdout",
     "output_type": "stream",
     "text": [
      "https://arxiv.org/pdf/1811.05181v1.pdf 61\n"
     ]
    },
    {
     "name": "stderr",
     "output_type": "stream",
     "text": [
      "2019-06-18 22:15:59,900 [MainThread  ] [INFO ]  Retrieving https://arxiv.org/pdf/1811.05181v1.pdf to /var/folders/1x/nph4r0452v1dk6t51bknf9080000gn/T/https-arxiv-org-pdf-1811-05181v1-pdf.\n"
     ]
    },
    {
     "name": "stdout",
     "output_type": "stream",
     "text": [
      "https://arxiv.org/pdf/1604.05529v3.pdf 62\n"
     ]
    },
    {
     "name": "stderr",
     "output_type": "stream",
     "text": [
      "2019-06-18 22:16:03,425 [MainThread  ] [INFO ]  Retrieving https://arxiv.org/pdf/1604.05529v3.pdf to /var/folders/1x/nph4r0452v1dk6t51bknf9080000gn/T/https-arxiv-org-pdf-1604-05529v3-pdf.\n"
     ]
    },
    {
     "name": "stdout",
     "output_type": "stream",
     "text": [
      "https://arxiv.org/pdf/1611.08258v1.pdf 63\n"
     ]
    },
    {
     "name": "stderr",
     "output_type": "stream",
     "text": [
      "2019-06-18 22:16:06,591 [MainThread  ] [INFO ]  Retrieving https://arxiv.org/pdf/1611.08258v1.pdf to /var/folders/1x/nph4r0452v1dk6t51bknf9080000gn/T/https-arxiv-org-pdf-1611-08258v1-pdf.\n"
     ]
    },
    {
     "name": "stdout",
     "output_type": "stream",
     "text": [
      "https://arxiv.org/pdf/1511.06434v2.pdf 64\n"
     ]
    },
    {
     "name": "stderr",
     "output_type": "stream",
     "text": [
      "2019-06-18 22:16:13,289 [MainThread  ] [INFO ]  Retrieving https://arxiv.org/pdf/1511.06434v2.pdf to /var/folders/1x/nph4r0452v1dk6t51bknf9080000gn/T/https-arxiv-org-pdf-1511-06434v2-pdf.\n"
     ]
    },
    {
     "name": "stdout",
     "output_type": "stream",
     "text": [
      "https://arxiv.org/pdf/1608.06993v5.pdf 65\n"
     ]
    },
    {
     "name": "stderr",
     "output_type": "stream",
     "text": [
      "2019-06-18 22:16:29,393 [MainThread  ] [INFO ]  Retrieving https://arxiv.org/pdf/1608.06993v5.pdf to /var/folders/1x/nph4r0452v1dk6t51bknf9080000gn/T/https-arxiv-org-pdf-1608-06993v5-pdf.\n"
     ]
    },
    {
     "name": "stdout",
     "output_type": "stream",
     "text": [
      "https://arxiv.org/pdf/1904.01355v3.pdf 66\n"
     ]
    },
    {
     "name": "stderr",
     "output_type": "stream",
     "text": [
      "2019-06-18 22:16:33,734 [MainThread  ] [INFO ]  Retrieving https://arxiv.org/pdf/1904.01355v3.pdf to /var/folders/1x/nph4r0452v1dk6t51bknf9080000gn/T/https-arxiv-org-pdf-1904-01355v3-pdf.\n"
     ]
    },
    {
     "name": "stdout",
     "output_type": "stream",
     "text": [
      "https://arxiv.org/pdf/1505.04597v1.pdf 67\n"
     ]
    },
    {
     "name": "stderr",
     "output_type": "stream",
     "text": [
      "2019-06-18 22:16:43,736 [MainThread  ] [INFO ]  Retrieving https://arxiv.org/pdf/1505.04597v1.pdf to /var/folders/1x/nph4r0452v1dk6t51bknf9080000gn/T/https-arxiv-org-pdf-1505-04597v1-pdf.\n"
     ]
    },
    {
     "name": "stdout",
     "output_type": "stream",
     "text": [
      "https://arxiv.org/pdf/1904.06472v1.pdf 68\n"
     ]
    },
    {
     "name": "stderr",
     "output_type": "stream",
     "text": [
      "2019-06-18 22:16:50,382 [MainThread  ] [INFO ]  Retrieving https://arxiv.org/pdf/1904.06472v1.pdf to /var/folders/1x/nph4r0452v1dk6t51bknf9080000gn/T/https-arxiv-org-pdf-1904-06472v1-pdf.\n"
     ]
    },
    {
     "name": "stdout",
     "output_type": "stream",
     "text": [
      "https://arxiv.org/pdf/1804.06208v2.pdf 69\n"
     ]
    },
    {
     "name": "stderr",
     "output_type": "stream",
     "text": [
      "2019-06-18 22:16:53,557 [MainThread  ] [INFO ]  Retrieving https://arxiv.org/pdf/1804.06208v2.pdf to /var/folders/1x/nph4r0452v1dk6t51bknf9080000gn/T/https-arxiv-org-pdf-1804-06208v2-pdf.\n"
     ]
    },
    {
     "name": "stdout",
     "output_type": "stream",
     "text": [
      "https://arxiv.org/pdf/1611.09978v1.pdf 70\n"
     ]
    },
    {
     "name": "stderr",
     "output_type": "stream",
     "text": [
      "2019-06-18 22:17:03,121 [MainThread  ] [INFO ]  Retrieving https://arxiv.org/pdf/1611.09978v1.pdf to /var/folders/1x/nph4r0452v1dk6t51bknf9080000gn/T/https-arxiv-org-pdf-1611-09978v1-pdf.\n"
     ]
    },
    {
     "name": "stdout",
     "output_type": "stream",
     "text": [
      "https://arxiv.org/pdf/1707.00798v2.pdf 71\n"
     ]
    },
    {
     "name": "stderr",
     "output_type": "stream",
     "text": [
      "2019-06-18 22:17:12,615 [MainThread  ] [INFO ]  Retrieving https://arxiv.org/pdf/1707.00798v2.pdf to /var/folders/1x/nph4r0452v1dk6t51bknf9080000gn/T/https-arxiv-org-pdf-1707-00798v2-pdf.\n"
     ]
    },
    {
     "name": "stdout",
     "output_type": "stream",
     "text": [
      "https://arxiv.org/pdf/1611.01724v2.pdf 72\n"
     ]
    },
    {
     "name": "stderr",
     "output_type": "stream",
     "text": [
      "2019-06-18 22:17:21,466 [MainThread  ] [INFO ]  Retrieving https://arxiv.org/pdf/1611.01724v2.pdf to /var/folders/1x/nph4r0452v1dk6t51bknf9080000gn/T/https-arxiv-org-pdf-1611-01724v2-pdf.\n"
     ]
    },
    {
     "name": "stdout",
     "output_type": "stream",
     "text": [
      "https://arxiv.org/pdf/1803.02627v1.pdf 73\n"
     ]
    },
    {
     "name": "stderr",
     "output_type": "stream",
     "text": [
      "2019-06-18 22:17:25,405 [MainThread  ] [INFO ]  Retrieving https://arxiv.org/pdf/1803.02627v1.pdf to /var/folders/1x/nph4r0452v1dk6t51bknf9080000gn/T/https-arxiv-org-pdf-1803-02627v1-pdf.\n"
     ]
    },
    {
     "name": "stdout",
     "output_type": "stream",
     "text": [
      "https://arxiv.org/pdf/1506.07503v1.pdf 74\n"
     ]
    },
    {
     "name": "stderr",
     "output_type": "stream",
     "text": [
      "2019-06-18 22:17:28,331 [MainThread  ] [INFO ]  Retrieving https://arxiv.org/pdf/1506.07503v1.pdf to /var/folders/1x/nph4r0452v1dk6t51bknf9080000gn/T/https-arxiv-org-pdf-1506-07503v1-pdf.\n"
     ]
    },
    {
     "name": "stdout",
     "output_type": "stream",
     "text": [
      "https://arxiv.org/pdf/1611.01673v3.pdf 75\n"
     ]
    },
    {
     "name": "stderr",
     "output_type": "stream",
     "text": [
      "2019-06-18 22:17:35,322 [MainThread  ] [INFO ]  Retrieving https://arxiv.org/pdf/1611.01673v3.pdf to /var/folders/1x/nph4r0452v1dk6t51bknf9080000gn/T/https-arxiv-org-pdf-1611-01673v3-pdf.\n"
     ]
    },
    {
     "name": "stdout",
     "output_type": "stream",
     "text": [
      "https://arxiv.org/pdf/1809.10853v3.pdf 76\n"
     ]
    },
    {
     "name": "stderr",
     "output_type": "stream",
     "text": [
      "2019-06-18 22:17:48,121 [MainThread  ] [INFO ]  Retrieving https://arxiv.org/pdf/1809.10853v3.pdf to /var/folders/1x/nph4r0452v1dk6t51bknf9080000gn/T/https-arxiv-org-pdf-1809-10853v3-pdf.\n"
     ]
    },
    {
     "name": "stdout",
     "output_type": "stream",
     "text": [
      "https://arxiv.org/pdf/1808.08762v1.pdf 77\n"
     ]
    },
    {
     "name": "stderr",
     "output_type": "stream",
     "text": [
      "2019-06-18 22:17:52,336 [MainThread  ] [INFO ]  Retrieving https://arxiv.org/pdf/1808.08762v1.pdf to /var/folders/1x/nph4r0452v1dk6t51bknf9080000gn/T/https-arxiv-org-pdf-1808-08762v1-pdf.\n"
     ]
    },
    {
     "name": "stdout",
     "output_type": "stream",
     "text": [
      "https://arxiv.org/pdf/1708.00107v2.pdf 78\n"
     ]
    },
    {
     "name": "stderr",
     "output_type": "stream",
     "text": [
      "2019-06-18 22:17:55,331 [MainThread  ] [INFO ]  Retrieving https://arxiv.org/pdf/1708.00107v2.pdf to /var/folders/1x/nph4r0452v1dk6t51bknf9080000gn/T/https-arxiv-org-pdf-1708-00107v2-pdf.\n"
     ]
    },
    {
     "name": "stdout",
     "output_type": "stream",
     "text": [
      "https://arxiv.org/pdf/1511.06709v4.pdf 79\n"
     ]
    },
    {
     "name": "stderr",
     "output_type": "stream",
     "text": [
      "2019-06-18 22:17:58,424 [MainThread  ] [INFO ]  Retrieving https://arxiv.org/pdf/1511.06709v4.pdf to /var/folders/1x/nph4r0452v1dk6t51bknf9080000gn/T/https-arxiv-org-pdf-1511-06709v4-pdf.\n"
     ]
    },
    {
     "name": "stdout",
     "output_type": "stream",
     "text": [
      "https://arxiv.org/pdf/1610.03771v1.pdf 80\n"
     ]
    },
    {
     "name": "stderr",
     "output_type": "stream",
     "text": [
      "2019-06-18 22:18:00,894 [MainThread  ] [INFO ]  Retrieving https://arxiv.org/pdf/1610.03771v1.pdf to /var/folders/1x/nph4r0452v1dk6t51bknf9080000gn/T/https-arxiv-org-pdf-1610-03771v1-pdf.\n"
     ]
    },
    {
     "name": "stdout",
     "output_type": "stream",
     "text": [
      "https://arxiv.org/pdf/1806.06193v1.pdf 81\n"
     ]
    },
    {
     "name": "stderr",
     "output_type": "stream",
     "text": [
      "2019-06-18 22:18:03,584 [MainThread  ] [INFO ]  Retrieving https://arxiv.org/pdf/1806.06193v1.pdf to /var/folders/1x/nph4r0452v1dk6t51bknf9080000gn/T/https-arxiv-org-pdf-1806-06193v1-pdf.\n"
     ]
    },
    {
     "name": "stdout",
     "output_type": "stream",
     "text": [
      "https://arxiv.org/pdf/1605.07146v4.pdf 82\n"
     ]
    },
    {
     "name": "stderr",
     "output_type": "stream",
     "text": [
      "2019-06-18 22:18:09,835 [MainThread  ] [INFO ]  Retrieving https://arxiv.org/pdf/1605.07146v4.pdf to /var/folders/1x/nph4r0452v1dk6t51bknf9080000gn/T/https-arxiv-org-pdf-1605-07146v4-pdf.\n"
     ]
    },
    {
     "name": "stdout",
     "output_type": "stream",
     "text": [
      "https://arxiv.org/pdf/1602.01783v2.pdf 83\n"
     ]
    },
    {
     "name": "stderr",
     "output_type": "stream",
     "text": [
      "2019-06-18 22:18:12,981 [MainThread  ] [INFO ]  Retrieving https://arxiv.org/pdf/1602.01783v2.pdf to /var/folders/1x/nph4r0452v1dk6t51bknf9080000gn/T/https-arxiv-org-pdf-1602-01783v2-pdf.\n"
     ]
    },
    {
     "name": "stdout",
     "output_type": "stream",
     "text": [
      "https://arxiv.org/pdf/1709.05188v6.pdf 84\n"
     ]
    },
    {
     "name": "stderr",
     "output_type": "stream",
     "text": [
      "2019-06-18 22:18:19,706 [MainThread  ] [INFO ]  Retrieving https://arxiv.org/pdf/1709.05188v6.pdf to /var/folders/1x/nph4r0452v1dk6t51bknf9080000gn/T/https-arxiv-org-pdf-1709-05188v6-pdf.\n"
     ]
    },
    {
     "name": "stdout",
     "output_type": "stream",
     "text": [
      "https://arxiv.org/pdf/1805.01086v1.pdf 85\n"
     ]
    },
    {
     "name": "stderr",
     "output_type": "stream",
     "text": [
      "2019-06-18 22:18:39,492 [MainThread  ] [INFO ]  Retrieving https://arxiv.org/pdf/1805.01086v1.pdf to /var/folders/1x/nph4r0452v1dk6t51bknf9080000gn/T/https-arxiv-org-pdf-1805-01086v1-pdf.\n"
     ]
    },
    {
     "name": "stdout",
     "output_type": "stream",
     "text": [
      "https://arxiv.org/pdf/1505.05899v1.pdf 86\n"
     ]
    },
    {
     "name": "stderr",
     "output_type": "stream",
     "text": [
      "2019-06-18 22:18:42,579 [MainThread  ] [INFO ]  Retrieving https://arxiv.org/pdf/1505.05899v1.pdf to /var/folders/1x/nph4r0452v1dk6t51bknf9080000gn/T/https-arxiv-org-pdf-1505-05899v1-pdf.\n"
     ]
    },
    {
     "name": "stdout",
     "output_type": "stream",
     "text": [
      "https://arxiv.org/pdf/1606.00776v2.pdf 87\n"
     ]
    },
    {
     "name": "stderr",
     "output_type": "stream",
     "text": [
      "2019-06-18 22:18:45,288 [MainThread  ] [INFO ]  Retrieving https://arxiv.org/pdf/1606.00776v2.pdf to /var/folders/1x/nph4r0452v1dk6t51bknf9080000gn/T/https-arxiv-org-pdf-1606-00776v2-pdf.\n"
     ]
    },
    {
     "name": "stdout",
     "output_type": "stream",
     "text": [
      "https://arxiv.org/pdf/1904.11491.pdf 88\n"
     ]
    },
    {
     "name": "stderr",
     "output_type": "stream",
     "text": [
      "2019-06-18 22:18:49,205 [MainThread  ] [INFO ]  Retrieving https://arxiv.org/pdf/1904.11491.pdf to /var/folders/1x/nph4r0452v1dk6t51bknf9080000gn/T/https-arxiv-org-pdf-1904-11491-pdf.\n"
     ]
    },
    {
     "name": "stdout",
     "output_type": "stream",
     "text": [
      "https://arxiv.org/pdf/1701.07717v5.pdf 89\n"
     ]
    },
    {
     "name": "stderr",
     "output_type": "stream",
     "text": [
      "2019-06-18 22:18:54,080 [MainThread  ] [INFO ]  Retrieving https://arxiv.org/pdf/1701.07717v5.pdf to /var/folders/1x/nph4r0452v1dk6t51bknf9080000gn/T/https-arxiv-org-pdf-1701-07717v5-pdf.\n"
     ]
    },
    {
     "name": "stdout",
     "output_type": "stream",
     "text": [
      "https://arxiv.org/pdf/1511.04491v2.pdf 90\n"
     ]
    },
    {
     "name": "stderr",
     "output_type": "stream",
     "text": [
      "2019-06-18 22:18:58,946 [MainThread  ] [INFO ]  Retrieving https://arxiv.org/pdf/1511.04491v2.pdf to /var/folders/1x/nph4r0452v1dk6t51bknf9080000gn/T/https-arxiv-org-pdf-1511-04491v2-pdf.\n"
     ]
    },
    {
     "name": "stdout",
     "output_type": "stream",
     "text": [
      "https://arxiv.org/pdf/1707.09465v5.pdf 91\n"
     ]
    },
    {
     "name": "stderr",
     "output_type": "stream",
     "text": [
      "2019-06-18 22:19:27,828 [MainThread  ] [INFO ]  Retrieving https://arxiv.org/pdf/1707.09465v5.pdf to /var/folders/1x/nph4r0452v1dk6t51bknf9080000gn/T/https-arxiv-org-pdf-1707-09465v5-pdf.\n"
     ]
    },
    {
     "name": "stdout",
     "output_type": "stream",
     "text": [
      "https://arxiv.org/pdf/1701.06264v6.pdf 92\n"
     ]
    },
    {
     "name": "stderr",
     "output_type": "stream",
     "text": [
      "2019-06-18 22:19:40,223 [MainThread  ] [INFO ]  Retrieving https://arxiv.org/pdf/1701.06264v6.pdf to /var/folders/1x/nph4r0452v1dk6t51bknf9080000gn/T/https-arxiv-org-pdf-1701-06264v6-pdf.\n"
     ]
    },
    {
     "name": "stdout",
     "output_type": "stream",
     "text": [
      "https://arxiv.org/pdf/1511.06390v2.pdf 93\n"
     ]
    },
    {
     "name": "stderr",
     "output_type": "stream",
     "text": [
      "2019-06-18 22:19:53,987 [MainThread  ] [INFO ]  Retrieving https://arxiv.org/pdf/1511.06390v2.pdf to /var/folders/1x/nph4r0452v1dk6t51bknf9080000gn/T/https-arxiv-org-pdf-1511-06390v2-pdf.\n"
     ]
    },
    {
     "name": "stdout",
     "output_type": "stream",
     "text": [
      "https://arxiv.org/pdf/1902.07153v1.pdf 94\n"
     ]
    },
    {
     "name": "stderr",
     "output_type": "stream",
     "text": [
      "2019-06-18 22:20:14,351 [MainThread  ] [INFO ]  Retrieving https://arxiv.org/pdf/1902.07153v1.pdf to /var/folders/1x/nph4r0452v1dk6t51bknf9080000gn/T/https-arxiv-org-pdf-1902-07153v1-pdf.\n"
     ]
    },
    {
     "name": "stdout",
     "output_type": "stream",
     "text": [
      "https://arxiv.org/pdf/1704.00028v3.pdf 95\n"
     ]
    },
    {
     "name": "stderr",
     "output_type": "stream",
     "text": [
      "2019-06-18 22:20:19,576 [MainThread  ] [INFO ]  Retrieving https://arxiv.org/pdf/1704.00028v3.pdf to /var/folders/1x/nph4r0452v1dk6t51bknf9080000gn/T/https-arxiv-org-pdf-1704-00028v3-pdf.\n"
     ]
    },
    {
     "name": "stdout",
     "output_type": "stream",
     "text": [
      "https://arxiv.org/pdf/1806.07297v1.pdf 96\n"
     ]
    },
    {
     "name": "stderr",
     "output_type": "stream",
     "text": [
      "2019-06-18 22:20:34,555 [MainThread  ] [INFO ]  Retrieving https://arxiv.org/pdf/1806.07297v1.pdf to /var/folders/1x/nph4r0452v1dk6t51bknf9080000gn/T/https-arxiv-org-pdf-1806-07297v1-pdf.\n"
     ]
    },
    {
     "name": "stdout",
     "output_type": "stream",
     "text": [
      "https://arxiv.org/pdf/1804.07461v3.pdf 97\n"
     ]
    },
    {
     "name": "stderr",
     "output_type": "stream",
     "text": [
      "2019-06-18 22:20:38,363 [MainThread  ] [INFO ]  Retrieving https://arxiv.org/pdf/1804.07461v3.pdf to /var/folders/1x/nph4r0452v1dk6t51bknf9080000gn/T/https-arxiv-org-pdf-1804-07461v3-pdf.\n"
     ]
    },
    {
     "name": "stdout",
     "output_type": "stream",
     "text": [
      "https://arxiv.org/pdf/1506.01497v3.pdf 98\n"
     ]
    },
    {
     "name": "stderr",
     "output_type": "stream",
     "text": [
      "2019-06-18 22:20:44,939 [MainThread  ] [INFO ]  Retrieving https://arxiv.org/pdf/1506.01497v3.pdf to /var/folders/1x/nph4r0452v1dk6t51bknf9080000gn/T/https-arxiv-org-pdf-1506-01497v3-pdf.\n"
     ]
    },
    {
     "name": "stdout",
     "output_type": "stream",
     "text": [
      "https://arxiv.org/pdf/1511.07053v3.pdf 99\n"
     ]
    },
    {
     "name": "stderr",
     "output_type": "stream",
     "text": [
      "2019-06-18 22:21:02,931 [MainThread  ] [INFO ]  Retrieving https://arxiv.org/pdf/1511.07053v3.pdf to /var/folders/1x/nph4r0452v1dk6t51bknf9080000gn/T/https-arxiv-org-pdf-1511-07053v3-pdf.\n",
      "/Users/nialdaly/Documents/gpt-2_model/venv/lib/python3.6/site-packages/ipykernel_launcher.py:23: SettingWithCopyWarning: \n",
      "A value is trying to be set on a copy of a slice from a DataFrame.\n",
      "Try using .loc[row_indexer,col_indexer] = value instead\n",
      "\n",
      "See the caveats in the documentation: http://pandas.pydata.org/pandas-docs/stable/indexing.html#indexing-view-versus-copy\n",
      "/Users/nialdaly/Documents/gpt-2_model/venv/lib/python3.6/site-packages/ipykernel_launcher.py:24: SettingWithCopyWarning: \n",
      "A value is trying to be set on a copy of a slice from a DataFrame.\n",
      "Try using .loc[row_indexer,col_indexer] = value instead\n",
      "\n",
      "See the caveats in the documentation: http://pandas.pydata.org/pandas-docs/stable/indexing.html#indexing-view-versus-copy\n"
     ]
    }
   ],
   "source": [
    "abstract_text = []\n",
    "\n",
    "paper_text = []\n",
    "\n",
    "for index, row in df_100.iterrows():\n",
    "    \n",
    "    print(row['paper_url'], index)\n",
    "    \n",
    "    # adds abstract text to list\n",
    "    abs_url = row['paper_abs']\n",
    "    html_doc = requests.get(abs_url).content\n",
    "    soup = BeautifulSoup(html_doc, 'html.parser')\n",
    "    abstract = soup.find('blockquote', attrs={'class':'abstract mathjax'})\n",
    "    abstract_text.append(abstract.text)\n",
    "    \n",
    "    # adds paper text to list\n",
    "    content = parser.from_file(row['paper_url'])\n",
    "#     text = content['content']\n",
    "    text = re.sub(r'\\[[0-9]*\\]', ' ', str(content['content']))  \n",
    "    text = re.sub(r'\\s+', ' ', text)\n",
    "    paper_text.append(text)\n",
    "    \n",
    "df_100['abstract'] = abstract_text\n",
    "df_100['paper_text'] = paper_text"
   ]
  },
  {
   "cell_type": "markdown",
   "metadata": {},
   "source": [
    "##  Remove unneccessary columns"
   ]
  },
  {
   "cell_type": "code",
   "execution_count": 4,
   "metadata": {},
   "outputs": [
    {
     "data": {
      "text/html": [
       "<div>\n",
       "<style scoped>\n",
       "    .dataframe tbody tr th:only-of-type {\n",
       "        vertical-align: middle;\n",
       "    }\n",
       "\n",
       "    .dataframe tbody tr th {\n",
       "        vertical-align: top;\n",
       "    }\n",
       "\n",
       "    .dataframe thead th {\n",
       "        text-align: right;\n",
       "    }\n",
       "</style>\n",
       "<table border=\"1\" class=\"dataframe\">\n",
       "  <thead>\n",
       "    <tr style=\"text-align: right;\">\n",
       "      <th></th>\n",
       "      <th>paper_title</th>\n",
       "      <th>paper_url</th>\n",
       "      <th>task</th>\n",
       "      <th>dataset</th>\n",
       "      <th>metric_name</th>\n",
       "      <th>metric_value</th>\n",
       "      <th>model</th>\n",
       "      <th>paper_abs</th>\n",
       "      <th>abstract</th>\n",
       "      <th>paper_text</th>\n",
       "    </tr>\n",
       "  </thead>\n",
       "  <tbody>\n",
       "    <tr>\n",
       "      <th>0</th>\n",
       "      <td>Detecting Oriented Text in Natural Images by L...</td>\n",
       "      <td>https://arxiv.org/pdf/1703.06520v3.pdf</td>\n",
       "      <td>Scene Text Detection</td>\n",
       "      <td>IC15</td>\n",
       "      <td>F-Measure</td>\n",
       "      <td>75.61%</td>\n",
       "      <td>SegLink</td>\n",
       "      <td>https://arxiv.org/abs/1703.06520v3.pdf</td>\n",
       "      <td>Abstract:  Most state-of-the-art text detectio...</td>\n",
       "      <td>Detecting Oriented Text in Natural Images by ...</td>\n",
       "    </tr>\n",
       "  </tbody>\n",
       "</table>\n",
       "</div>"
      ],
      "text/plain": [
       "                                         paper_title  \\\n",
       "0  Detecting Oriented Text in Natural Images by L...   \n",
       "\n",
       "                                paper_url                  task dataset  \\\n",
       "0  https://arxiv.org/pdf/1703.06520v3.pdf  Scene Text Detection    IC15   \n",
       "\n",
       "  metric_name metric_value    model                               paper_abs  \\\n",
       "0   F-Measure       75.61%  SegLink  https://arxiv.org/abs/1703.06520v3.pdf   \n",
       "\n",
       "                                            abstract  \\\n",
       "0  Abstract:  Most state-of-the-art text detectio...   \n",
       "\n",
       "                                          paper_text  \n",
       "0   Detecting Oriented Text in Natural Images by ...  "
      ]
     },
     "execution_count": 4,
     "metadata": {},
     "output_type": "execute_result"
    }
   ],
   "source": [
    "# df_100 = df_100[['paper_title', 'paper_url', 'paper_abs', 'abstract', 'paper_text']]\n",
    "df_100 = df_100[['paper_title', 'paper_url', 'task', 'dataset', 'metric_name', 'metric_value', 'model', 'paper_abs', 'abstract', 'paper_text']]\n",
    "\n",
    "df_100.head(1)"
   ]
  },
  {
   "cell_type": "code",
   "execution_count": 5,
   "metadata": {},
   "outputs": [
    {
     "data": {
      "text/plain": [
       "100"
      ]
     },
     "execution_count": 5,
     "metadata": {},
     "output_type": "execute_result"
    }
   ],
   "source": [
    "len(df_100)"
   ]
  },
  {
   "cell_type": "code",
   "execution_count": 6,
   "metadata": {},
   "outputs": [],
   "source": [
    "df_100.to_csv('../data/gpt-2_data_100.csv', index=False)"
   ]
  },
  {
   "cell_type": "code",
   "execution_count": null,
   "metadata": {
    "collapsed": true
   },
   "outputs": [],
   "source": []
  }
 ],
 "metadata": {
  "kernelspec": {
   "display_name": "gpt-2-model",
   "language": "python",
   "name": "gpt-2-model"
  },
  "language_info": {
   "codemirror_mode": {
    "name": "ipython",
    "version": 3
   },
   "file_extension": ".py",
   "mimetype": "text/x-python",
   "name": "python",
   "nbconvert_exporter": "python",
   "pygments_lexer": "ipython3",
   "version": "3.6.4"
  }
 },
 "nbformat": 4,
 "nbformat_minor": 2
}
